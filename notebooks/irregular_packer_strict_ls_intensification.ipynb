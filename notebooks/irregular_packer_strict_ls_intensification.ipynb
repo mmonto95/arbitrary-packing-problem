{
 "cells": [
  {
   "cell_type": "code",
   "execution_count": 1,
   "metadata": {
    "collapsed": true
   },
   "outputs": [],
   "source": [
    "from shapely.geometry import GeometryCollection\n",
    "\n",
    "from packer import IrregularPackerStrictLSIntensification\n",
    "from tests import ALL_TESTS"
   ]
  },
  {
   "cell_type": "code",
   "execution_count": 2,
   "outputs": [],
   "source": [
    "container = ALL_TESTS[0]['container']\n",
    "shapes = ALL_TESTS[0]['shapes']"
   ],
   "metadata": {
    "collapsed": false
   }
  },
  {
   "cell_type": "code",
   "execution_count": 3,
   "outputs": [
    {
     "data": {
      "text/plain": "  0%|          | 0/10 [00:00<?, ?it/s]",
      "application/vnd.jupyter.widget-view+json": {
       "version_major": 2,
       "version_minor": 0,
       "model_id": "2180e0d6c4774c41b7675ab5dc34c60a"
      }
     },
     "metadata": {},
     "output_type": "display_data"
    },
    {
     "name": "stdout",
     "output_type": "stream",
     "text": [
      "Finished first optimization step\n"
     ]
    },
    {
     "data": {
      "text/plain": "  0%|          | 0/10 [00:00<?, ?it/s]",
      "application/vnd.jupyter.widget-view+json": {
       "version_major": 2,
       "version_minor": 0,
       "model_id": "590a7a0ed52042e2b14d12ee4dd5572e"
      }
     },
     "metadata": {},
     "output_type": "display_data"
    },
    {
     "name": "stdout",
     "output_type": "stream",
     "text": [
      "Finished first optimization step\n"
     ]
    },
    {
     "data": {
      "text/plain": "  0%|          | 0/10 [00:00<?, ?it/s]",
      "application/vnd.jupyter.widget-view+json": {
       "version_major": 2,
       "version_minor": 0,
       "model_id": "5e4c04ede93d4c55aa755c4d4f1a8e3d"
      }
     },
     "metadata": {},
     "output_type": "display_data"
    },
    {
     "name": "stdout",
     "output_type": "stream",
     "text": [
      "Finished first optimization step\n"
     ]
    },
    {
     "data": {
      "text/plain": "  0%|          | 0/10 [00:00<?, ?it/s]",
      "application/vnd.jupyter.widget-view+json": {
       "version_major": 2,
       "version_minor": 0,
       "model_id": "7dc1ab3e4c514791821491c3ff6cb720"
      }
     },
     "metadata": {},
     "output_type": "display_data"
    },
    {
     "name": "stdout",
     "output_type": "stream",
     "text": [
      "Finished first optimization step\n"
     ]
    },
    {
     "data": {
      "text/plain": "  0%|          | 0/10 [00:00<?, ?it/s]",
      "application/vnd.jupyter.widget-view+json": {
       "version_major": 2,
       "version_minor": 0,
       "model_id": "4a5fb2c35eaf43c9af77ab69829c1697"
      }
     },
     "metadata": {},
     "output_type": "display_data"
    },
    {
     "name": "stdout",
     "output_type": "stream",
     "text": [
      "Finished first optimization step\n"
     ]
    },
    {
     "data": {
      "text/plain": "  0%|          | 0/10 [00:00<?, ?it/s]",
      "application/vnd.jupyter.widget-view+json": {
       "version_major": 2,
       "version_minor": 0,
       "model_id": "190f6062e97c477792083657a0b8a199"
      }
     },
     "metadata": {},
     "output_type": "display_data"
    },
    {
     "name": "stdout",
     "output_type": "stream",
     "text": [
      "Finished first optimization step\n"
     ]
    },
    {
     "data": {
      "text/plain": "  0%|          | 0/10 [00:00<?, ?it/s]",
      "application/vnd.jupyter.widget-view+json": {
       "version_major": 2,
       "version_minor": 0,
       "model_id": "fe7b78abe40c40a9b400dad344c0585e"
      }
     },
     "metadata": {},
     "output_type": "display_data"
    },
    {
     "name": "stdout",
     "output_type": "stream",
     "text": [
      "Finished first optimization step\n"
     ]
    },
    {
     "data": {
      "text/plain": "  0%|          | 0/10 [00:00<?, ?it/s]",
      "application/vnd.jupyter.widget-view+json": {
       "version_major": 2,
       "version_minor": 0,
       "model_id": "a9b0560ed0934eee84dfb3da64e187c5"
      }
     },
     "metadata": {},
     "output_type": "display_data"
    },
    {
     "name": "stdout",
     "output_type": "stream",
     "text": [
      "Finished first optimization step\n"
     ]
    },
    {
     "data": {
      "text/plain": "  0%|          | 0/10 [00:00<?, ?it/s]",
      "application/vnd.jupyter.widget-view+json": {
       "version_major": 2,
       "version_minor": 0,
       "model_id": "f2b0ffe2d1044a278604dae4b36e95dc"
      }
     },
     "metadata": {},
     "output_type": "display_data"
    },
    {
     "name": "stdout",
     "output_type": "stream",
     "text": [
      "Finished first optimization step\n"
     ]
    },
    {
     "data": {
      "text/plain": "  0%|          | 0/10 [00:00<?, ?it/s]",
      "application/vnd.jupyter.widget-view+json": {
       "version_major": 2,
       "version_minor": 0,
       "model_id": "d3f5df3fe6544ecc8f3893266ac71863"
      }
     },
     "metadata": {},
     "output_type": "display_data"
    },
    {
     "name": "stdout",
     "output_type": "stream",
     "text": [
      "Finished first optimization step\n"
     ]
    },
    {
     "data": {
      "text/plain": "  0%|          | 0/10 [00:00<?, ?it/s]",
      "application/vnd.jupyter.widget-view+json": {
       "version_major": 2,
       "version_minor": 0,
       "model_id": "1c5ab9e9b5e74aa1b725624c9382283e"
      }
     },
     "metadata": {},
     "output_type": "display_data"
    },
    {
     "name": "stdout",
     "output_type": "stream",
     "text": [
      "CPU times: user 8min 38s, sys: 3.36 s, total: 8min 41s\n",
      "Wall time: 9min 3s\n"
     ]
    }
   ],
   "source": [
    "%%time\n",
    "packer = IrregularPackerStrictLSIntensification(\n",
    "    container,\n",
    "    shapes,\n",
    "    intersection_threshold=40,\n",
    "    max_iter=1000,\n",
    "    shots=5,\n",
    "    n_neighbors=16,\n",
    "    step_portion=16,\n",
    "    queue_length=12,\n",
    "    n_rotations=32,\n",
    "    n_search=10,\n",
    ")\n",
    "df_sol = packer.pack()"
   ],
   "metadata": {
    "collapsed": false
   }
  },
  {
   "cell_type": "code",
   "execution_count": 4,
   "outputs": [
    {
     "name": "stdout",
     "output_type": "stream",
     "text": [
      "Number of items: 12 - Score: 0.667\n"
     ]
    },
    {
     "data": {
      "text/plain": "<shapely.geometry.collection.GeometryCollection at 0x105487af0>",
      "image/svg+xml": "<svg xmlns=\"http://www.w3.org/2000/svg\" xmlns:xlink=\"http://www.w3.org/1999/xlink\" width=\"400.0\" height=\"400.0\" viewBox=\"-0.56 -0.56 1.62 1.12\" preserveAspectRatio=\"xMinYMin meet\"><g transform=\"matrix(1,0,0,-1,0,0.0)\"><g><path fill-rule=\"evenodd\" fill=\"#66cc99\" stroke=\"#555555\" stroke-width=\"0.008100000000000001\" opacity=\"0.6\" d=\"M 1.0,-0.5 L 1.0,0.5 L -0.5,0.5 L -0.5,-0.5 L 1.0,-0.5 z\" /><path fill-rule=\"evenodd\" fill=\"#66cc99\" stroke=\"#555555\" stroke-width=\"0.008100000000000001\" opacity=\"0.6\" d=\"M 0.9195489066903653,0.47241653493579816 L 0.2383701676091492,0.1864376488426447 L 0.2920649049540709,0.2290939666090921 L 0.9195489066903653,0.47241653493579816 z\" /><path fill-rule=\"evenodd\" fill=\"#66cc99\" stroke=\"#555555\" stroke-width=\"0.008100000000000001\" opacity=\"0.6\" d=\"M 0.6066004427352969,0.3022945680450793 L 0.49214039746585064,0.2667707189088564 L 0.09138923759945333,0.006546761601245232 L 0.6066004427352969,0.3022945680450793 z\" /><path fill-rule=\"evenodd\" fill=\"#66cc99\" stroke=\"#555555\" stroke-width=\"0.008100000000000001\" opacity=\"0.6\" d=\"M 0.8153887822340675,0.3370148010050166 L 0.7514827202075873,0.026450015250137793 L 0.7678970162002776,-0.17122181194279518 L 0.8153887822340675,0.3370148010050166 z\" /><path fill-rule=\"evenodd\" fill=\"#66cc99\" stroke=\"#555555\" stroke-width=\"0.008100000000000001\" opacity=\"0.6\" d=\"M 0.4010585525216386,0.30889263138418344 L 0.4238630260514129,0.4909272903922577 L 0.5804213379059826,0.4245027605393355 L 0.4010585525216386,0.30889263138418344 z\" /><path fill-rule=\"evenodd\" fill=\"#66cc99\" stroke=\"#555555\" stroke-width=\"0.008100000000000001\" opacity=\"0.6\" d=\"M 0.07390126773807816,0.39078051705100025 L 0.06991685890128559,0.14772942586768215 L 0.19569254566848415,0.1312649344059497 L 0.07390126773807816,0.39078051705100025 z\" /><path fill-rule=\"evenodd\" fill=\"#66cc99\" stroke=\"#555555\" stroke-width=\"0.008100000000000001\" opacity=\"0.6\" d=\"M -0.4979463901227785,-0.043306626813054194 L -0.40930909561208695,0.3823177740820305 L -0.2705328735631043,0.4769609412509903 L -0.4979463901227785,-0.043306626813054194 z\" /><path fill-rule=\"evenodd\" fill=\"#66cc99\" stroke=\"#555555\" stroke-width=\"0.008100000000000001\" opacity=\"0.6\" d=\"M 0.9305221827723438,-0.04043912377075276 L 0.7828040567535992,-0.12099874451151715 L 0.8605150242472155,0.2761588375265639 L 0.9305221827723438,-0.04043912377075276 z\" /><path fill-rule=\"evenodd\" fill=\"#66cc99\" stroke=\"#555555\" stroke-width=\"0.008100000000000001\" opacity=\"0.6\" d=\"M -0.11166623042131898,0.36254815145779556 L 0.3351146863802106,0.43181770909178385 L -0.24625485507811196,0.49359794934944734 L -0.11166623042131898,0.36254815145779556 z\" /><path fill-rule=\"evenodd\" fill=\"#66cc99\" stroke=\"#555555\" stroke-width=\"0.008100000000000001\" opacity=\"0.6\" d=\"M -0.23721462616190142,-0.3324437849276255 L -0.09502458775849615,0.029576927831284516 L -0.3964513434552193,-0.02077624392302918 L -0.23721462616190142,-0.3324437849276255 z\" /><path fill-rule=\"evenodd\" fill=\"#66cc99\" stroke=\"#555555\" stroke-width=\"0.008100000000000001\" opacity=\"0.6\" d=\"M 0.9300276968279386,-0.1670849505367663 L 0.45141946432353625,-0.33807553296079795 L 0.9975408086470656,-0.34228969801299547 L 0.9804458810259228,-0.0690845928513204 L 0.9300276968279386,-0.1670849505367663 z\" /><path fill-rule=\"evenodd\" fill=\"#66cc99\" stroke=\"#555555\" stroke-width=\"0.008100000000000001\" opacity=\"0.6\" d=\"M 0.35561588338582206,0.08578749619299608 L 0.2063276872680917,-0.16229598125659428 L 0.7558978052542558,-0.11280062075048014 L 0.5155489378779792,0.21603751426124185 L 0.35561588338582206,0.08578749619299608 z\" /><path fill-rule=\"evenodd\" fill=\"#66cc99\" stroke=\"#555555\" stroke-width=\"0.008100000000000001\" opacity=\"0.6\" d=\"M -0.07198407131505602,-0.3825021589639835 L -0.19778467426567692,-0.4484462859126436 L -0.04154732709052045,0.10962569863574745 L 0.25573447298929347,-0.27555362838099484 L 0.46641749255240805,-0.4394470967178764 L -0.07198407131505602,-0.3825021589639835 z\" /></g></g></svg>"
     },
     "execution_count": 4,
     "metadata": {},
     "output_type": "execute_result"
    }
   ],
   "source": [
    "print('Number of items:', len(df_sol), '- Score:', round(packer.score(), 3))\n",
    "GeometryCollection([container, *df_sol['item']])"
   ],
   "metadata": {
    "collapsed": false
   }
  },
  {
   "cell_type": "code",
   "execution_count": null,
   "outputs": [],
   "source": [
    "container = ALL_TESTS[1]['container']\n",
    "shapes = ALL_TESTS[1]['shapes']"
   ],
   "metadata": {
    "collapsed": false
   }
  },
  {
   "cell_type": "code",
   "execution_count": null,
   "outputs": [],
   "source": [
    "%%time\n",
    "packer = IrregularPackerStrictLSIntensification(\n",
    "    container,\n",
    "    shapes,\n",
    "    intersection_threshold=40,\n",
    "    max_iter=1000,\n",
    "    shots=5,\n",
    "    n_neighbors=16,\n",
    "    step_portion=16,\n",
    "    queue_length=12,\n",
    "    n_rotations=32,\n",
    "    n_search=10,\n",
    ")\n",
    "df_sol = packer.pack()"
   ],
   "metadata": {
    "collapsed": false
   }
  },
  {
   "cell_type": "code",
   "execution_count": null,
   "outputs": [],
   "source": [
    "print('Number of items:', len(df_sol), '- Score:', round(packer.score(), 3))\n",
    "GeometryCollection([container, *df_sol['item']])"
   ],
   "metadata": {
    "collapsed": false,
    "pycharm": {
     "is_executing": true
    }
   }
  },
  {
   "cell_type": "code",
   "execution_count": 5,
   "outputs": [],
   "source": [
    "container = ALL_TESTS[2]['container']\n",
    "shapes = ALL_TESTS[2]['shapes']"
   ],
   "metadata": {
    "collapsed": false
   }
  },
  {
   "cell_type": "code",
   "execution_count": 6,
   "outputs": [
    {
     "data": {
      "text/plain": "  0%|          | 0/10 [00:00<?, ?it/s]",
      "application/vnd.jupyter.widget-view+json": {
       "version_major": 2,
       "version_minor": 0,
       "model_id": "76b9dca89cea44c681909dd1400e3972"
      }
     },
     "metadata": {},
     "output_type": "display_data"
    },
    {
     "name": "stdout",
     "output_type": "stream",
     "text": [
      "Finished first optimization step\n"
     ]
    },
    {
     "data": {
      "text/plain": "  0%|          | 0/10 [00:00<?, ?it/s]",
      "application/vnd.jupyter.widget-view+json": {
       "version_major": 2,
       "version_minor": 0,
       "model_id": "8d9dbf85107e4aa992e8ff702b239871"
      }
     },
     "metadata": {},
     "output_type": "display_data"
    },
    {
     "name": "stdout",
     "output_type": "stream",
     "text": [
      "Finished first optimization step\n"
     ]
    },
    {
     "data": {
      "text/plain": "  0%|          | 0/10 [00:00<?, ?it/s]",
      "application/vnd.jupyter.widget-view+json": {
       "version_major": 2,
       "version_minor": 0,
       "model_id": "0de499248e434215b856d8cb2abc40fb"
      }
     },
     "metadata": {},
     "output_type": "display_data"
    },
    {
     "name": "stdout",
     "output_type": "stream",
     "text": [
      "Finished first optimization step\n"
     ]
    },
    {
     "data": {
      "text/plain": "  0%|          | 0/10 [00:00<?, ?it/s]",
      "application/vnd.jupyter.widget-view+json": {
       "version_major": 2,
       "version_minor": 0,
       "model_id": "0b70f910cd28482891199a16921c7c0c"
      }
     },
     "metadata": {},
     "output_type": "display_data"
    },
    {
     "name": "stdout",
     "output_type": "stream",
     "text": [
      "Finished first optimization step\n"
     ]
    },
    {
     "data": {
      "text/plain": "  0%|          | 0/10 [00:00<?, ?it/s]",
      "application/vnd.jupyter.widget-view+json": {
       "version_major": 2,
       "version_minor": 0,
       "model_id": "c7d9beec4f0f454d86100e17b1bc5d3d"
      }
     },
     "metadata": {},
     "output_type": "display_data"
    },
    {
     "name": "stdout",
     "output_type": "stream",
     "text": [
      "Finished first optimization step\n"
     ]
    },
    {
     "data": {
      "text/plain": "  0%|          | 0/10 [00:00<?, ?it/s]",
      "application/vnd.jupyter.widget-view+json": {
       "version_major": 2,
       "version_minor": 0,
       "model_id": "4ab4442c25144687b45b213a8cc9e84d"
      }
     },
     "metadata": {},
     "output_type": "display_data"
    },
    {
     "name": "stdout",
     "output_type": "stream",
     "text": [
      "Finished first optimization step\n"
     ]
    },
    {
     "data": {
      "text/plain": "  0%|          | 0/10 [00:00<?, ?it/s]",
      "application/vnd.jupyter.widget-view+json": {
       "version_major": 2,
       "version_minor": 0,
       "model_id": "41101826a5a54733b6876e58f16b319d"
      }
     },
     "metadata": {},
     "output_type": "display_data"
    },
    {
     "name": "stdout",
     "output_type": "stream",
     "text": [
      "Finished first optimization step\n"
     ]
    },
    {
     "data": {
      "text/plain": "  0%|          | 0/10 [00:00<?, ?it/s]",
      "application/vnd.jupyter.widget-view+json": {
       "version_major": 2,
       "version_minor": 0,
       "model_id": "6de2715723874156a2d9f77dda775bac"
      }
     },
     "metadata": {},
     "output_type": "display_data"
    },
    {
     "name": "stdout",
     "output_type": "stream",
     "text": [
      "Finished first optimization step\n"
     ]
    },
    {
     "data": {
      "text/plain": "  0%|          | 0/10 [00:00<?, ?it/s]",
      "application/vnd.jupyter.widget-view+json": {
       "version_major": 2,
       "version_minor": 0,
       "model_id": "5dce422bbf744ddcac458c6728d19fc4"
      }
     },
     "metadata": {},
     "output_type": "display_data"
    },
    {
     "name": "stdout",
     "output_type": "stream",
     "text": [
      "Finished first optimization step\n"
     ]
    },
    {
     "data": {
      "text/plain": "  0%|          | 0/10 [00:00<?, ?it/s]",
      "application/vnd.jupyter.widget-view+json": {
       "version_major": 2,
       "version_minor": 0,
       "model_id": "3784bae1611b475892ec2240fadc2fed"
      }
     },
     "metadata": {},
     "output_type": "display_data"
    },
    {
     "name": "stdout",
     "output_type": "stream",
     "text": [
      "Finished first optimization step\n"
     ]
    },
    {
     "data": {
      "text/plain": "  0%|          | 0/10 [00:00<?, ?it/s]",
      "application/vnd.jupyter.widget-view+json": {
       "version_major": 2,
       "version_minor": 0,
       "model_id": "21f3d21a9c5e4328ae574cc86eaf6958"
      }
     },
     "metadata": {},
     "output_type": "display_data"
    },
    {
     "name": "stdout",
     "output_type": "stream",
     "text": [
      "CPU times: user 6min 30s, sys: 2.4 s, total: 6min 32s\n",
      "Wall time: 6min 45s\n"
     ]
    }
   ],
   "source": [
    "%%time\n",
    "packer = IrregularPackerStrictLSIntensification(\n",
    "    container,\n",
    "    shapes,\n",
    "    intersection_threshold=40,\n",
    "    max_iter=1000,\n",
    "    shots=5,\n",
    "    n_neighbors=16,\n",
    "    step_portion=16,\n",
    "    queue_length=12,\n",
    "    n_rotations=32,\n",
    "    n_search=10,\n",
    ")\n",
    "df_sol = packer.pack()"
   ],
   "metadata": {
    "collapsed": false
   }
  },
  {
   "cell_type": "code",
   "execution_count": 7,
   "outputs": [
    {
     "name": "stdout",
     "output_type": "stream",
     "text": [
      "Number of items: 5 - Score: 0.68\n"
     ]
    },
    {
     "data": {
      "text/plain": "<shapely.geometry.collection.GeometryCollection at 0x1249ccd00>",
      "image/svg+xml": "<svg xmlns=\"http://www.w3.org/2000/svg\" xmlns:xlink=\"http://www.w3.org/1999/xlink\" width=\"400.0\" height=\"400.0\" viewBox=\"-0.56 -0.56 1.62 1.12\" preserveAspectRatio=\"xMinYMin meet\"><g transform=\"matrix(1,0,0,-1,0,0.0)\"><g><path fill-rule=\"evenodd\" fill=\"#66cc99\" stroke=\"#555555\" stroke-width=\"0.008100000000000001\" opacity=\"0.6\" d=\"M -0.5,-0.5 L -0.5,0.5 L 1.0,0.5 L 1.0,-0.5 L -0.5,-0.5 z M 0.5485554180016591,0.029405142098868152 L 0.5442355841209691,0.05852709660483861 L 0.5370821007196627,0.08708540317633874 L 0.5271638597533859,0.1148050297095271 L 0.5145763793045064,0.14141902104779938 L 0.49944088369076356,0.16667106990588065 L 0.48190313600882095,0.19031798524909377 L 0.46213203435596417,0.2121320343559643 L 0.4403179852490937,0.23190313600882106 L 0.41667106990588054,0.24944088369076362 L 0.39141902104779924,0.2645763793045065 L 0.364805029709527,0.277163859753386 L 0.3370854031763386,0.28708210071966267 L 0.30852709660483846,0.2942355841209691 L 0.279405142098868,0.2985554180016591 L 0.24999999999999994,0.3 L 0.22059485790113187,0.2985554180016591 L 0.1914729033951614,0.29423558412096906 L 0.16291459682366127,0.2870821007196626 L 0.1351949702904729,0.2771638597533859 L 0.10858097895220062,0.26457637930450645 L 0.08332893009411935,0.24944088369076356 L 0.05968201475090626,0.23190313600882098 L 0.03786796564403569,0.21213203435596423 L 0.01809686399117888,0.19031798524909357 L 0.0005591163092363849,0.16667106990588057 L -0.014576379304506504,0.1414190210477993 L -0.027163859753386033,0.1148050297095269 L -0.03708210071966267,0.08708540317633863 L -0.04423558412096912,0.058527096604838506 L -0.04855541800165908,0.029405142098868176 L -0.04999999999999999,-3.6739403974420595e-17 L -0.04855541800165902,-0.029405142098868246 L -0.04423558412096912,-0.05852709660483858 L -0.037082100719662614,-0.08708540317633871 L -0.027163859753386033,-0.11480502970952697 L -0.014576379304506448,-0.14141902104779935 L 0.0005591163092364126,-0.16667106990588065 L 0.018096863991178908,-0.19031798524909363 L 0.03786796564403577,-0.21213203435596426 L 0.0596820147509064,-0.23190313600882112 L 0.08332893009411943,-0.2494408836907636 L 0.1085809789522007,-0.2645763793045065 L 0.1351949702904731,-0.27716385975338603 L 0.16291459682366136,-0.28708210071966267 L 0.19147290339516154,-0.2942355841209691 L 0.2205948579011318,-0.2985554180016591 L 0.25,-0.3 L 0.27940514209886824,-0.298555418001659 L 0.3085270966048385,-0.2942355841209691 L 0.3370854031763387,-0.2870821007196626 L 0.36480502970952694,-0.27716385975338603 L 0.39141902104779935,-0.26457637930450645 L 0.41667106990588065,-0.24944088369076356 L 0.4403179852490936,-0.2319031360088211 L 0.4621320343559643,-0.21213203435596423 L 0.48190313600882106,-0.19031798524909363 L 0.49944088369076356,-0.16667106990588065 L 0.5145763793045065,-0.1414190210477993 L 0.5271638597533861,-0.11480502970952693 L 0.5370821007196627,-0.0870854031763387 L 0.5442355841209692,-0.05852709660483847 L 0.5485554180016591,-0.02940514209886818 L 0.55,0.0 L 0.5485554180016591,0.029405142098868152 z\" /><path fill-rule=\"evenodd\" fill=\"#66cc99\" stroke=\"#555555\" stroke-width=\"0.008100000000000001\" opacity=\"0.6\" d=\"M 0.12218334368783604,0.4014984437856445 L 0.06730048438999794,0.2660570992530268 L 0.4283466876469588,0.43522214167925977 L 0.12218334368783604,0.4014984437856445 z\" /><path fill-rule=\"evenodd\" fill=\"#66cc99\" stroke=\"#555555\" stroke-width=\"0.008100000000000001\" opacity=\"0.6\" d=\"M 0.6274788794104273,-0.16434763800267432 L 0.41370290810210053,0.48353837218705764 L 0.7557363359527426,0.19848544063625706 L 0.6274788794104273,-0.16434763800267432 z\" /><path fill-rule=\"evenodd\" fill=\"#66cc99\" stroke=\"#555555\" stroke-width=\"0.008100000000000001\" opacity=\"0.6\" d=\"M 0.18604084262344722,-0.4525660417971833 L 0.7538203858853247,-0.15835810626148306 L 0.9036413210457426,-0.3799053065509679 L 0.18604084262344722,-0.4525660417971833 z\" /><path fill-rule=\"evenodd\" fill=\"#66cc99\" stroke=\"#555555\" stroke-width=\"0.008100000000000001\" opacity=\"0.6\" d=\"M -0.38213408275464644,-0.063910787158589 L -0.14089835147909777,-0.056586344172122716 L -0.3437960174748419,0.0016296460989626005 L 0.12459897493035119,0.47348418502336836 L -0.1827626735200502,0.4974675214354805 L -0.38213408275464644,-0.063910787158589 z\" /><path fill-rule=\"evenodd\" fill=\"#66cc99\" stroke=\"#555555\" stroke-width=\"0.008100000000000001\" opacity=\"0.6\" d=\"M 0.76583015231799,0.49863013055112376 L 0.9389645664057824,0.3550588817229423 L 0.9593872479942662,-0.4705718493356253 L 0.8183333365481715,-0.2245688923399824 L 0.76583015231799,0.49863013055112376 z\" /></g></g></svg>"
     },
     "execution_count": 7,
     "metadata": {},
     "output_type": "execute_result"
    }
   ],
   "source": [
    "print('Number of items:', len(df_sol), '- Score:', round(packer.score(), 3))\n",
    "GeometryCollection([container, *df_sol['item']])"
   ],
   "metadata": {
    "collapsed": false
   }
  },
  {
   "cell_type": "code",
   "execution_count": null,
   "outputs": [],
   "source": [
    "container = ALL_TESTS[3]['container']\n",
    "shapes = ALL_TESTS[3]['shapes']"
   ],
   "metadata": {
    "collapsed": false
   }
  },
  {
   "cell_type": "code",
   "execution_count": null,
   "outputs": [],
   "source": [
    "%%time\n",
    "packer = IrregularPackerStrictLSIntensification(\n",
    "    container,\n",
    "    shapes,\n",
    "    intersection_threshold=40,\n",
    "    max_iter=1000,\n",
    "    shots=5,\n",
    "    n_neighbors=16,\n",
    "    step_portion=16,\n",
    "    queue_length=12,\n",
    "    n_rotations=32,\n",
    "    n_search=10,\n",
    ")\n",
    "df_sol = packer.pack()"
   ],
   "metadata": {
    "collapsed": false
   }
  },
  {
   "cell_type": "code",
   "execution_count": null,
   "outputs": [],
   "source": [
    "print('Number of items:', len(df_sol), '- Score:', round(packer.score(), 3))\n",
    "GeometryCollection([container, *df_sol['item']])"
   ],
   "metadata": {
    "collapsed": false
   }
  },
  {
   "cell_type": "code",
   "execution_count": 8,
   "outputs": [],
   "source": [
    "container = ALL_TESTS[4]['container']\n",
    "shapes = ALL_TESTS[4]['shapes']"
   ],
   "metadata": {
    "collapsed": false
   }
  },
  {
   "cell_type": "code",
   "execution_count": 9,
   "outputs": [
    {
     "data": {
      "text/plain": "  0%|          | 0/10 [00:00<?, ?it/s]",
      "application/vnd.jupyter.widget-view+json": {
       "version_major": 2,
       "version_minor": 0,
       "model_id": "32a52b7db14e4f0094c80a7d607cbeb9"
      }
     },
     "metadata": {},
     "output_type": "display_data"
    },
    {
     "name": "stdout",
     "output_type": "stream",
     "text": [
      "Finished first optimization step\n"
     ]
    },
    {
     "data": {
      "text/plain": "  0%|          | 0/10 [00:00<?, ?it/s]",
      "application/vnd.jupyter.widget-view+json": {
       "version_major": 2,
       "version_minor": 0,
       "model_id": "bd24ffae95a5498ea608101c305fe873"
      }
     },
     "metadata": {},
     "output_type": "display_data"
    },
    {
     "name": "stdout",
     "output_type": "stream",
     "text": [
      "Finished first optimization step\n"
     ]
    },
    {
     "data": {
      "text/plain": "  0%|          | 0/10 [00:00<?, ?it/s]",
      "application/vnd.jupyter.widget-view+json": {
       "version_major": 2,
       "version_minor": 0,
       "model_id": "ab4a8a727e714fc0a8f6a26216a1633c"
      }
     },
     "metadata": {},
     "output_type": "display_data"
    },
    {
     "name": "stdout",
     "output_type": "stream",
     "text": [
      "Finished first optimization step\n"
     ]
    },
    {
     "data": {
      "text/plain": "  0%|          | 0/10 [00:00<?, ?it/s]",
      "application/vnd.jupyter.widget-view+json": {
       "version_major": 2,
       "version_minor": 0,
       "model_id": "49513c1a916d49f28c4418ec82eef153"
      }
     },
     "metadata": {},
     "output_type": "display_data"
    },
    {
     "name": "stdout",
     "output_type": "stream",
     "text": [
      "Finished first optimization step\n"
     ]
    },
    {
     "data": {
      "text/plain": "  0%|          | 0/10 [00:00<?, ?it/s]",
      "application/vnd.jupyter.widget-view+json": {
       "version_major": 2,
       "version_minor": 0,
       "model_id": "26f668a603f8452592a41cd9b8e0b18e"
      }
     },
     "metadata": {},
     "output_type": "display_data"
    },
    {
     "name": "stdout",
     "output_type": "stream",
     "text": [
      "Finished first optimization step\n"
     ]
    },
    {
     "data": {
      "text/plain": "  0%|          | 0/10 [00:00<?, ?it/s]",
      "application/vnd.jupyter.widget-view+json": {
       "version_major": 2,
       "version_minor": 0,
       "model_id": "20c7a0b46748487ca476c72d51cab421"
      }
     },
     "metadata": {},
     "output_type": "display_data"
    },
    {
     "name": "stdout",
     "output_type": "stream",
     "text": [
      "Finished first optimization step\n"
     ]
    },
    {
     "data": {
      "text/plain": "  0%|          | 0/10 [00:00<?, ?it/s]",
      "application/vnd.jupyter.widget-view+json": {
       "version_major": 2,
       "version_minor": 0,
       "model_id": "a2e179f2a44c403293e23de1827ebc82"
      }
     },
     "metadata": {},
     "output_type": "display_data"
    },
    {
     "name": "stdout",
     "output_type": "stream",
     "text": [
      "Finished first optimization step\n"
     ]
    },
    {
     "data": {
      "text/plain": "  0%|          | 0/10 [00:00<?, ?it/s]",
      "application/vnd.jupyter.widget-view+json": {
       "version_major": 2,
       "version_minor": 0,
       "model_id": "53314b494c91433da6f5e62308c48159"
      }
     },
     "metadata": {},
     "output_type": "display_data"
    },
    {
     "name": "stdout",
     "output_type": "stream",
     "text": [
      "Finished first optimization step\n"
     ]
    },
    {
     "data": {
      "text/plain": "  0%|          | 0/10 [00:00<?, ?it/s]",
      "application/vnd.jupyter.widget-view+json": {
       "version_major": 2,
       "version_minor": 0,
       "model_id": "dfb6939147344691a49482dcd94c2450"
      }
     },
     "metadata": {},
     "output_type": "display_data"
    },
    {
     "name": "stdout",
     "output_type": "stream",
     "text": [
      "Finished first optimization step\n"
     ]
    },
    {
     "data": {
      "text/plain": "  0%|          | 0/10 [00:00<?, ?it/s]",
      "application/vnd.jupyter.widget-view+json": {
       "version_major": 2,
       "version_minor": 0,
       "model_id": "6dd6f56f44e64ba3a6fe1b96a6f35ec1"
      }
     },
     "metadata": {},
     "output_type": "display_data"
    },
    {
     "name": "stdout",
     "output_type": "stream",
     "text": [
      "Finished first optimization step\n"
     ]
    },
    {
     "data": {
      "text/plain": "  0%|          | 0/10 [00:00<?, ?it/s]",
      "application/vnd.jupyter.widget-view+json": {
       "version_major": 2,
       "version_minor": 0,
       "model_id": "12d99d4de85c432baef6653df22e276a"
      }
     },
     "metadata": {},
     "output_type": "display_data"
    },
    {
     "name": "stdout",
     "output_type": "stream",
     "text": [
      "CPU times: user 6min 13s, sys: 1.84 s, total: 6min 15s\n",
      "Wall time: 6min 22s\n"
     ]
    }
   ],
   "source": [
    "%%time\n",
    "packer = IrregularPackerStrictLSIntensification(\n",
    "    container,\n",
    "    shapes,\n",
    "    intersection_threshold=40,\n",
    "    max_iter=1000,\n",
    "    shots=5,\n",
    "    n_neighbors=16,\n",
    "    step_portion=16,\n",
    "    queue_length=12,\n",
    "    n_rotations=32,\n",
    "    n_search=10,\n",
    ")\n",
    "df_sol = packer.pack()"
   ],
   "metadata": {
    "collapsed": false
   }
  },
  {
   "cell_type": "code",
   "execution_count": 10,
   "outputs": [
    {
     "name": "stdout",
     "output_type": "stream",
     "text": [
      "Number of items: 8 - Score: 0.601\n"
     ]
    },
    {
     "data": {
      "text/plain": "<shapely.geometry.collection.GeometryCollection at 0x124b16100>",
      "image/svg+xml": "<svg xmlns=\"http://www.w3.org/2000/svg\" xmlns:xlink=\"http://www.w3.org/1999/xlink\" width=\"400.0\" height=\"400.0\" viewBox=\"-0.56 -0.56 1.62 1.32\" preserveAspectRatio=\"xMinYMin meet\"><g transform=\"matrix(1,0,0,-1,0,0.19999999999999996)\"><g><path fill-rule=\"evenodd\" fill=\"#66cc99\" stroke=\"#555555\" stroke-width=\"0.008100000000000001\" opacity=\"0.6\" d=\"M -0.5,-0.5 L 0.2,0.2 L 0.8,0.2 L 0.6,0.6 L 1.0,0.6 L 1.0,0.7 L 0.0,0.7 L -0.5,0.5 L -0.2,0.0 L -0.5,-0.5 z\" /><path fill-rule=\"evenodd\" fill=\"#66cc99\" stroke=\"#555555\" stroke-width=\"0.008100000000000001\" opacity=\"0.6\" d=\"M 0.7456373827511322,0.2843456434046656 L 0.5991567571868569,0.32925720512032397 L 0.429020636759867,0.4128152261835044 L 0.7456373827511322,0.2843456434046656 z\" /><path fill-rule=\"evenodd\" fill=\"#66cc99\" stroke=\"#555555\" stroke-width=\"0.008100000000000001\" opacity=\"0.6\" d=\"M 0.5815949161036531,0.37892894529423704 L 0.285191274875986,0.4915315757328128 L 0.08743092286400572,0.506842472206435 L 0.5815949161036531,0.37892894529423704 z\" /><path fill-rule=\"evenodd\" fill=\"#66cc99\" stroke=\"#555555\" stroke-width=\"0.008100000000000001\" opacity=\"0.6\" d=\"M 0.5865873343455628,0.24190646682080663 L 0.4209210400838656,0.21362503334214922 L 0.3374958125894983,0.3256088123062296 L 0.5865873343455628,0.24190646682080663 z\" /><path fill-rule=\"evenodd\" fill=\"#66cc99\" stroke=\"#555555\" stroke-width=\"0.008100000000000001\" opacity=\"0.6\" d=\"M -0.01957870373195869,0.6131363849337248 L 0.08815615722012238,0.6949901268429292 L 0.6062105449520985,0.6772127382833801 L -0.01957870373195869,0.6131363849337248 z\" /><path fill-rule=\"evenodd\" fill=\"#66cc99\" stroke=\"#555555\" stroke-width=\"0.008100000000000001\" opacity=\"0.6\" d=\"M -0.23271488076774338,0.4437920707305846 L -0.18020407607188443,-0.026730801070246724 L -0.3948945423368084,0.5327743772963305 L -0.23271488076774338,0.4437920707305846 z\" /><path fill-rule=\"evenodd\" fill=\"#66cc99\" stroke=\"#555555\" stroke-width=\"0.008100000000000001\" opacity=\"0.6\" d=\"M 0.33246859375365434,0.31453551275873487 L -0.32408921007444486,0.4972272458660249 L 0.04832183188426353,0.5260263866042927 L 0.33246859375365434,0.31453551275873487 z\" /><path fill-rule=\"evenodd\" fill=\"#66cc99\" stroke=\"#555555\" stroke-width=\"0.008100000000000001\" opacity=\"0.6\" d=\"M -0.22942734533116188,0.44949763782395646 L 0.3306570057166717,0.26746228308678244 L 0.03153229455988364,0.13877291345893217 L -0.22942734533116188,0.44949763782395646 z\" /><path fill-rule=\"evenodd\" fill=\"#66cc99\" stroke=\"#555555\" stroke-width=\"0.008100000000000001\" opacity=\"0.6\" d=\"M 0.4015981384100925,0.6290019066901271 L -0.1903185459173683,0.5900406776265432 L 0.6637458014205042,0.4234658542344385 L 0.5583984237659876,0.6350225485090104 L 0.4015981384100925,0.6290019066901271 z\" /></g></g></svg>"
     },
     "execution_count": 10,
     "metadata": {},
     "output_type": "execute_result"
    }
   ],
   "source": [
    "print('Number of items:', len(df_sol), '- Score:', round(packer.score(), 3))\n",
    "GeometryCollection([container, *df_sol['item']])"
   ],
   "metadata": {
    "collapsed": false
   }
  },
  {
   "cell_type": "code",
   "execution_count": null,
   "outputs": [],
   "source": [
    "container = ALL_TESTS[5]['container']\n",
    "shapes = ALL_TESTS[5]['shapes']"
   ],
   "metadata": {
    "collapsed": false
   }
  },
  {
   "cell_type": "code",
   "execution_count": null,
   "outputs": [],
   "source": [
    "%%time\n",
    "packer = IrregularPackerStrictLSIntensification(\n",
    "    container,\n",
    "    shapes,\n",
    "    intersection_threshold=40,\n",
    "    max_iter=1000,\n",
    "    shots=5,\n",
    "    n_neighbors=16,\n",
    "    step_portion=16,\n",
    "    queue_length=12,\n",
    "    n_rotations=32,\n",
    "    n_search=10,\n",
    ")\n",
    "df_sol = packer.pack()"
   ],
   "metadata": {
    "collapsed": false
   }
  },
  {
   "cell_type": "code",
   "execution_count": null,
   "outputs": [],
   "source": [
    "print('Number of items:', len(df_sol), '- Score:', round(packer.score(), 3))\n",
    "GeometryCollection([container, *df_sol['item']])"
   ],
   "metadata": {
    "collapsed": false
   }
  },
  {
   "cell_type": "code",
   "execution_count": 11,
   "outputs": [],
   "source": [
    "container = ALL_TESTS[6]['container']\n",
    "shapes = ALL_TESTS[6]['shapes']"
   ],
   "metadata": {
    "collapsed": false
   }
  },
  {
   "cell_type": "code",
   "execution_count": 12,
   "outputs": [
    {
     "data": {
      "text/plain": "  0%|          | 0/10 [00:00<?, ?it/s]",
      "application/vnd.jupyter.widget-view+json": {
       "version_major": 2,
       "version_minor": 0,
       "model_id": "e5b3d35076af491bab27d657b87e317d"
      }
     },
     "metadata": {},
     "output_type": "display_data"
    },
    {
     "name": "stdout",
     "output_type": "stream",
     "text": [
      "Finished first optimization step\n"
     ]
    },
    {
     "data": {
      "text/plain": "  0%|          | 0/10 [00:00<?, ?it/s]",
      "application/vnd.jupyter.widget-view+json": {
       "version_major": 2,
       "version_minor": 0,
       "model_id": "cb89f4e061624afea26600e0f8075d2a"
      }
     },
     "metadata": {},
     "output_type": "display_data"
    },
    {
     "name": "stdout",
     "output_type": "stream",
     "text": [
      "Finished first optimization step\n"
     ]
    },
    {
     "data": {
      "text/plain": "  0%|          | 0/10 [00:00<?, ?it/s]",
      "application/vnd.jupyter.widget-view+json": {
       "version_major": 2,
       "version_minor": 0,
       "model_id": "d3e319430cd84647993199a8513e0015"
      }
     },
     "metadata": {},
     "output_type": "display_data"
    },
    {
     "name": "stdout",
     "output_type": "stream",
     "text": [
      "Finished first optimization step\n"
     ]
    },
    {
     "data": {
      "text/plain": "  0%|          | 0/10 [00:00<?, ?it/s]",
      "application/vnd.jupyter.widget-view+json": {
       "version_major": 2,
       "version_minor": 0,
       "model_id": "55e04ccb789c461e81d77da0fc8fbbb3"
      }
     },
     "metadata": {},
     "output_type": "display_data"
    },
    {
     "name": "stdout",
     "output_type": "stream",
     "text": [
      "Finished first optimization step\n"
     ]
    },
    {
     "data": {
      "text/plain": "  0%|          | 0/10 [00:00<?, ?it/s]",
      "application/vnd.jupyter.widget-view+json": {
       "version_major": 2,
       "version_minor": 0,
       "model_id": "6af75222551a49dea59a403c8be8eabe"
      }
     },
     "metadata": {},
     "output_type": "display_data"
    },
    {
     "name": "stdout",
     "output_type": "stream",
     "text": [
      "Finished first optimization step\n"
     ]
    },
    {
     "data": {
      "text/plain": "  0%|          | 0/10 [00:00<?, ?it/s]",
      "application/vnd.jupyter.widget-view+json": {
       "version_major": 2,
       "version_minor": 0,
       "model_id": "4c75f3c30a004335af8452e39b578d50"
      }
     },
     "metadata": {},
     "output_type": "display_data"
    },
    {
     "name": "stdout",
     "output_type": "stream",
     "text": [
      "Finished first optimization step\n"
     ]
    },
    {
     "data": {
      "text/plain": "  0%|          | 0/10 [00:00<?, ?it/s]",
      "application/vnd.jupyter.widget-view+json": {
       "version_major": 2,
       "version_minor": 0,
       "model_id": "6aff880d8d3f4e23930468a3605259a4"
      }
     },
     "metadata": {},
     "output_type": "display_data"
    },
    {
     "name": "stdout",
     "output_type": "stream",
     "text": [
      "Finished first optimization step\n"
     ]
    },
    {
     "data": {
      "text/plain": "  0%|          | 0/10 [00:00<?, ?it/s]",
      "application/vnd.jupyter.widget-view+json": {
       "version_major": 2,
       "version_minor": 0,
       "model_id": "110d9b032bf948179d17ea99bb8b35d6"
      }
     },
     "metadata": {},
     "output_type": "display_data"
    },
    {
     "name": "stdout",
     "output_type": "stream",
     "text": [
      "Finished first optimization step\n"
     ]
    },
    {
     "data": {
      "text/plain": "  0%|          | 0/10 [00:00<?, ?it/s]",
      "application/vnd.jupyter.widget-view+json": {
       "version_major": 2,
       "version_minor": 0,
       "model_id": "f6749406dd7c40bc9ab302b2055b1d33"
      }
     },
     "metadata": {},
     "output_type": "display_data"
    },
    {
     "name": "stdout",
     "output_type": "stream",
     "text": [
      "Finished first optimization step\n"
     ]
    },
    {
     "data": {
      "text/plain": "  0%|          | 0/10 [00:00<?, ?it/s]",
      "application/vnd.jupyter.widget-view+json": {
       "version_major": 2,
       "version_minor": 0,
       "model_id": "524e74b86e9549cb8abcd5d631a5f26d"
      }
     },
     "metadata": {},
     "output_type": "display_data"
    },
    {
     "name": "stdout",
     "output_type": "stream",
     "text": [
      "Finished first optimization step\n"
     ]
    },
    {
     "data": {
      "text/plain": "  0%|          | 0/10 [00:00<?, ?it/s]",
      "application/vnd.jupyter.widget-view+json": {
       "version_major": 2,
       "version_minor": 0,
       "model_id": "590abb383a1241d689b440bb1ec5d1bb"
      }
     },
     "metadata": {},
     "output_type": "display_data"
    },
    {
     "name": "stdout",
     "output_type": "stream",
     "text": [
      "CPU times: user 5min 26s, sys: 1.42 s, total: 5min 28s\n",
      "Wall time: 5min 32s\n"
     ]
    }
   ],
   "source": [
    "%%time\n",
    "packer = IrregularPackerStrictLSIntensification(\n",
    "    container,\n",
    "    shapes,\n",
    "    intersection_threshold=40,\n",
    "    max_iter=1000,\n",
    "    shots=5,\n",
    "    n_neighbors=16,\n",
    "    step_portion=16,\n",
    "    queue_length=12,\n",
    "    n_rotations=32,\n",
    "    n_search=10,\n",
    ")\n",
    "df_sol = packer.pack()"
   ],
   "metadata": {
    "collapsed": false
   }
  },
  {
   "cell_type": "code",
   "execution_count": 13,
   "outputs": [
    {
     "name": "stdout",
     "output_type": "stream",
     "text": [
      "Number of items: 4 - Score: 0.76\n"
     ]
    },
    {
     "data": {
      "text/plain": "<shapely.geometry.collection.GeometryCollection at 0x124aa29a0>",
      "image/svg+xml": "<svg xmlns=\"http://www.w3.org/2000/svg\" xmlns:xlink=\"http://www.w3.org/1999/xlink\" width=\"400.0\" height=\"400.0\" viewBox=\"-0.56 -0.56 1.62 1.32\" preserveAspectRatio=\"xMinYMin meet\"><g transform=\"matrix(1,0,0,-1,0,0.19999999999999996)\"><g><path fill-rule=\"evenodd\" fill=\"#66cc99\" stroke=\"#555555\" stroke-width=\"0.008100000000000001\" opacity=\"0.6\" d=\"M -0.2,0.0 L -0.5,0.5 L 0.0,0.7 L 1.0,0.7 L 1.0,0.6 L 0.6,0.6 L 0.8,0.2 L 0.2,0.2 L -0.5,-0.5 L -0.2,0.0 z M 0.4490369453344394,0.4696034280659121 L 0.44615705608064604,0.48901806440322576 L 0.44138806714644174,0.5080569354508925 L 0.4347759065022573,0.5265366864730181 L 0.42638425286967097,0.5442793473651997 L 0.41629392246050906,0.5611140466039204 L 0.4046020906725474,0.5768786568327292 L 0.39142135623730945,0.5914213562373095 L 0.37687865683272914,0.6046020906725473 L 0.3611140466039204,0.6162939224605091 L 0.3442793473651995,0.626384252869671 L 0.32653668647301803,0.6347759065022573 L 0.3080569354508924,0.6413880671464418 L 0.28901806440322564,0.6461570560806461 L 0.26960342806591203,0.6490369453344393 L 0.24999999999999997,0.65 L 0.2303965719340879,0.6490369453344393 L 0.21098193559677425,0.6461570560806461 L 0.1919430645491075,0.6413880671464418 L 0.1734633135269819,0.6347759065022573 L 0.1557206526348004,0.626384252869671 L 0.13888595339607956,0.6162939224605091 L 0.12312134316727083,0.6046020906725473 L 0.10857864376269047,0.5914213562373095 L 0.09539790932745257,0.5768786568327291 L 0.08370607753949089,0.5611140466039204 L 0.07361574713032898,0.5442793473651996 L 0.06522409349774261,0.526536686473018 L 0.0586119328535582,0.5080569354508925 L 0.0538429439193539,0.4890180644032257 L 0.050963054665560614,0.46960342806591215 L 0.04999999999999999,0.45 L 0.050963054665560614,0.43039657193408787 L 0.0538429439193539,0.4109819355967743 L 0.05861193285355823,0.39194306454910754 L 0.06522409349774264,0.37346331352698203 L 0.073615747130329,0.35572065263480046 L 0.08370607753949091,0.3388859533960796 L 0.0953979093274526,0.3231213431672709 L 0.1085786437626905,0.3085786437626905 L 0.12312134316727091,0.2953979093274526 L 0.13888595339607962,0.28370607753949095 L 0.15572065263480045,0.273615747130329 L 0.17346331352698205,0.2652240934977427 L 0.19194306454910756,0.2586119328535582 L 0.21098193559677436,0.2538429439193539 L 0.23039657193408786,0.2509630546655606 L 0.25,0.25 L 0.26960342806591214,0.2509630546655606 L 0.28901806440322564,0.2538429439193539 L 0.30805693545089247,0.2586119328535582 L 0.326536686473018,0.2652240934977427 L 0.34427934736519955,0.273615747130329 L 0.36111404660392044,0.28370607753949095 L 0.37687865683272914,0.2953979093274526 L 0.39142135623730956,0.3085786437626905 L 0.4046020906725474,0.3231213431672709 L 0.41629392246050906,0.3388859533960796 L 0.426384252869671,0.35572065263480046 L 0.4347759065022574,0.37346331352698203 L 0.44138806714644174,0.39194306454910754 L 0.4461570560806461,0.4109819355967744 L 0.4490369453344394,0.43039657193408787 L 0.45,0.45 L 0.4490369453344394,0.4696034280659121 z\" /><path fill-rule=\"evenodd\" fill=\"#66cc99\" stroke=\"#555555\" stroke-width=\"0.008100000000000001\" opacity=\"0.6\" d=\"M 0.9858374662108018,0.6772365642728182 L 0.8671083223225524,0.6935594381650023 L 0.3938479180976636,0.6276611082621054 L 0.9858374662108018,0.6772365642728182 z\" /><path fill-rule=\"evenodd\" fill=\"#66cc99\" stroke=\"#555555\" stroke-width=\"0.008100000000000001\" opacity=\"0.6\" d=\"M 0.2714182314383121,0.6921537183688465 L 0.12501374334604098,0.6096256237558542 L 0.008692254168812141,0.6868878168981328 L 0.2714182314383121,0.6921537183688465 z\" /><path fill-rule=\"evenodd\" fill=\"#66cc99\" stroke=\"#555555\" stroke-width=\"0.008100000000000001\" opacity=\"0.6\" d=\"M -0.05462314785655187,0.532298678517225 L -0.44267241416494196,0.5059401807384983 L -0.2682040896268635,0.25503315674664745 L -0.05462314785655187,0.532298678517225 z\" /><path fill-rule=\"evenodd\" fill=\"#66cc99\" stroke=\"#555555\" stroke-width=\"0.008100000000000001\" opacity=\"0.6\" d=\"M 0.051977833405128876,0.5156911779760723 L 0.011291663831932197,0.06444870610010241 L -0.2931391504821719,-0.2384984361974279 L 0.051977833405128876,0.5156911779760723 z\" /></g></g></svg>"
     },
     "execution_count": 13,
     "metadata": {},
     "output_type": "execute_result"
    }
   ],
   "source": [
    "print('Number of items:', len(df_sol), '- Score:', round(packer.score(), 3))\n",
    "GeometryCollection([container, *df_sol['item']])"
   ],
   "metadata": {
    "collapsed": false
   }
  },
  {
   "cell_type": "code",
   "execution_count": null,
   "outputs": [],
   "source": [
    "container = ALL_TESTS[7]['container']\n",
    "shapes = ALL_TESTS[7]['shapes']"
   ],
   "metadata": {
    "collapsed": false
   }
  },
  {
   "cell_type": "code",
   "execution_count": null,
   "outputs": [],
   "source": [
    "%%time\n",
    "packer = IrregularPackerStrictLSIntensification(\n",
    "    container,\n",
    "    shapes,\n",
    "    intersection_threshold=40,\n",
    "    max_iter=1000,\n",
    "    shots=5,\n",
    "    n_neighbors=16,\n",
    "    step_portion=16,\n",
    "    queue_length=12,\n",
    "    n_rotations=32,\n",
    "    n_search=10,\n",
    ")\n",
    "df_sol = packer.pack()"
   ],
   "metadata": {
    "collapsed": false
   }
  },
  {
   "cell_type": "code",
   "execution_count": null,
   "outputs": [],
   "source": [
    "print('Number of items:', len(df_sol), '- Score:', round(packer.score(), 3))\n",
    "GeometryCollection([container, *df_sol['item']])"
   ],
   "metadata": {
    "collapsed": false
   }
  },
  {
   "cell_type": "code",
   "execution_count": null,
   "outputs": [],
   "source": [],
   "metadata": {
    "collapsed": false
   }
  }
 ],
 "metadata": {
  "kernelspec": {
   "display_name": "Python 3",
   "language": "python",
   "name": "python3"
  },
  "language_info": {
   "codemirror_mode": {
    "name": "ipython",
    "version": 2
   },
   "file_extension": ".py",
   "mimetype": "text/x-python",
   "name": "python",
   "nbconvert_exporter": "python",
   "pygments_lexer": "ipython2",
   "version": "2.7.6"
  }
 },
 "nbformat": 4,
 "nbformat_minor": 0
}
