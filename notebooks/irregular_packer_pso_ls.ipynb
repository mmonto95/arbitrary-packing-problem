{
 "cells": [
  {
   "cell_type": "code",
   "execution_count": null,
   "outputs": [],
   "source": [
    "%env DISABLE_PROGRESS_BAR=True"
   ],
   "metadata": {
    "collapsed": false
   }
  },
  {
   "cell_type": "code",
   "execution_count": 1,
   "outputs": [],
   "source": [
    "from shapely.geometry import GeometryCollection\n",
    "\n",
    "from packer import IrregularPackerPSOLS\n",
    "from tests import ALL_TESTS"
   ],
   "metadata": {
    "collapsed": false
   }
  },
  {
   "cell_type": "code",
   "execution_count": 2,
   "outputs": [],
   "source": [
    "container = ALL_TESTS[0]['container']\n",
    "shapes = ALL_TESTS[0]['shapes']"
   ],
   "metadata": {
    "collapsed": false
   }
  },
  {
   "cell_type": "code",
   "execution_count": null,
   "outputs": [],
   "source": [
    "%%time\n",
    "packer = IrregularPackerPSOLS(\n",
    "    container,\n",
    "    shapes,\n",
    "    phi_p=1,\n",
    "    phi_g=1,\n",
    "    w=0.1,\n",
    "    n_particles=100,\n",
    "    n_iterations=20,\n",
    "    intersection_threshold=40,\n",
    "    max_iter=1000,\n",
    "    shots=3,\n",
    "    n_neighbors=5,\n",
    "    step_portion=2,\n",
    "    queue_length=3,\n",
    "    n_rotations=32,\n",
    ")\n",
    "packer.pack()"
   ],
   "metadata": {
    "collapsed": false,
    "pycharm": {
     "is_executing": true
    }
   }
  },
  {
   "cell_type": "code",
   "execution_count": 4,
   "outputs": [
    {
     "name": "stdout",
     "output_type": "stream",
     "text": [
      "Number of circles: 4 - Score: 0.308\n"
     ]
    },
    {
     "data": {
      "text/plain": "<shapely.geometry.collection.GeometryCollection at 0x1435566d0>",
      "image/svg+xml": "<svg xmlns=\"http://www.w3.org/2000/svg\" xmlns:xlink=\"http://www.w3.org/1999/xlink\" width=\"400.0\" height=\"400.0\" viewBox=\"-0.7102667783836448 -0.5861786005331749 1.7760462698599389 1.1864631917959385\" preserveAspectRatio=\"xMinYMin meet\"><g transform=\"matrix(1,0,0,-1,0,0.014105990729588735)\"><g><path fill-rule=\"evenodd\" fill=\"#66cc99\" stroke=\"#555555\" stroke-width=\"0.008880231349299694\" opacity=\"0.6\" d=\"M 1.0,-0.5 L 1.0,0.5 L -0.5,0.5 L -0.5,-0.5 L 1.0,-0.5 z\" /><path fill-rule=\"evenodd\" fill=\"#66cc99\" stroke=\"#555555\" stroke-width=\"0.008880231349299694\" opacity=\"0.6\" d=\"M 0.0765208190835267,-0.4307748154393833 L 0.6618008334879821,0.14961006713031266 L 0.9287069024734941,-0.045328637343990036 L 0.9462183272361172,0.030015793841100924 L 0.89389185373969,-0.4321806618963252 L 0.0765208190835267,-0.4307748154393833 z\" /><path fill-rule=\"evenodd\" fill=\"#66cc99\" stroke=\"#555555\" stroke-width=\"0.008880231349299694\" opacity=\"0.6\" d=\"M -0.04436677666219935,0.3519184613652877 L 0.9707283759895159,-0.004375362648295189 L 0.8764465740342148,0.5154513938314091 L 0.004300649569988102,0.5052207287921323 L -0.04436677666219935,0.3519184613652877 z\" /><path fill-rule=\"evenodd\" fill=\"#66cc99\" stroke=\"#555555\" stroke-width=\"0.008880231349299694\" opacity=\"0.6\" d=\"M -0.5739612312071459,-0.48997216897364687 L -0.6444872869073508,-0.22281011621707822 L -0.5007384563004353,0.332742119023354 L 0.09798641413794174,-0.41398149062496375 L -0.04527804458737528,-0.5203991090568809 L -0.5739612312071459,-0.48997216897364687 z\" /><path fill-rule=\"evenodd\" fill=\"#66cc99\" stroke=\"#555555\" stroke-width=\"0.008880231349299694\" opacity=\"0.6\" d=\"M 0.15114614308370994,-0.36471727250058 L -0.45239135532645536,0.275083491748152 L 0.15994684022449196,0.5345050997864697 L 0.5479782649331353,0.004418990729799149 L 0.3541966571166448,0.12597059623343299 L 0.15114614308370994,-0.36471727250058 z\" /></g></g></svg>"
     },
     "execution_count": 4,
     "metadata": {},
     "output_type": "execute_result"
    }
   ],
   "source": [
    "_packer = packer.get_packer()\n",
    "df_sol = _packer.drop_external(packer.global_optimum_position.copy())\n",
    "_packer.drop_intersected(df_sol)\n",
    "print('Number of circles:', len(df_sol), '- Score:', round(packer.global_optimum, 3))\n",
    "GeometryCollection([container, *df_sol['item']])"
   ],
   "metadata": {
    "collapsed": false
   }
  },
  {
   "cell_type": "code",
   "execution_count": 7,
   "outputs": [],
   "source": [
    "container = ALL_TESTS[1]['container']\n",
    "shapes = ALL_TESTS[1]['shapes']"
   ],
   "metadata": {
    "collapsed": false
   }
  },
  {
   "cell_type": "code",
   "execution_count": 8,
   "outputs": [
    {
     "name": "stdout",
     "output_type": "stream",
     "text": [
      "CPU times: user 1min 15s, sys: 2.38 s, total: 1min 17s\n",
      "Wall time: 1min 17s\n"
     ]
    }
   ],
   "source": [
    "%%time\n",
    "packer = IrregularPackerPSOLS(\n",
    "    container,\n",
    "    shapes,\n",
    "    phi_p=1,\n",
    "    phi_g=1,\n",
    "    w=0.1,\n",
    "    n_particles=100,\n",
    "    n_iterations=20,\n",
    "    intersection_threshold=40,\n",
    "    max_iter=1000,\n",
    "    shots=3,\n",
    "    n_neighbors=5,\n",
    "    step_portion=2,\n",
    "    queue_length=3,\n",
    "    n_rotations=32,\n",
    ")\n",
    "packer.pack()"
   ],
   "metadata": {
    "collapsed": false
   }
  },
  {
   "cell_type": "code",
   "execution_count": null,
   "outputs": [],
   "source": [
    "_packer = packer.get_packer()\n",
    "df_sol = _packer.drop_external(packer.global_optimum_position.copy())\n",
    "_packer.drop_intersected(df_sol)\n",
    "print('Number of circles:', len(df_sol), '- Score:', round(packer.global_optimum, 3))\n",
    "GeometryCollection([container, *df_sol['item']])"
   ],
   "metadata": {
    "collapsed": false
   }
  },
  {
   "cell_type": "code",
   "execution_count": 2,
   "outputs": [],
   "source": [
    "container = ALL_TESTS[2]['container']\n",
    "shapes = ALL_TESTS[2]['shapes']"
   ],
   "metadata": {
    "collapsed": false
   }
  },
  {
   "cell_type": "code",
   "execution_count": null,
   "outputs": [],
   "source": [
    "%%time\n",
    "packer = IrregularPackerPSOLS(\n",
    "    container,\n",
    "    shapes,\n",
    "    phi_p=1,\n",
    "    phi_g=1,\n",
    "    w=0.1,\n",
    "    n_particles=100,\n",
    "    n_iterations=20,\n",
    "    intersection_threshold=40,\n",
    "    max_iter=1000,\n",
    "    shots=3,\n",
    "    n_neighbors=5,\n",
    "    step_portion=2,\n",
    "    queue_length=3,\n",
    "    n_rotations=32,\n",
    ")\n",
    "packer.pack()"
   ],
   "metadata": {
    "collapsed": false,
    "pycharm": {
     "is_executing": true
    }
   }
  },
  {
   "cell_type": "code",
   "execution_count": null,
   "outputs": [],
   "source": [
    "_packer = packer.get_packer()\n",
    "df_sol = _packer.drop_external(packer.global_optimum_position.copy())\n",
    "_packer.drop_intersected(df_sol)\n",
    "print('Number of items:', len(df_sol), '- Score:', round(packer.global_optimum, 3))\n",
    "GeometryCollection([container, *df_sol['item']])"
   ],
   "metadata": {
    "collapsed": false,
    "pycharm": {
     "is_executing": true
    }
   }
  },
  {
   "cell_type": "code",
   "execution_count": 5,
   "outputs": [],
   "source": [
    "container = ALL_TESTS[3]['container']\n",
    "shapes = ALL_TESTS[3]['shapes']"
   ],
   "metadata": {
    "collapsed": false
   }
  },
  {
   "cell_type": "code",
   "execution_count": null,
   "outputs": [],
   "source": [
    "%%time\n",
    "packer = IrregularPackerPSOLS(\n",
    "    container,\n",
    "    shapes,\n",
    "    phi_p=1,\n",
    "    phi_g=1,\n",
    "    w=0.1,\n",
    "    n_particles=100,\n",
    "    n_iterations=20,\n",
    "    intersection_threshold=40,\n",
    "    max_iter=1000,\n",
    "    shots=3,\n",
    "    n_neighbors=5,\n",
    "    step_portion=2,\n",
    "    queue_length=3,\n",
    "    n_rotations=32,\n",
    ")\n",
    "packer.pack()"
   ],
   "metadata": {
    "collapsed": false,
    "pycharm": {
     "is_executing": true
    }
   }
  },
  {
   "cell_type": "code",
   "execution_count": null,
   "outputs": [],
   "source": [
    "_packer = packer.get_packer()\n",
    "df_sol = _packer.drop_external(packer.global_optimum_position.copy())\n",
    "_packer.drop_intersected(df_sol)\n",
    "print('Number of items:', len(df_sol), '- Score:', round(packer.global_optimum, 3))\n",
    "GeometryCollection([container, *df_sol['item']])"
   ],
   "metadata": {
    "collapsed": false,
    "pycharm": {
     "is_executing": true
    }
   }
  },
  {
   "cell_type": "code",
   "execution_count": 8,
   "outputs": [],
   "source": [
    "container = ALL_TESTS[4]['container']\n",
    "shapes = ALL_TESTS[4]['shapes']"
   ],
   "metadata": {
    "collapsed": false
   }
  },
  {
   "cell_type": "code",
   "execution_count": null,
   "outputs": [],
   "source": [
    "%%time\n",
    "packer = IrregularPackerPSOLS(\n",
    "    container,\n",
    "    shapes,\n",
    "    phi_p=1,\n",
    "    phi_g=1,\n",
    "    w=0.1,\n",
    "    n_particles=100,\n",
    "    n_iterations=20,\n",
    "    intersection_threshold=40,\n",
    "    max_iter=1000,\n",
    "    shots=3,\n",
    "    n_neighbors=5,\n",
    "    step_portion=2,\n",
    "    queue_length=3,\n",
    "    n_rotations=32,\n",
    ")\n",
    "packer.pack()"
   ],
   "metadata": {
    "collapsed": false,
    "pycharm": {
     "is_executing": true
    }
   }
  },
  {
   "cell_type": "code",
   "execution_count": null,
   "outputs": [],
   "source": [
    "_packer = packer.get_packer()\n",
    "df_sol = _packer.drop_external(packer.global_optimum_position.copy())\n",
    "_packer.drop_intersected(df_sol)\n",
    "print('Number of items:', len(df_sol), '- Score:', round(packer.global_optimum, 3))\n",
    "GeometryCollection([container, *df_sol['item']])"
   ],
   "metadata": {
    "collapsed": false,
    "pycharm": {
     "is_executing": true
    }
   }
  },
  {
   "cell_type": "code",
   "execution_count": 11,
   "outputs": [],
   "source": [
    "container = ALL_TESTS[5]['container']\n",
    "shapes = ALL_TESTS[5]['shapes']"
   ],
   "metadata": {
    "collapsed": false
   }
  },
  {
   "cell_type": "code",
   "execution_count": null,
   "outputs": [],
   "source": [
    "%%time\n",
    "packer = IrregularPackerPSOLS(\n",
    "    container,\n",
    "    shapes,\n",
    "    phi_p=1,\n",
    "    phi_g=1,\n",
    "    w=0.1,\n",
    "    n_particles=100,\n",
    "    n_iterations=20,\n",
    "    intersection_threshold=40,\n",
    "    max_iter=1000,\n",
    "    shots=3,\n",
    "    n_neighbors=5,\n",
    "    step_portion=2,\n",
    "    queue_length=3,\n",
    "    n_rotations=32,\n",
    ")\n",
    "packer.pack()"
   ],
   "metadata": {
    "collapsed": false,
    "pycharm": {
     "is_executing": true
    }
   }
  },
  {
   "cell_type": "code",
   "execution_count": null,
   "outputs": [],
   "source": [
    "_packer = packer.get_packer()\n",
    "df_sol = _packer.drop_external(packer.global_optimum_position.copy())\n",
    "_packer.drop_intersected(df_sol)\n",
    "print('Number of items:', len(df_sol), '- Score:', round(packer.global_optimum, 3))\n",
    "GeometryCollection([container, *df_sol['item']])"
   ],
   "metadata": {
    "collapsed": false,
    "pycharm": {
     "is_executing": true
    }
   }
  },
  {
   "cell_type": "code",
   "execution_count": 14,
   "outputs": [],
   "source": [
    "container = ALL_TESTS[6]['container']\n",
    "shapes = ALL_TESTS[6]['shapes']"
   ],
   "metadata": {
    "collapsed": false
   }
  },
  {
   "cell_type": "code",
   "execution_count": null,
   "outputs": [],
   "source": [
    "%%time\n",
    "packer = IrregularPackerPSOLS(\n",
    "    container,\n",
    "    shapes,\n",
    "    phi_p=1,\n",
    "    phi_g=1,\n",
    "    w=0.1,\n",
    "    n_particles=100,\n",
    "    n_iterations=20,\n",
    "    intersection_threshold=40,\n",
    "    max_iter=1000,\n",
    "    shots=3,\n",
    "    n_neighbors=5,\n",
    "    step_portion=2,\n",
    "    queue_length=3,\n",
    "    n_rotations=32,\n",
    ")\n",
    "packer.pack()"
   ],
   "metadata": {
    "collapsed": false,
    "pycharm": {
     "is_executing": true
    }
   }
  },
  {
   "cell_type": "code",
   "execution_count": null,
   "outputs": [],
   "source": [
    "_packer = packer.get_packer()\n",
    "df_sol = _packer.drop_external(packer.global_optimum_position.copy())\n",
    "_packer.drop_intersected(df_sol)\n",
    "print('Number of items:', len(df_sol), '- Score:', round(packer.global_optimum, 3))\n",
    "GeometryCollection([container, *df_sol['item']])"
   ],
   "metadata": {
    "collapsed": false,
    "pycharm": {
     "is_executing": true
    }
   }
  },
  {
   "cell_type": "code",
   "execution_count": 17,
   "outputs": [],
   "source": [
    "container = ALL_TESTS[7]['container']\n",
    "shapes = ALL_TESTS[7]['shapes']"
   ],
   "metadata": {
    "collapsed": false
   }
  },
  {
   "cell_type": "code",
   "execution_count": null,
   "outputs": [],
   "source": [
    "%%time\n",
    "packer = IrregularPackerPSOLS(\n",
    "    container,\n",
    "    shapes,\n",
    "    phi_p=1,\n",
    "    phi_g=1,\n",
    "    w=0.1,\n",
    "    n_particles=100,\n",
    "    n_iterations=20,\n",
    "    intersection_threshold=40,\n",
    "    max_iter=1000,\n",
    "    shots=3,\n",
    "    n_neighbors=5,\n",
    "    step_portion=2,\n",
    "    queue_length=3,\n",
    "    n_rotations=32,\n",
    ")\n",
    "packer.pack()"
   ],
   "metadata": {
    "collapsed": false,
    "pycharm": {
     "is_executing": true
    }
   }
  },
  {
   "cell_type": "code",
   "execution_count": null,
   "outputs": [],
   "source": [
    "_packer = packer.get_packer()\n",
    "df_sol = _packer.drop_external(packer.global_optimum_position.copy())\n",
    "_packer.drop_intersected(df_sol)\n",
    "print('Number of items:', len(df_sol), '- Score:', round(packer.global_optimum, 3))\n",
    "GeometryCollection([container, *df_sol['item']])"
   ],
   "metadata": {
    "collapsed": false,
    "pycharm": {
     "is_executing": true
    }
   }
  },
  {
   "cell_type": "code",
   "execution_count": null,
   "outputs": [],
   "source": [],
   "metadata": {
    "collapsed": false
   }
  }
 ],
 "metadata": {
  "kernelspec": {
   "display_name": "Python 3",
   "language": "python",
   "name": "python3"
  },
  "language_info": {
   "codemirror_mode": {
    "name": "ipython",
    "version": 2
   },
   "file_extension": ".py",
   "mimetype": "text/x-python",
   "name": "python",
   "nbconvert_exporter": "python",
   "pygments_lexer": "ipython2",
   "version": "2.7.6"
  }
 },
 "nbformat": 4,
 "nbformat_minor": 0
}
