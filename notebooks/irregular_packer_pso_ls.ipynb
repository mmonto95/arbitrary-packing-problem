{
 "cells": [
  {
   "cell_type": "code",
   "execution_count": null,
   "outputs": [],
   "source": [
    "%env DISABLE_PROGRESS_BAR=True"
   ],
   "metadata": {
    "collapsed": false
   }
  },
  {
   "cell_type": "code",
   "execution_count": 1,
   "outputs": [],
   "source": [
    "from shapely.geometry import GeometryCollection\n",
    "\n",
    "from packer import IrregularPackerPSOLS\n",
    "from tests import ALL_TESTS"
   ],
   "metadata": {
    "collapsed": false
   }
  },
  {
   "cell_type": "code",
   "execution_count": 2,
   "outputs": [],
   "source": [
    "container = ALL_TESTS[0]['container']\n",
    "shapes = ALL_TESTS[0]['shapes']"
   ],
   "metadata": {
    "collapsed": false
   }
  },
  {
   "cell_type": "code",
   "execution_count": 3,
   "outputs": [
    {
     "data": {
      "text/plain": "  0%|          | 0/20 [00:00<?, ?it/s]",
      "application/vnd.jupyter.widget-view+json": {
       "version_major": 2,
       "version_minor": 0,
       "model_id": "abfdcdb98c2c41fe844d9f2cfb0c5c68"
      }
     },
     "metadata": {},
     "output_type": "display_data"
    },
    {
     "data": {
      "text/plain": "  0%|          | 0/8 [00:00<?, ?it/s]",
      "application/vnd.jupyter.widget-view+json": {
       "version_major": 2,
       "version_minor": 0,
       "model_id": "aef75bf7f34643b6b86148cd6c32daf5"
      }
     },
     "metadata": {},
     "output_type": "display_data"
    },
    {
     "name": "stdout",
     "output_type": "stream",
     "text": [
      "CPU times: user 23min 43s, sys: 5 s, total: 23min 48s\n",
      "Wall time: 23min 56s\n"
     ]
    }
   ],
   "source": [
    "%%time\n",
    "packer = IrregularPackerPSOLS(\n",
    "    container,\n",
    "    shapes,\n",
    "    phi_p=1,\n",
    "    phi_g=1,\n",
    "    w=0.1,\n",
    "    n_particles=20,\n",
    "    n_iterations=8,\n",
    "    intersection_threshold=40,\n",
    "    max_iter=1000,\n",
    "    shots=3,\n",
    "    n_neighbors=5,\n",
    "    step_portion=2,\n",
    "    queue_length=3,\n",
    "    n_rotations=32,\n",
    ")\n",
    "packer.pack()"
   ],
   "metadata": {
    "collapsed": false
   }
  },
  {
   "cell_type": "code",
   "execution_count": 4,
   "outputs": [
    {
     "name": "stdout",
     "output_type": "stream",
     "text": [
      "Number of circles: 4 - Score: 0.296\n"
     ]
    },
    {
     "data": {
      "text/plain": "<shapely.geometry.collection.GeometryCollection at 0x10706c760>",
      "image/svg+xml": "<svg xmlns=\"http://www.w3.org/2000/svg\" xmlns:xlink=\"http://www.w3.org/1999/xlink\" width=\"400.0\" height=\"400.0\" viewBox=\"-0.630054223075978 -0.6432813179100926 1.7341570830303858 1.2393885044311936\" preserveAspectRatio=\"xMinYMin meet\"><g transform=\"matrix(1,0,0,-1,0,-0.047174131388991625)\"><g><path fill-rule=\"evenodd\" fill=\"#66cc99\" stroke=\"#555555\" stroke-width=\"0.008670785415151929\" opacity=\"0.6\" d=\"M 1.0,-0.5 L 1.0,0.5 L -0.5,0.5 L -0.5,-0.5 L 1.0,-0.5 z\" /><path fill-rule=\"evenodd\" fill=\"#66cc99\" stroke=\"#555555\" stroke-width=\"0.008670785415151929\" opacity=\"0.6\" d=\"M 0.3086390689273179,-0.5790532777978561 L -0.4502720663194487,-0.46721985436909164 L -0.20955043498895054,-0.1158949464898057 L 0.49340417912264944,-0.24298937882855542 L 0.3086390689273179,-0.5790532777978561 z\" /><path fill-rule=\"evenodd\" fill=\"#66cc99\" stroke=\"#555555\" stroke-width=\"0.008670785415151929\" opacity=\"0.6\" d=\"M 0.9248704773826585,0.5106750633527226 L 1.0398748198421712,-0.30551934265124714 L 0.7240015810023475,-0.4028026667528521 L 0.77390538705461,-0.46190464175639995 L 0.43481600091399675,-0.14349922136976068 L 0.9248704773826585,0.5106750633527226 z\" /><path fill-rule=\"evenodd\" fill=\"#66cc99\" stroke=\"#555555\" stroke-width=\"0.008670785415151929\" opacity=\"0.6\" d=\"M 0.28036175052129897,-0.11958509218416696 L 0.12916944157664179,0.05068329122542603 L -0.24907141290051704,0.37744539069877353 L 0.7515949753197864,0.47804502748297906 L 0.5481009964315554,-0.10113777421335213 L 0.28036175052129897,-0.11958509218416696 z\" /><path fill-rule=\"evenodd\" fill=\"#66cc99\" stroke=\"#555555\" stroke-width=\"0.008670785415151929\" opacity=\"0.6\" d=\"M -0.35705091407209616,-0.32253025020360415 L -0.5658261829637415,0.5318791464088645 L 0.09474038330168855,0.45500621241987127 L 0.17032053062614577,-0.1975635623220138 L 0.0618615010941323,0.0038383821607281543 L -0.35705091407209616,-0.32253025020360415 z\" /></g></g></svg>"
     },
     "execution_count": 4,
     "metadata": {},
     "output_type": "execute_result"
    }
   ],
   "source": [
    "_packer = packer.get_packer()\n",
    "df_sol = _packer.drop_external(packer.global_optimum_position.copy())\n",
    "_packer.drop_intersected(df_sol)\n",
    "print('Number of circles:', len(df_sol), '- Score:', round(packer.global_optimum, 3))\n",
    "GeometryCollection([container, *df_sol['item']])"
   ],
   "metadata": {
    "collapsed": false
   }
  },
  {
   "cell_type": "code",
   "execution_count": 7,
   "outputs": [],
   "source": [
    "# container = ALL_TESTS[1]['container']\n",
    "# shapes = ALL_TESTS[1]['shapes']"
   ],
   "metadata": {
    "collapsed": false
   }
  },
  {
   "cell_type": "code",
   "execution_count": 8,
   "outputs": [
    {
     "name": "stdout",
     "output_type": "stream",
     "text": [
      "CPU times: user 1min 15s, sys: 2.38 s, total: 1min 17s\n",
      "Wall time: 1min 17s\n"
     ]
    }
   ],
   "source": [
    "# %%time\n",
    "# packer = IrregularPackerPSOLS(\n",
    "#     container,\n",
    "#     shapes,\n",
    "#     phi_p=1,\n",
    "#     phi_g=1,\n",
    "#     w=0.1,\n",
    "#     n_particles=100,\n",
    "#     n_iterations=20,\n",
    "#     intersection_threshold=40,\n",
    "#     max_iter=1000,\n",
    "#     shots=3,\n",
    "#     n_neighbors=5,\n",
    "#     step_portion=2,\n",
    "#     queue_length=3,\n",
    "#     n_rotations=32,\n",
    "# )\n",
    "# packer.pack()"
   ],
   "metadata": {
    "collapsed": false
   }
  },
  {
   "cell_type": "code",
   "execution_count": null,
   "outputs": [],
   "source": [
    "# _packer = packer.get_packer()\n",
    "# df_sol = _packer.drop_external(packer.global_optimum_position.copy())\n",
    "# _packer.drop_intersected(df_sol)\n",
    "# print('Number of circles:', len(df_sol), '- Score:', round(packer.global_optimum, 3))\n",
    "# GeometryCollection([container, *df_sol['item']])"
   ],
   "metadata": {
    "collapsed": false
   }
  },
  {
   "cell_type": "code",
   "execution_count": 5,
   "outputs": [],
   "source": [
    "container = ALL_TESTS[2]['container']\n",
    "shapes = ALL_TESTS[2]['shapes']"
   ],
   "metadata": {
    "collapsed": false
   }
  },
  {
   "cell_type": "code",
   "execution_count": 6,
   "outputs": [
    {
     "data": {
      "text/plain": "  0%|          | 0/20 [00:00<?, ?it/s]",
      "application/vnd.jupyter.widget-view+json": {
       "version_major": 2,
       "version_minor": 0,
       "model_id": "c211d5ad474641dbbd3797814c1644c1"
      }
     },
     "metadata": {},
     "output_type": "display_data"
    },
    {
     "data": {
      "text/plain": "  0%|          | 0/8 [00:00<?, ?it/s]",
      "application/vnd.jupyter.widget-view+json": {
       "version_major": 2,
       "version_minor": 0,
       "model_id": "979771a817c44a92a323433ccdf85c1f"
      }
     },
     "metadata": {},
     "output_type": "display_data"
    },
    {
     "name": "stdout",
     "output_type": "stream",
     "text": [
      "CPU times: user 19min 57s, sys: 3.92 s, total: 20min 1s\n",
      "Wall time: 20min 9s\n"
     ]
    }
   ],
   "source": [
    "%%time\n",
    "packer = IrregularPackerPSOLS(\n",
    "    container,\n",
    "    shapes,\n",
    "    phi_p=1,\n",
    "    phi_g=1,\n",
    "    w=0.1,\n",
    "    n_particles=20,\n",
    "    n_iterations=8,\n",
    "    intersection_threshold=40,\n",
    "    max_iter=1000,\n",
    "    shots=3,\n",
    "    n_neighbors=5,\n",
    "    step_portion=2,\n",
    "    queue_length=3,\n",
    "    n_rotations=32,\n",
    ")\n",
    "packer.pack()"
   ],
   "metadata": {
    "collapsed": false
   }
  },
  {
   "cell_type": "code",
   "execution_count": 7,
   "outputs": [
    {
     "name": "stdout",
     "output_type": "stream",
     "text": [
      "Number of items: 4 - Score: 0.388\n"
     ]
    },
    {
     "data": {
      "text/plain": "<shapely.geometry.collection.GeometryCollection at 0x11f99c1c0>",
      "image/svg+xml": "<svg xmlns=\"http://www.w3.org/2000/svg\" xmlns:xlink=\"http://www.w3.org/1999/xlink\" width=\"400.0\" height=\"400.0\" viewBox=\"-0.5893892575280868 -0.8769026547668537 1.7141164101547546 1.4722044836618933\" preserveAspectRatio=\"xMinYMin meet\"><g transform=\"matrix(1,0,0,-1,0,-0.281600825871814)\"><g><path fill-rule=\"evenodd\" fill=\"#66cc99\" stroke=\"#555555\" stroke-width=\"0.008570582050773773\" opacity=\"0.6\" d=\"M -0.5,-0.5 L -0.5,0.5 L 1.0,0.5 L 1.0,-0.5 L -0.5,-0.5 z M 0.5485554180016591,0.029405142098868152 L 0.5442355841209691,0.05852709660483861 L 0.5370821007196627,0.08708540317633874 L 0.5271638597533859,0.1148050297095271 L 0.5145763793045064,0.14141902104779938 L 0.49944088369076356,0.16667106990588065 L 0.48190313600882095,0.19031798524909377 L 0.46213203435596417,0.2121320343559643 L 0.4403179852490937,0.23190313600882106 L 0.41667106990588054,0.24944088369076362 L 0.39141902104779924,0.2645763793045065 L 0.364805029709527,0.277163859753386 L 0.3370854031763386,0.28708210071966267 L 0.30852709660483846,0.2942355841209691 L 0.279405142098868,0.2985554180016591 L 0.24999999999999994,0.3 L 0.22059485790113187,0.2985554180016591 L 0.1914729033951614,0.29423558412096906 L 0.16291459682366127,0.2870821007196626 L 0.1351949702904729,0.2771638597533859 L 0.10858097895220062,0.26457637930450645 L 0.08332893009411935,0.24944088369076356 L 0.05968201475090626,0.23190313600882098 L 0.03786796564403569,0.21213203435596423 L 0.01809686399117888,0.19031798524909357 L 0.0005591163092363849,0.16667106990588057 L -0.014576379304506504,0.1414190210477993 L -0.027163859753386033,0.1148050297095269 L -0.03708210071966267,0.08708540317633863 L -0.04423558412096912,0.058527096604838506 L -0.04855541800165908,0.029405142098868176 L -0.04999999999999999,-3.6739403974420595e-17 L -0.04855541800165902,-0.029405142098868246 L -0.04423558412096912,-0.05852709660483858 L -0.037082100719662614,-0.08708540317633871 L -0.027163859753386033,-0.11480502970952697 L -0.014576379304506448,-0.14141902104779935 L 0.0005591163092364126,-0.16667106990588065 L 0.018096863991178908,-0.19031798524909363 L 0.03786796564403577,-0.21213203435596426 L 0.0596820147509064,-0.23190313600882112 L 0.08332893009411943,-0.2494408836907636 L 0.1085809789522007,-0.2645763793045065 L 0.1351949702904731,-0.27716385975338603 L 0.16291459682366136,-0.28708210071966267 L 0.19147290339516154,-0.2942355841209691 L 0.2205948579011318,-0.2985554180016591 L 0.25,-0.3 L 0.27940514209886824,-0.298555418001659 L 0.3085270966048385,-0.2942355841209691 L 0.3370854031763387,-0.2870821007196626 L 0.36480502970952694,-0.27716385975338603 L 0.39141902104779935,-0.26457637930450645 L 0.41667106990588065,-0.24944088369076356 L 0.4403179852490936,-0.2319031360088211 L 0.4621320343559643,-0.21213203435596423 L 0.48190313600882106,-0.19031798524909363 L 0.49944088369076356,-0.16667106990588065 L 0.5145763793045065,-0.1414190210477993 L 0.5271638597533861,-0.11480502970952693 L 0.5370821007196627,-0.0870854031763387 L 0.5442355841209692,-0.05852709660483847 L 0.5485554180016591,-0.02940514209886818 L 0.55,0.0 L 0.5485554180016591,0.029405142098868152 z\" /><path fill-rule=\"evenodd\" fill=\"#66cc99\" stroke=\"#555555\" stroke-width=\"0.008570582050773773\" opacity=\"0.6\" d=\"M 0.02720210100702225,0.4883038055947001 L 0.20722818132618837,0.23827990408365302 L 0.08637998284261628,0.11758173973316935 L -0.4506685656508434,-0.02421926448456957 L -0.42300357751353945,0.48242534780031143 L 0.02720210100702225,0.4883038055947001 z\" /><path fill-rule=\"evenodd\" fill=\"#66cc99\" stroke=\"#555555\" stroke-width=\"0.008570582050773773\" opacity=\"0.6\" d=\"M 0.0026863986647166493,0.2815130715240501 L 1.0470477444748716,0.023302232586500438 L 0.9037905396124493,0.5318160359263451 L 0.036564350309759464,0.4387466174568869 L 0.0026863986647166493,0.2815130715240501 z\" /><path fill-rule=\"evenodd\" fill=\"#66cc99\" stroke=\"#555555\" stroke-width=\"0.008570582050773773\" opacity=\"0.6\" d=\"M -0.5123578374707828,0.014134296150438031 L -0.5259034645593922,-0.628466790891645 L -0.11744958786778104,-0.8134168617981591 L 0.21591281551325625,-0.2724712065932119 L -0.5123578374707828,0.014134296150438031 z\" /><path fill-rule=\"evenodd\" fill=\"#66cc99\" stroke=\"#555555\" stroke-width=\"0.008570582050773773\" opacity=\"0.6\" d=\"M 0.24723702006133605,-0.5365582192030721 L 0.5618436382846826,0.28479749283071587 L 1.0612413596579733,-0.15436028329870854 L 0.7519888193679796,-0.733948530160605 L 0.7774329658896542,-0.5066190341944212 L 0.24723702006133605,-0.5365582192030721 z\" /></g></g></svg>"
     },
     "execution_count": 7,
     "metadata": {},
     "output_type": "execute_result"
    }
   ],
   "source": [
    "_packer = packer.get_packer()\n",
    "df_sol = _packer.drop_external(packer.global_optimum_position.copy())\n",
    "_packer.drop_intersected(df_sol)\n",
    "print('Number of items:', len(df_sol), '- Score:', round(packer.global_optimum, 3))\n",
    "GeometryCollection([container, *df_sol['item']])"
   ],
   "metadata": {
    "collapsed": false
   }
  },
  {
   "cell_type": "code",
   "execution_count": 5,
   "outputs": [],
   "source": [
    "# container = ALL_TESTS[3]['container']\n",
    "# shapes = ALL_TESTS[3]['shapes']"
   ],
   "metadata": {
    "collapsed": false
   }
  },
  {
   "cell_type": "code",
   "execution_count": null,
   "outputs": [],
   "source": [
    "# %%time\n",
    "# packer = IrregularPackerPSOLS(\n",
    "#     container,\n",
    "#     shapes,\n",
    "#     phi_p=1,\n",
    "#     phi_g=1,\n",
    "#     w=0.1,\n",
    "#     n_particles=100,\n",
    "#     n_iterations=20,\n",
    "#     intersection_threshold=40,\n",
    "#     max_iter=1000,\n",
    "#     shots=3,\n",
    "#     n_neighbors=5,\n",
    "#     step_portion=2,\n",
    "#     queue_length=3,\n",
    "#     n_rotations=32,\n",
    "# )\n",
    "# packer.pack()"
   ],
   "metadata": {
    "collapsed": false,
    "pycharm": {
     "is_executing": true
    }
   }
  },
  {
   "cell_type": "code",
   "execution_count": null,
   "outputs": [],
   "source": [
    "# _packer = packer.get_packer()\n",
    "# df_sol = _packer.drop_external(packer.global_optimum_position.copy())\n",
    "# _packer.drop_intersected(df_sol)\n",
    "# print('Number of items:', len(df_sol), '- Score:', round(packer.global_optimum, 3))\n",
    "# GeometryCollection([container, *df_sol['item']])"
   ],
   "metadata": {
    "collapsed": false,
    "pycharm": {
     "is_executing": true
    }
   }
  },
  {
   "cell_type": "code",
   "execution_count": 8,
   "outputs": [],
   "source": [
    "container = ALL_TESTS[4]['container']\n",
    "shapes = ALL_TESTS[4]['shapes']"
   ],
   "metadata": {
    "collapsed": false
   }
  },
  {
   "cell_type": "code",
   "execution_count": 9,
   "outputs": [
    {
     "data": {
      "text/plain": "  0%|          | 0/20 [00:00<?, ?it/s]",
      "application/vnd.jupyter.widget-view+json": {
       "version_major": 2,
       "version_minor": 0,
       "model_id": "f067ee8df46a4f848bf837c73994e4ea"
      }
     },
     "metadata": {},
     "output_type": "display_data"
    },
    {
     "data": {
      "text/plain": "  0%|          | 0/8 [00:00<?, ?it/s]",
      "application/vnd.jupyter.widget-view+json": {
       "version_major": 2,
       "version_minor": 0,
       "model_id": "ec25936f6f16497f880d3ebf0758f48e"
      }
     },
     "metadata": {},
     "output_type": "display_data"
    },
    {
     "name": "stdout",
     "output_type": "stream",
     "text": [
      "CPU times: user 51min 32s, sys: 7.22 s, total: 51min 39s\n",
      "Wall time: 51min 54s\n"
     ]
    }
   ],
   "source": [
    "%%time\n",
    "packer = IrregularPackerPSOLS(\n",
    "    container,\n",
    "    shapes,\n",
    "    phi_p=1,\n",
    "    phi_g=1,\n",
    "    w=0.1,\n",
    "    n_particles=20,\n",
    "    n_iterations=8,\n",
    "    intersection_threshold=40,\n",
    "    max_iter=1000,\n",
    "    shots=3,\n",
    "    n_neighbors=5,\n",
    "    step_portion=2,\n",
    "    queue_length=3,\n",
    "    n_rotations=32,\n",
    ")\n",
    "packer.pack()"
   ],
   "metadata": {
    "collapsed": false
   }
  },
  {
   "cell_type": "code",
   "execution_count": 10,
   "outputs": [
    {
     "name": "stdout",
     "output_type": "stream",
     "text": [
      "Number of items: 3 - Score: 0.427\n"
     ]
    },
    {
     "data": {
      "text/plain": "<shapely.geometry.collection.GeometryCollection at 0x11ce9deb0>",
      "image/svg+xml": "<svg xmlns=\"http://www.w3.org/2000/svg\" xmlns:xlink=\"http://www.w3.org/1999/xlink\" width=\"400.0\" height=\"400.0\" viewBox=\"-0.8003701171648941 -0.680719734343821 1.8696151216712362 1.6489846261690044\" preserveAspectRatio=\"xMinYMin meet\"><g transform=\"matrix(1,0,0,-1,0,0.28754515748136233)\"><g><path fill-rule=\"evenodd\" fill=\"#66cc99\" stroke=\"#555555\" stroke-width=\"0.00934807560835618\" opacity=\"0.6\" d=\"M -0.5,-0.5 L 0.2,0.2 L 0.8,0.2 L 0.6,0.6 L 1.0,0.6 L 1.0,0.7 L 0.0,0.7 L -0.5,0.5 L -0.2,0.0 L -0.5,-0.5 z\" /><path fill-rule=\"evenodd\" fill=\"#66cc99\" stroke=\"#555555\" stroke-width=\"0.00934807560835618\" opacity=\"0.6\" d=\"M -0.7311251126585521,-0.611474729837479 L -0.230307918115231,-0.07893172992276642 L -0.13012094833199306,-0.23942852871395792 L -0.7311251126585521,-0.611474729837479 z\" /><path fill-rule=\"evenodd\" fill=\"#66cc99\" stroke=\"#555555\" stroke-width=\"0.00934807560835618\" opacity=\"0.6\" d=\"M 0.10312948271259892,0.15540009692282686 L 0.12121391640289836,0.4380487371361661 L 0.517310856668154,0.8334516571433397 L 0.7460378138407047,0.5193892390170173 L 0.7363103211426552,0.1308803928986081 L 0.10312948271259892,0.15540009692282686 z\" /><path fill-rule=\"evenodd\" fill=\"#66cc99\" stroke=\"#555555\" stroke-width=\"0.00934807560835618\" opacity=\"0.6\" d=\"M 0.44867058288905515,0.5472123087861513 L -0.11757478008812511,-0.12581719935394872 L -0.4456114891927574,0.45267182727281385 L 0.03639792862955904,0.8990198873188413 L -0.06209185882957405,0.692559561602954 L 0.44867058288905515,0.5472123087861513 z\" /></g></g></svg>"
     },
     "execution_count": 10,
     "metadata": {},
     "output_type": "execute_result"
    }
   ],
   "source": [
    "_packer = packer.get_packer()\n",
    "df_sol = _packer.drop_external(packer.global_optimum_position.copy())\n",
    "_packer.drop_intersected(df_sol)\n",
    "print('Number of items:', len(df_sol), '- Score:', round(packer.global_optimum, 3))\n",
    "GeometryCollection([container, *df_sol['item']])"
   ],
   "metadata": {
    "collapsed": false
   }
  },
  {
   "cell_type": "code",
   "execution_count": 11,
   "outputs": [],
   "source": [
    "# container = ALL_TESTS[5]['container']\n",
    "# shapes = ALL_TESTS[5]['shapes']"
   ],
   "metadata": {
    "collapsed": false
   }
  },
  {
   "cell_type": "code",
   "execution_count": null,
   "outputs": [],
   "source": [
    "# %%time\n",
    "# packer = IrregularPackerPSOLS(\n",
    "#     container,\n",
    "#     shapes,\n",
    "#     phi_p=1,\n",
    "#     phi_g=1,\n",
    "#     w=0.1,\n",
    "#     n_particles=100,\n",
    "#     n_iterations=20,\n",
    "#     intersection_threshold=40,\n",
    "#     max_iter=1000,\n",
    "#     shots=3,\n",
    "#     n_neighbors=5,\n",
    "#     step_portion=2,\n",
    "#     queue_length=3,\n",
    "#     n_rotations=32,\n",
    "# )\n",
    "# packer.pack()"
   ],
   "metadata": {
    "collapsed": false,
    "pycharm": {
     "is_executing": true
    }
   }
  },
  {
   "cell_type": "code",
   "execution_count": null,
   "outputs": [],
   "source": [
    "# _packer = packer.get_packer()\n",
    "# df_sol = _packer.drop_external(packer.global_optimum_position.copy())\n",
    "# _packer.drop_intersected(df_sol)\n",
    "# print('Number of items:', len(df_sol), '- Score:', round(packer.global_optimum, 3))\n",
    "# GeometryCollection([container, *df_sol['item']])"
   ],
   "metadata": {
    "collapsed": false,
    "pycharm": {
     "is_executing": true
    }
   }
  },
  {
   "cell_type": "code",
   "execution_count": 11,
   "outputs": [],
   "source": [
    "container = ALL_TESTS[6]['container']\n",
    "shapes = ALL_TESTS[6]['shapes']"
   ],
   "metadata": {
    "collapsed": false
   }
  },
  {
   "cell_type": "code",
   "execution_count": 12,
   "outputs": [
    {
     "data": {
      "text/plain": "  0%|          | 0/20 [00:00<?, ?it/s]",
      "application/vnd.jupyter.widget-view+json": {
       "version_major": 2,
       "version_minor": 0,
       "model_id": "0dbf8dcddb7f4004bab6762816dcf526"
      }
     },
     "metadata": {},
     "output_type": "display_data"
    },
    {
     "data": {
      "text/plain": "  0%|          | 0/8 [00:00<?, ?it/s]",
      "application/vnd.jupyter.widget-view+json": {
       "version_major": 2,
       "version_minor": 0,
       "model_id": "7cdc2793a47745449ca308fe8927a862"
      }
     },
     "metadata": {},
     "output_type": "display_data"
    },
    {
     "name": "stdout",
     "output_type": "stream",
     "text": [
      "CPU times: user 43min 18s, sys: 5.48 s, total: 43min 24s\n",
      "Wall time: 43min 38s\n"
     ]
    }
   ],
   "source": [
    "%%time\n",
    "packer = IrregularPackerPSOLS(\n",
    "    container,\n",
    "    shapes,\n",
    "    phi_p=1,\n",
    "    phi_g=1,\n",
    "    w=0.1,\n",
    "    n_particles=20,\n",
    "    n_iterations=8,\n",
    "    intersection_threshold=40,\n",
    "    max_iter=1000,\n",
    "    shots=3,\n",
    "    n_neighbors=5,\n",
    "    step_portion=2,\n",
    "    queue_length=3,\n",
    "    n_rotations=32,\n",
    ")\n",
    "packer.pack()"
   ],
   "metadata": {
    "collapsed": false
   }
  },
  {
   "cell_type": "code",
   "execution_count": 13,
   "outputs": [
    {
     "name": "stdout",
     "output_type": "stream",
     "text": [
      "Number of items: 2 - Score: 0.674\n"
     ]
    },
    {
     "data": {
      "text/plain": "<shapely.geometry.collection.GeometryCollection at 0x10758fb80>",
      "image/svg+xml": "<svg xmlns=\"http://www.w3.org/2000/svg\" xmlns:xlink=\"http://www.w3.org/1999/xlink\" width=\"400.0\" height=\"400.0\" viewBox=\"-0.6069180284626046 -0.5693309699414257 1.8719361884184935 1.4361361994002213\" preserveAspectRatio=\"xMinYMin meet\"><g transform=\"matrix(1,0,0,-1,0,0.29747425951736983)\"><g><path fill-rule=\"evenodd\" fill=\"#66cc99\" stroke=\"#555555\" stroke-width=\"0.009359680942092467\" opacity=\"0.6\" d=\"M -0.2,0.0 L -0.5,0.5 L 0.0,0.7 L 1.0,0.7 L 1.0,0.6 L 0.6,0.6 L 0.8,0.2 L 0.2,0.2 L -0.5,-0.5 L -0.2,0.0 z M 0.4490369453344394,0.4696034280659121 L 0.44615705608064604,0.48901806440322576 L 0.44138806714644174,0.5080569354508925 L 0.4347759065022573,0.5265366864730181 L 0.42638425286967097,0.5442793473651997 L 0.41629392246050906,0.5611140466039204 L 0.4046020906725474,0.5768786568327292 L 0.39142135623730945,0.5914213562373095 L 0.37687865683272914,0.6046020906725473 L 0.3611140466039204,0.6162939224605091 L 0.3442793473651995,0.626384252869671 L 0.32653668647301803,0.6347759065022573 L 0.3080569354508924,0.6413880671464418 L 0.28901806440322564,0.6461570560806461 L 0.26960342806591203,0.6490369453344393 L 0.24999999999999997,0.65 L 0.2303965719340879,0.6490369453344393 L 0.21098193559677425,0.6461570560806461 L 0.1919430645491075,0.6413880671464418 L 0.1734633135269819,0.6347759065022573 L 0.1557206526348004,0.626384252869671 L 0.13888595339607956,0.6162939224605091 L 0.12312134316727083,0.6046020906725473 L 0.10857864376269047,0.5914213562373095 L 0.09539790932745257,0.5768786568327291 L 0.08370607753949089,0.5611140466039204 L 0.07361574713032898,0.5442793473651996 L 0.06522409349774261,0.526536686473018 L 0.0586119328535582,0.5080569354508925 L 0.0538429439193539,0.4890180644032257 L 0.050963054665560614,0.46960342806591215 L 0.04999999999999999,0.45 L 0.050963054665560614,0.43039657193408787 L 0.0538429439193539,0.4109819355967743 L 0.05861193285355823,0.39194306454910754 L 0.06522409349774264,0.37346331352698203 L 0.073615747130329,0.35572065263480046 L 0.08370607753949091,0.3388859533960796 L 0.0953979093274526,0.3231213431672709 L 0.1085786437626905,0.3085786437626905 L 0.12312134316727091,0.2953979093274526 L 0.13888595339607962,0.28370607753949095 L 0.15572065263480045,0.273615747130329 L 0.17346331352698205,0.2652240934977427 L 0.19194306454910756,0.2586119328535582 L 0.21098193559677436,0.2538429439193539 L 0.23039657193408786,0.2509630546655606 L 0.25,0.25 L 0.26960342806591214,0.2509630546655606 L 0.28901806440322564,0.2538429439193539 L 0.30805693545089247,0.2586119328535582 L 0.326536686473018,0.2652240934977427 L 0.34427934736519955,0.273615747130329 L 0.36111404660392044,0.28370607753949095 L 0.37687865683272914,0.2953979093274526 L 0.39142135623730956,0.3085786437626905 L 0.4046020906725474,0.3231213431672709 L 0.41629392246050906,0.3388859533960796 L 0.426384252869671,0.35572065263480046 L 0.4347759065022574,0.37346331352698203 L 0.44138806714644174,0.39194306454910754 L 0.4461570560806461,0.4109819355967744 L 0.4490369453344394,0.43039657193408787 L 0.45,0.45 L 0.4490369453344394,0.4696034280659121 z\" /><path fill-rule=\"evenodd\" fill=\"#66cc99\" stroke=\"#555555\" stroke-width=\"0.009359680942092467\" opacity=\"0.6\" d=\"M 0.371594918764646,0.6862597846047448 L 0.624539235829966,0.7974742595173699 L 1.1956871900144632,0.7418682633266812 L 0.5511558154553097,0.034304183616191364 L 0.4237537612442529,0.1592767055135358 L 0.371594918764646,0.6862597846047448 z\" /><path fill-rule=\"evenodd\" fill=\"#66cc99\" stroke=\"#555555\" stroke-width=\"0.009359680942092467\" opacity=\"0.6\" d=\"M -0.052692864427691194,-0.23921302731981997 L -0.5375870585211788,0.49459904021170514 L 0.11016459330300765,0.6451826847645443 L 0.4015568533280435,0.0564125934948177 L 0.23148729044187863,0.20939118058518258 L -0.052692864427691194,-0.23921302731981997 z\" /></g></g></svg>"
     },
     "execution_count": 13,
     "metadata": {},
     "output_type": "execute_result"
    }
   ],
   "source": [
    "_packer = packer.get_packer()\n",
    "df_sol = _packer.drop_external(packer.global_optimum_position.copy())\n",
    "_packer.drop_intersected(df_sol)\n",
    "print('Number of items:', len(df_sol), '- Score:', round(packer.global_optimum, 3))\n",
    "GeometryCollection([container, *df_sol['item']])"
   ],
   "metadata": {
    "collapsed": false
   }
  },
  {
   "cell_type": "code",
   "execution_count": 17,
   "outputs": [],
   "source": [
    "# container = ALL_TESTS[7]['container']\n",
    "# shapes = ALL_TESTS[7]['shapes']"
   ],
   "metadata": {
    "collapsed": false
   }
  },
  {
   "cell_type": "code",
   "execution_count": null,
   "outputs": [],
   "source": [
    "# %%time\n",
    "# packer = IrregularPackerPSOLS(\n",
    "#     container,\n",
    "#     shapes,\n",
    "#     phi_p=1,\n",
    "#     phi_g=1,\n",
    "#     w=0.1,\n",
    "#     n_particles=100,\n",
    "#     n_iterations=20,\n",
    "#     intersection_threshold=40,\n",
    "#     max_iter=1000,\n",
    "#     shots=3,\n",
    "#     n_neighbors=5,\n",
    "#     step_portion=2,\n",
    "#     queue_length=3,\n",
    "#     n_rotations=32,\n",
    "# )\n",
    "# packer.pack()"
   ],
   "metadata": {
    "collapsed": false,
    "pycharm": {
     "is_executing": true
    }
   }
  },
  {
   "cell_type": "code",
   "execution_count": null,
   "outputs": [],
   "source": [
    "# _packer = packer.get_packer()\n",
    "# df_sol = _packer.drop_external(packer.global_optimum_position.copy())\n",
    "# _packer.drop_intersected(df_sol)\n",
    "# print('Number of items:', len(df_sol), '- Score:', round(packer.global_optimum, 3))\n",
    "# GeometryCollection([container, *df_sol['item']])"
   ],
   "metadata": {
    "collapsed": false,
    "pycharm": {
     "is_executing": true
    }
   }
  },
  {
   "cell_type": "code",
   "execution_count": null,
   "outputs": [],
   "source": [],
   "metadata": {
    "collapsed": false
   }
  }
 ],
 "metadata": {
  "kernelspec": {
   "display_name": "Python 3",
   "language": "python",
   "name": "python3"
  },
  "language_info": {
   "codemirror_mode": {
    "name": "ipython",
    "version": 2
   },
   "file_extension": ".py",
   "mimetype": "text/x-python",
   "name": "python",
   "nbconvert_exporter": "python",
   "pygments_lexer": "ipython2",
   "version": "2.7.6"
  }
 },
 "nbformat": 4,
 "nbformat_minor": 0
}
