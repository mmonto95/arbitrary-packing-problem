{
 "cells": [
  {
   "cell_type": "code",
   "execution_count": null,
   "outputs": [],
   "source": [
    "%env DISABLE_PROGRESS_BAR=True"
   ],
   "metadata": {
    "collapsed": false
   }
  },
  {
   "cell_type": "code",
   "execution_count": 1,
   "outputs": [],
   "source": [
    "from shapely.geometry import GeometryCollection\n",
    "\n",
    "from packer import IrregularPackerStrictPSOLS\n",
    "from tests import ALL_TESTS"
   ],
   "metadata": {
    "collapsed": false
   }
  },
  {
   "cell_type": "code",
   "execution_count": 2,
   "outputs": [],
   "source": [
    "container = ALL_TESTS[0]['container']\n",
    "shapes = ALL_TESTS[0]['shapes']"
   ],
   "metadata": {
    "collapsed": false
   }
  },
  {
   "cell_type": "code",
   "execution_count": 3,
   "outputs": [
    {
     "data": {
      "text/plain": "  0%|          | 0/100 [00:00<?, ?it/s]",
      "application/vnd.jupyter.widget-view+json": {
       "version_major": 2,
       "version_minor": 0,
       "model_id": "4aad8e2733c448d793dc1c9bd6de939b"
      }
     },
     "metadata": {},
     "output_type": "display_data"
    },
    {
     "data": {
      "text/plain": "  0%|          | 0/20 [00:00<?, ?it/s]",
      "application/vnd.jupyter.widget-view+json": {
       "version_major": 2,
       "version_minor": 0,
       "model_id": "822cda8a9f2c40c1a078d769bdd3d95f"
      }
     },
     "metadata": {},
     "output_type": "display_data"
    },
    {
     "name": "stdout",
     "output_type": "stream",
     "text": [
      "CPU times: user 1h 33min 40s, sys: 17.4 s, total: 1h 33min 58s\n",
      "Wall time: 1h 34min 27s\n"
     ]
    }
   ],
   "source": [
    "%%time\n",
    "packer = IrregularPackerStrictPSOLS(\n",
    "    container,\n",
    "    shapes,\n",
    "    phi_p=1,\n",
    "    phi_g=1,\n",
    "    w=0.1,\n",
    "    n_particles=100,\n",
    "    n_iterations=20,\n",
    "    intersection_threshold=40,\n",
    "    max_iter=1000,\n",
    "    shots=3,\n",
    "    n_neighbors=5,\n",
    "    step_portion=2,\n",
    "    queue_length=3,\n",
    "    n_rotations=8\n",
    ")\n",
    "packer.pack()"
   ],
   "metadata": {
    "collapsed": false
   }
  },
  {
   "cell_type": "code",
   "execution_count": 4,
   "outputs": [
    {
     "name": "stdout",
     "output_type": "stream",
     "text": [
      "Number of circles: 1 - Score: 0.488\n"
     ]
    },
    {
     "data": {
      "text/plain": "<shapely.geometry.collection.GeometryCollection at 0x134bffc40>",
      "image/svg+xml": "<svg xmlns=\"http://www.w3.org/2000/svg\" xmlns:xlink=\"http://www.w3.org/1999/xlink\" width=\"400.0\" height=\"400.0\" viewBox=\"-0.56 -0.56 1.62 1.12\" preserveAspectRatio=\"xMinYMin meet\"><g transform=\"matrix(1,0,0,-1,0,0.0)\"><g><path fill-rule=\"evenodd\" fill=\"#66cc99\" stroke=\"#555555\" stroke-width=\"0.008100000000000001\" opacity=\"0.6\" d=\"M 1.0,-0.5 L 1.0,0.5 L -0.5,0.5 L -0.5,-0.5 L 1.0,-0.5 z\" /><path fill-rule=\"evenodd\" fill=\"#66cc99\" stroke=\"#555555\" stroke-width=\"0.008100000000000001\" opacity=\"0.6\" d=\"M 0.8290047730167482,-0.29775461431005024 L 0.6116167743347726,-0.4793028409204857 L 0.05213932919657194,-0.46442858062532144 L 0.12232462071603067,-0.08229607968998412 L 0.41071069852368114,0.17821729377320128 L 0.8290047730167482,-0.29775461431005024 z\" /></g></g></svg>"
     },
     "execution_count": 4,
     "metadata": {},
     "output_type": "execute_result"
    }
   ],
   "source": [
    "_packer = packer.get_packer()\n",
    "df_sol = _packer.drop_external(packer.global_optimum_position.copy())\n",
    "_packer.drop_intersected(df_sol)\n",
    "print('Number of circles:', len(df_sol), '- Score:', round(packer.global_optimum, 3))\n",
    "GeometryCollection([container, *df_sol['item']])"
   ],
   "metadata": {
    "collapsed": false
   }
  },
  {
   "cell_type": "code",
   "execution_count": 7,
   "outputs": [],
   "source": [
    "# container = ALL_TESTS[1]['container']\n",
    "# shapes = ALL_TESTS[1]['shapes']"
   ],
   "metadata": {
    "collapsed": false
   }
  },
  {
   "cell_type": "code",
   "execution_count": 8,
   "outputs": [
    {
     "name": "stdout",
     "output_type": "stream",
     "text": [
      "CPU times: user 1min 15s, sys: 2.38 s, total: 1min 17s\n",
      "Wall time: 1min 17s\n"
     ]
    }
   ],
   "source": [
    "# %%time\n",
    "# packer = IrregularPackerStrictPSOLS(\n",
    "#     container,\n",
    "#     shapes,\n",
    "#     phi_p=1,\n",
    "#     phi_g=1,\n",
    "#     w=0.1,\n",
    "#     n_particles=100,\n",
    "#     n_iterations=20,\n",
    "#     intersection_threshold=40,\n",
    "#     max_iter=1000,\n",
    "#     shots=3,\n",
    "#     n_neighbors=5,\n",
    "#     step_portion=2,\n",
    "#     queue_length=3,\n",
    "#     n_rotations=32\n",
    "# )\n",
    "# packer.pack()"
   ],
   "metadata": {
    "collapsed": false
   }
  },
  {
   "cell_type": "code",
   "execution_count": null,
   "outputs": [],
   "source": [
    "# _packer = packer.get_packer()\n",
    "# df_sol = _packer.drop_external(packer.global_optimum_position.copy())\n",
    "# _packer.drop_intersected(df_sol)\n",
    "# print('Number of circles:', len(df_sol), '- Score:', round(packer.global_optimum, 3))\n",
    "# GeometryCollection([container, *df_sol['item']])"
   ],
   "metadata": {
    "collapsed": false
   }
  },
  {
   "cell_type": "code",
   "execution_count": 5,
   "outputs": [],
   "source": [
    "container = ALL_TESTS[2]['container']\n",
    "shapes = ALL_TESTS[2]['shapes']"
   ],
   "metadata": {
    "collapsed": false
   }
  },
  {
   "cell_type": "code",
   "execution_count": 6,
   "outputs": [
    {
     "data": {
      "text/plain": "  0%|          | 0/100 [00:00<?, ?it/s]",
      "application/vnd.jupyter.widget-view+json": {
       "version_major": 2,
       "version_minor": 0,
       "model_id": "5d82ebb6b36c4c57877ade32b7757f77"
      }
     },
     "metadata": {},
     "output_type": "display_data"
    },
    {
     "data": {
      "text/plain": "  0%|          | 0/20 [00:00<?, ?it/s]",
      "application/vnd.jupyter.widget-view+json": {
       "version_major": 2,
       "version_minor": 0,
       "model_id": "453647a3e48142a5a3ca356c1f1a913a"
      }
     },
     "metadata": {},
     "output_type": "display_data"
    },
    {
     "name": "stdout",
     "output_type": "stream",
     "text": [
      "CPU times: user 58min 3s, sys: 7.89 s, total: 58min 11s\n",
      "Wall time: 58min 28s\n"
     ]
    }
   ],
   "source": [
    "%%time\n",
    "packer = IrregularPackerStrictPSOLS(\n",
    "    container,\n",
    "    shapes,\n",
    "    phi_p=1,\n",
    "    phi_g=1,\n",
    "    w=0.1,\n",
    "    n_particles=100,\n",
    "    n_iterations=20,\n",
    "    intersection_threshold=40,\n",
    "    max_iter=1000,\n",
    "    shots=3,\n",
    "    n_neighbors=5,\n",
    "    step_portion=2,\n",
    "    queue_length=3,\n",
    "    n_rotations=8\n",
    ")\n",
    "packer.pack()"
   ],
   "metadata": {
    "collapsed": false
   }
  },
  {
   "cell_type": "code",
   "execution_count": 7,
   "outputs": [
    {
     "name": "stdout",
     "output_type": "stream",
     "text": [
      "Number of items: 4 - Score: 0.598\n"
     ]
    },
    {
     "data": {
      "text/plain": "<shapely.geometry.collection.GeometryCollection at 0x134bffd00>",
      "image/svg+xml": "<svg xmlns=\"http://www.w3.org/2000/svg\" xmlns:xlink=\"http://www.w3.org/1999/xlink\" width=\"400.0\" height=\"400.0\" viewBox=\"-0.56 -0.56 1.62 1.12\" preserveAspectRatio=\"xMinYMin meet\"><g transform=\"matrix(1,0,0,-1,0,0.0)\"><g><path fill-rule=\"evenodd\" fill=\"#66cc99\" stroke=\"#555555\" stroke-width=\"0.008100000000000001\" opacity=\"0.6\" d=\"M -0.5,-0.5 L -0.5,0.5 L 1.0,0.5 L 1.0,-0.5 L -0.5,-0.5 z M 0.5485554180016591,0.029405142098868152 L 0.5442355841209691,0.05852709660483861 L 0.5370821007196627,0.08708540317633874 L 0.5271638597533859,0.1148050297095271 L 0.5145763793045064,0.14141902104779938 L 0.49944088369076356,0.16667106990588065 L 0.48190313600882095,0.19031798524909377 L 0.46213203435596417,0.2121320343559643 L 0.4403179852490937,0.23190313600882106 L 0.41667106990588054,0.24944088369076362 L 0.39141902104779924,0.2645763793045065 L 0.364805029709527,0.277163859753386 L 0.3370854031763386,0.28708210071966267 L 0.30852709660483846,0.2942355841209691 L 0.279405142098868,0.2985554180016591 L 0.24999999999999994,0.3 L 0.22059485790113187,0.2985554180016591 L 0.1914729033951614,0.29423558412096906 L 0.16291459682366127,0.2870821007196626 L 0.1351949702904729,0.2771638597533859 L 0.10858097895220062,0.26457637930450645 L 0.08332893009411935,0.24944088369076356 L 0.05968201475090626,0.23190313600882098 L 0.03786796564403569,0.21213203435596423 L 0.01809686399117888,0.19031798524909357 L 0.0005591163092363849,0.16667106990588057 L -0.014576379304506504,0.1414190210477993 L -0.027163859753386033,0.1148050297095269 L -0.03708210071966267,0.08708540317633863 L -0.04423558412096912,0.058527096604838506 L -0.04855541800165908,0.029405142098868176 L -0.04999999999999999,-3.6739403974420595e-17 L -0.04855541800165902,-0.029405142098868246 L -0.04423558412096912,-0.05852709660483858 L -0.037082100719662614,-0.08708540317633871 L -0.027163859753386033,-0.11480502970952697 L -0.014576379304506448,-0.14141902104779935 L 0.0005591163092364126,-0.16667106990588065 L 0.018096863991178908,-0.19031798524909363 L 0.03786796564403577,-0.21213203435596426 L 0.0596820147509064,-0.23190313600882112 L 0.08332893009411943,-0.2494408836907636 L 0.1085809789522007,-0.2645763793045065 L 0.1351949702904731,-0.27716385975338603 L 0.16291459682366136,-0.28708210071966267 L 0.19147290339516154,-0.2942355841209691 L 0.2205948579011318,-0.2985554180016591 L 0.25,-0.3 L 0.27940514209886824,-0.298555418001659 L 0.3085270966048385,-0.2942355841209691 L 0.3370854031763387,-0.2870821007196626 L 0.36480502970952694,-0.27716385975338603 L 0.39141902104779935,-0.26457637930450645 L 0.41667106990588065,-0.24944088369076356 L 0.4403179852490936,-0.2319031360088211 L 0.4621320343559643,-0.21213203435596423 L 0.48190313600882106,-0.19031798524909363 L 0.49944088369076356,-0.16667106990588065 L 0.5145763793045065,-0.1414190210477993 L 0.5271638597533861,-0.11480502970952693 L 0.5370821007196627,-0.0870854031763387 L 0.5442355841209692,-0.05852709660483847 L 0.5485554180016591,-0.02940514209886818 L 0.55,0.0 L 0.5485554180016591,0.029405142098868152 z\" /><path fill-rule=\"evenodd\" fill=\"#66cc99\" stroke=\"#555555\" stroke-width=\"0.008100000000000001\" opacity=\"0.6\" d=\"M 0.9983156242484618,-0.3017667297379937 L 0.5913835000441062,-0.19875222113481714 L 0.6767275125055097,-0.231841262370977 L 0.49266120912313205,-0.35235535805624507 L 0.6196593518519509,0.14482331999919004 L 0.9983156242484618,-0.3017667297379937 z\" /><path fill-rule=\"evenodd\" fill=\"#66cc99\" stroke=\"#555555\" stroke-width=\"0.008100000000000001\" opacity=\"0.6\" d=\"M 0.7608734909771113,0.41035564591809315 L 0.502809044225595,0.2790730552733437 L 0.9951058182509651,0.02983222479171954 L 0.9655257534722868,0.43606752219303613 L 0.7608734909771113,0.41035564591809315 z\" /><path fill-rule=\"evenodd\" fill=\"#66cc99\" stroke=\"#555555\" stroke-width=\"0.008100000000000001\" opacity=\"0.6\" d=\"M -0.3694711655734301,0.4470427553558699 L -0.27247260055900496,0.10147220086496167 L 0.4599294384813347,0.42637022692182386 L -0.3694711655734301,0.4470427553558699 z\" /><path fill-rule=\"evenodd\" fill=\"#66cc99\" stroke=\"#555555\" stroke-width=\"0.008100000000000001\" opacity=\"0.6\" d=\"M -0.4282212067129517,0.3378916659094426 L -0.07750337197560003,-0.2188569188322263 L -0.4844529622813981,-0.4102239211585756 L -0.4282212067129517,0.3378916659094426 z\" /></g></g></svg>"
     },
     "execution_count": 7,
     "metadata": {},
     "output_type": "execute_result"
    }
   ],
   "source": [
    "_packer = packer.get_packer()\n",
    "df_sol = _packer.drop_external(packer.global_optimum_position.copy())\n",
    "_packer.drop_intersected(df_sol)\n",
    "print('Number of items:', len(df_sol), '- Score:', round(packer.global_optimum, 3))\n",
    "GeometryCollection([container, *df_sol['item']])"
   ],
   "metadata": {
    "collapsed": false
   }
  },
  {
   "cell_type": "code",
   "execution_count": 5,
   "outputs": [],
   "source": [
    "# container = ALL_TESTS[3]['container']\n",
    "# shapes = ALL_TESTS[3]['shapes']"
   ],
   "metadata": {
    "collapsed": false
   }
  },
  {
   "cell_type": "code",
   "execution_count": null,
   "outputs": [],
   "source": [
    "# %%time\n",
    "# packer = IrregularPackerStrictPSOLS(\n",
    "#     container,\n",
    "#     shapes,\n",
    "#     phi_p=1,\n",
    "#     phi_g=1,\n",
    "#     w=0.1,\n",
    "#     n_particles=100,\n",
    "#     n_iterations=20,\n",
    "#     intersection_threshold=40,\n",
    "#     max_iter=1000,\n",
    "#     shots=3,\n",
    "#     n_neighbors=5,\n",
    "#     step_portion=2,\n",
    "#     queue_length=3,\n",
    "#     n_rotations=32\n",
    "# )\n",
    "# packer.pack()"
   ],
   "metadata": {
    "collapsed": false,
    "pycharm": {
     "is_executing": true
    }
   }
  },
  {
   "cell_type": "code",
   "execution_count": null,
   "outputs": [],
   "source": [
    "# _packer = packer.get_packer()\n",
    "# df_sol = _packer.drop_external(packer.global_optimum_position.copy())\n",
    "# _packer.drop_intersected(df_sol)\n",
    "# print('Number of items:', len(df_sol), '- Score:', round(packer.global_optimum, 3))\n",
    "# GeometryCollection([container, *df_sol['item']])"
   ],
   "metadata": {
    "collapsed": false,
    "pycharm": {
     "is_executing": true
    }
   }
  },
  {
   "cell_type": "code",
   "execution_count": 8,
   "outputs": [],
   "source": [
    "container = ALL_TESTS[4]['container']\n",
    "shapes = ALL_TESTS[4]['shapes']"
   ],
   "metadata": {
    "collapsed": false
   }
  },
  {
   "cell_type": "code",
   "execution_count": 9,
   "outputs": [
    {
     "data": {
      "text/plain": "  0%|          | 0/100 [00:00<?, ?it/s]",
      "application/vnd.jupyter.widget-view+json": {
       "version_major": 2,
       "version_minor": 0,
       "model_id": "05641bb46fa04ebe99d04d980a2d3987"
      }
     },
     "metadata": {},
     "output_type": "display_data"
    },
    {
     "data": {
      "text/plain": "  0%|          | 0/20 [00:00<?, ?it/s]",
      "application/vnd.jupyter.widget-view+json": {
       "version_major": 2,
       "version_minor": 0,
       "model_id": "cec1e4c7ab0a4243b444f0064906a7f6"
      }
     },
     "metadata": {},
     "output_type": "display_data"
    },
    {
     "name": "stdout",
     "output_type": "stream",
     "text": [
      "CPU times: user 1h 52min 14s, sys: 16.9 s, total: 1h 52min 31s\n",
      "Wall time: 1h 53min 3s\n"
     ]
    }
   ],
   "source": [
    "%%time\n",
    "packer = IrregularPackerStrictPSOLS(\n",
    "    container,\n",
    "    shapes,\n",
    "    phi_p=1,\n",
    "    phi_g=1,\n",
    "    w=0.1,\n",
    "    n_particles=100,\n",
    "    n_iterations=20,\n",
    "    intersection_threshold=40,\n",
    "    max_iter=1000,\n",
    "    shots=3,\n",
    "    n_neighbors=5,\n",
    "    step_portion=2,\n",
    "    queue_length=3,\n",
    "    n_rotations=8\n",
    ")\n",
    "packer.pack()"
   ],
   "metadata": {
    "collapsed": false
   }
  },
  {
   "cell_type": "code",
   "execution_count": 10,
   "outputs": [
    {
     "name": "stdout",
     "output_type": "stream",
     "text": [
      "Number of items: 1 - Score: 0.492\n"
     ]
    },
    {
     "data": {
      "text/plain": "<shapely.geometry.collection.GeometryCollection at 0x1369bb6d0>",
      "image/svg+xml": "<svg xmlns=\"http://www.w3.org/2000/svg\" xmlns:xlink=\"http://www.w3.org/1999/xlink\" width=\"400.0\" height=\"400.0\" viewBox=\"-0.56 -0.56 1.62 1.32\" preserveAspectRatio=\"xMinYMin meet\"><g transform=\"matrix(1,0,0,-1,0,0.19999999999999996)\"><g><path fill-rule=\"evenodd\" fill=\"#66cc99\" stroke=\"#555555\" stroke-width=\"0.008100000000000001\" opacity=\"0.6\" d=\"M -0.5,-0.5 L 0.2,0.2 L 0.8,0.2 L 0.6,0.6 L 1.0,0.6 L 1.0,0.7 L 0.0,0.7 L -0.5,0.5 L -0.2,0.0 L -0.5,-0.5 z\" /><path fill-rule=\"evenodd\" fill=\"#66cc99\" stroke=\"#555555\" stroke-width=\"0.008100000000000001\" opacity=\"0.6\" d=\"M -0.2616659727024486,0.5899423988228495 L -0.0038184826252000703,0.6892608705519067 L 0.5641215841640205,0.607126268118153 L -0.11265052267395603,-0.06966552785291902 L -0.23409654868468976,0.06110250116327154 L -0.2616659727024486,0.5899423988228495 z\" /></g></g></svg>"
     },
     "execution_count": 10,
     "metadata": {},
     "output_type": "execute_result"
    }
   ],
   "source": [
    "_packer = packer.get_packer()\n",
    "df_sol = _packer.drop_external(packer.global_optimum_position.copy())\n",
    "_packer.drop_intersected(df_sol)\n",
    "print('Number of items:', len(df_sol), '- Score:', round(packer.global_optimum, 3))\n",
    "GeometryCollection([container, *df_sol['item']])"
   ],
   "metadata": {
    "collapsed": false
   }
  },
  {
   "cell_type": "code",
   "execution_count": 11,
   "outputs": [],
   "source": [
    "# container = ALL_TESTS[5]['container']\n",
    "# shapes = ALL_TESTS[5]['shapes']"
   ],
   "metadata": {
    "collapsed": false
   }
  },
  {
   "cell_type": "code",
   "execution_count": null,
   "outputs": [],
   "source": [
    "# %%time\n",
    "# packer = IrregularPackerStrictPSOLS(\n",
    "#     container,\n",
    "#     shapes,\n",
    "#     phi_p=1,\n",
    "#     phi_g=1,\n",
    "#     w=0.1,\n",
    "#     n_particles=100,\n",
    "#     n_iterations=20,\n",
    "#     intersection_threshold=40,\n",
    "#     max_iter=1000,\n",
    "#     shots=3,\n",
    "#     n_neighbors=5,\n",
    "#     step_portion=2,\n",
    "#     queue_length=3,\n",
    "#     n_rotations=32\n",
    "# )\n",
    "# packer.pack()"
   ],
   "metadata": {
    "collapsed": false,
    "pycharm": {
     "is_executing": true
    }
   }
  },
  {
   "cell_type": "code",
   "execution_count": null,
   "outputs": [],
   "source": [
    "# _packer = packer.get_packer()\n",
    "# df_sol = _packer.drop_external(packer.global_optimum_position.copy())\n",
    "# _packer.drop_intersected(df_sol)\n",
    "# print('Number of items:', len(df_sol), '- Score:', round(packer.global_optimum, 3))\n",
    "# GeometryCollection([container, *df_sol['item']])"
   ],
   "metadata": {
    "collapsed": false,
    "pycharm": {
     "is_executing": true
    }
   }
  },
  {
   "cell_type": "code",
   "execution_count": 11,
   "outputs": [],
   "source": [
    "container = ALL_TESTS[6]['container']\n",
    "shapes = ALL_TESTS[6]['shapes']"
   ],
   "metadata": {
    "collapsed": false
   }
  },
  {
   "cell_type": "code",
   "execution_count": 12,
   "outputs": [
    {
     "data": {
      "text/plain": "  0%|          | 0/100 [00:00<?, ?it/s]",
      "application/vnd.jupyter.widget-view+json": {
       "version_major": 2,
       "version_minor": 0,
       "model_id": "e268db3554054003a8070e8ac13635bb"
      }
     },
     "metadata": {},
     "output_type": "display_data"
    },
    {
     "data": {
      "text/plain": "  0%|          | 0/20 [00:00<?, ?it/s]",
      "application/vnd.jupyter.widget-view+json": {
       "version_major": 2,
       "version_minor": 0,
       "model_id": "8cb38a8e46314a33867bd56515ffcaf3"
      }
     },
     "metadata": {},
     "output_type": "display_data"
    },
    {
     "name": "stdout",
     "output_type": "stream",
     "text": [
      "CPU times: user 32min 46s, sys: 4.95 s, total: 32min 50s\n",
      "Wall time: 32min 58s\n"
     ]
    }
   ],
   "source": [
    "%%time\n",
    "packer = IrregularPackerStrictPSOLS(\n",
    "    container,\n",
    "    shapes,\n",
    "    phi_p=1,\n",
    "    phi_g=1,\n",
    "    w=0.1,\n",
    "    n_particles=100,\n",
    "    n_iterations=20,\n",
    "    intersection_threshold=40,\n",
    "    max_iter=1000,\n",
    "    shots=3,\n",
    "    n_neighbors=5,\n",
    "    step_portion=2,\n",
    "    queue_length=3,\n",
    "    n_rotations=8\n",
    ")\n",
    "packer.pack()"
   ],
   "metadata": {
    "collapsed": false
   }
  },
  {
   "cell_type": "code",
   "execution_count": 13,
   "outputs": [
    {
     "name": "stdout",
     "output_type": "stream",
     "text": [
      "Number of items: 2 - Score: 0.712\n"
     ]
    },
    {
     "data": {
      "text/plain": "<shapely.geometry.collection.GeometryCollection at 0x134cb7fd0>",
      "image/svg+xml": "<svg xmlns=\"http://www.w3.org/2000/svg\" xmlns:xlink=\"http://www.w3.org/1999/xlink\" width=\"400.0\" height=\"400.0\" viewBox=\"-0.56 -0.56 1.62 1.32\" preserveAspectRatio=\"xMinYMin meet\"><g transform=\"matrix(1,0,0,-1,0,0.19999999999999996)\"><g><path fill-rule=\"evenodd\" fill=\"#66cc99\" stroke=\"#555555\" stroke-width=\"0.008100000000000001\" opacity=\"0.6\" d=\"M -0.2,0.0 L -0.5,0.5 L 0.0,0.7 L 1.0,0.7 L 1.0,0.6 L 0.6,0.6 L 0.8,0.2 L 0.2,0.2 L -0.5,-0.5 L -0.2,0.0 z M 0.4490369453344394,0.4696034280659121 L 0.44615705608064604,0.48901806440322576 L 0.44138806714644174,0.5080569354508925 L 0.4347759065022573,0.5265366864730181 L 0.42638425286967097,0.5442793473651997 L 0.41629392246050906,0.5611140466039204 L 0.4046020906725474,0.5768786568327292 L 0.39142135623730945,0.5914213562373095 L 0.37687865683272914,0.6046020906725473 L 0.3611140466039204,0.6162939224605091 L 0.3442793473651995,0.626384252869671 L 0.32653668647301803,0.6347759065022573 L 0.3080569354508924,0.6413880671464418 L 0.28901806440322564,0.6461570560806461 L 0.26960342806591203,0.6490369453344393 L 0.24999999999999997,0.65 L 0.2303965719340879,0.6490369453344393 L 0.21098193559677425,0.6461570560806461 L 0.1919430645491075,0.6413880671464418 L 0.1734633135269819,0.6347759065022573 L 0.1557206526348004,0.626384252869671 L 0.13888595339607956,0.6162939224605091 L 0.12312134316727083,0.6046020906725473 L 0.10857864376269047,0.5914213562373095 L 0.09539790932745257,0.5768786568327291 L 0.08370607753949089,0.5611140466039204 L 0.07361574713032898,0.5442793473651996 L 0.06522409349774261,0.526536686473018 L 0.0586119328535582,0.5080569354508925 L 0.0538429439193539,0.4890180644032257 L 0.050963054665560614,0.46960342806591215 L 0.04999999999999999,0.45 L 0.050963054665560614,0.43039657193408787 L 0.0538429439193539,0.4109819355967743 L 0.05861193285355823,0.39194306454910754 L 0.06522409349774264,0.37346331352698203 L 0.073615747130329,0.35572065263480046 L 0.08370607753949091,0.3388859533960796 L 0.0953979093274526,0.3231213431672709 L 0.1085786437626905,0.3085786437626905 L 0.12312134316727091,0.2953979093274526 L 0.13888595339607962,0.28370607753949095 L 0.15572065263480045,0.273615747130329 L 0.17346331352698205,0.2652240934977427 L 0.19194306454910756,0.2586119328535582 L 0.21098193559677436,0.2538429439193539 L 0.23039657193408786,0.2509630546655606 L 0.25,0.25 L 0.26960342806591214,0.2509630546655606 L 0.28901806440322564,0.2538429439193539 L 0.30805693545089247,0.2586119328535582 L 0.326536686473018,0.2652240934977427 L 0.34427934736519955,0.273615747130329 L 0.36111404660392044,0.28370607753949095 L 0.37687865683272914,0.2953979093274526 L 0.39142135623730956,0.3085786437626905 L 0.4046020906725474,0.3231213431672709 L 0.41629392246050906,0.3388859533960796 L 0.426384252869671,0.35572065263480046 L 0.4347759065022574,0.37346331352698203 L 0.44138806714644174,0.39194306454910754 L 0.4461570560806461,0.4109819355967744 L 0.4490369453344394,0.43039657193408787 L 0.45,0.45 L 0.4490369453344394,0.4696034280659121 z\" /><path fill-rule=\"evenodd\" fill=\"#66cc99\" stroke=\"#555555\" stroke-width=\"0.008100000000000001\" opacity=\"0.6\" d=\"M 0.11484787483876524,0.23885110306551083 L 0.43046611284241343,0.2085262163520939 L 0.625248696409381,0.24598720296090193 L 0.11484787483876524,0.23885110306551083 z\" /><path fill-rule=\"evenodd\" fill=\"#66cc99\" stroke=\"#555555\" stroke-width=\"0.008100000000000001\" opacity=\"0.6\" d=\"M -0.15671427519513537,0.5727832452686595 L -0.43229247847485486,0.48396302707097133 L 0.014394523912404977,0.16000650654199544 L 0.04942886035322669,0.5658078031850667 L -0.15671427519513537,0.5727832452686595 z\" /></g></g></svg>"
     },
     "execution_count": 13,
     "metadata": {},
     "output_type": "execute_result"
    }
   ],
   "source": [
    "_packer = packer.get_packer()\n",
    "df_sol = _packer.drop_external(packer.global_optimum_position.copy())\n",
    "_packer.drop_intersected(df_sol)\n",
    "print('Number of items:', len(df_sol), '- Score:', round(packer.global_optimum, 3))\n",
    "GeometryCollection([container, *df_sol['item']])"
   ],
   "metadata": {
    "collapsed": false
   }
  },
  {
   "cell_type": "code",
   "execution_count": 17,
   "outputs": [],
   "source": [
    "# container = ALL_TESTS[7]['container']\n",
    "# shapes = ALL_TESTS[7]['shapes']"
   ],
   "metadata": {
    "collapsed": false
   }
  },
  {
   "cell_type": "code",
   "execution_count": null,
   "outputs": [],
   "source": [
    "# %%time\n",
    "# packer = IrregularPackerStrictPSOLS(\n",
    "#     container,\n",
    "#     shapes,\n",
    "#     phi_p=1,\n",
    "#     phi_g=1,\n",
    "#     w=0.1,\n",
    "#     n_particles=100,\n",
    "#     n_iterations=20,\n",
    "#     intersection_threshold=40,\n",
    "#     max_iter=1000,\n",
    "#     shots=3,\n",
    "#     n_neighbors=5,\n",
    "#     step_portion=2,\n",
    "#     queue_length=3,\n",
    "#     n_rotations=32\n",
    "# )\n",
    "# packer.pack()"
   ],
   "metadata": {
    "collapsed": false,
    "pycharm": {
     "is_executing": true
    }
   }
  },
  {
   "cell_type": "code",
   "execution_count": null,
   "outputs": [],
   "source": [
    "# _packer = packer.get_packer()\n",
    "# df_sol = _packer.drop_external(packer.global_optimum_position.copy())\n",
    "# _packer.drop_intersected(df_sol)\n",
    "# print('Number of items:', len(df_sol), '- Score:', round(packer.global_optimum, 3))\n",
    "# GeometryCollection([container, *df_sol['item']])"
   ],
   "metadata": {
    "collapsed": false,
    "pycharm": {
     "is_executing": true
    }
   }
  },
  {
   "cell_type": "code",
   "execution_count": null,
   "outputs": [],
   "source": [],
   "metadata": {
    "collapsed": false
   }
  }
 ],
 "metadata": {
  "kernelspec": {
   "display_name": "Python 3",
   "language": "python",
   "name": "python3"
  },
  "language_info": {
   "codemirror_mode": {
    "name": "ipython",
    "version": 2
   },
   "file_extension": ".py",
   "mimetype": "text/x-python",
   "name": "python",
   "nbconvert_exporter": "python",
   "pygments_lexer": "ipython2",
   "version": "2.7.6"
  }
 },
 "nbformat": 4,
 "nbformat_minor": 0
}
