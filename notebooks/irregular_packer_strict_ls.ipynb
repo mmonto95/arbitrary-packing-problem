{
 "cells": [
  {
   "cell_type": "code",
   "execution_count": null,
   "metadata": {
    "collapsed": true
   },
   "outputs": [],
   "source": [
    "from shapely.geometry import GeometryCollection\n",
    "\n",
    "from packer import IrregularPackerStrictGBFLS\n",
    "from tests import ALL_TESTS"
   ]
  },
  {
   "cell_type": "code",
   "execution_count": null,
   "outputs": [],
   "source": [
    "container = ALL_TESTS[0]['container']\n",
    "shapes = ALL_TESTS[0]['shapes']"
   ],
   "metadata": {
    "collapsed": false
   }
  },
  {
   "cell_type": "code",
   "execution_count": null,
   "outputs": [],
   "source": [
    "%%time\n",
    "packer = IrregularPackerStrictGBFLS(\n",
    "    container,\n",
    "    shapes,\n",
    "    intersection_threshold=40,\n",
    "    max_iter=1000,\n",
    "    shots=5,\n",
    "    n_neighbors=16,\n",
    "    step_portion=16,\n",
    "    queue_length=12,\n",
    "    n_rotations=32,\n",
    "    n_search=100,\n",
    ")\n",
    "df_sol = packer.pack()"
   ],
   "metadata": {
    "collapsed": false
   }
  },
  {
   "cell_type": "code",
   "execution_count": null,
   "outputs": [],
   "source": [
    "print('Number of items:', len(df_sol), '- Score:', round(packer.score(), 3))\n",
    "GeometryCollection([container, *df_sol['item']])"
   ],
   "metadata": {
    "collapsed": false
   }
  },
  {
   "cell_type": "code",
   "execution_count": null,
   "outputs": [],
   "source": [
    "container = ALL_TESTS[1]['container']\n",
    "shapes = ALL_TESTS[1]['shapes']"
   ],
   "metadata": {
    "collapsed": false
   }
  },
  {
   "cell_type": "code",
   "execution_count": null,
   "outputs": [],
   "source": [
    "%%time\n",
    "packer = IrregularPackerStrictGBFLS(\n",
    "    container,\n",
    "    shapes,\n",
    "    intersection_threshold=40,\n",
    "    max_iter=1000,\n",
    "    shots=5,\n",
    "    n_neighbors=16,\n",
    "    step_portion=16,\n",
    "    queue_length=12,\n",
    "    n_rotations=32,\n",
    "    n_search=10,\n",
    ")\n",
    "df_sol = packer.pack()"
   ],
   "metadata": {
    "collapsed": false
   }
  },
  {
   "cell_type": "code",
   "execution_count": null,
   "outputs": [],
   "source": [
    "print('Number of items:', len(df_sol), '- Score:', round(packer.score(), 3))\n",
    "GeometryCollection([container, *df_sol['item']])"
   ],
   "metadata": {
    "collapsed": false,
    "pycharm": {
     "is_executing": true
    }
   }
  },
  {
   "cell_type": "code",
   "execution_count": null,
   "outputs": [],
   "source": [
    "%%time\n",
    "packer = IrregularPackerStrictGBFLS(\n",
    "    container,\n",
    "    shapes,\n",
    "    intersection_threshold=40,\n",
    "    max_iter=1000,\n",
    "    shots=5,\n",
    "    n_neighbors=16,\n",
    "    step_portion=16,\n",
    "    queue_length=12,\n",
    "    n_rotations=32,\n",
    "    n_search=10,\n",
    ")\n",
    "df_sol = packer.pack()"
   ],
   "metadata": {
    "collapsed": false
   }
  },
  {
   "cell_type": "code",
   "execution_count": null,
   "outputs": [],
   "source": [
    "print('Number of items:', len(df_sol), '- Score:', round(packer.score(), 3))\n",
    "GeometryCollection([container, *df_sol['item']])"
   ],
   "metadata": {
    "collapsed": false,
    "pycharm": {
     "is_executing": true
    }
   }
  },
  {
   "cell_type": "code",
   "execution_count": null,
   "outputs": [],
   "source": [
    "container = ALL_TESTS[2]['container']\n",
    "shapes = ALL_TESTS[2]['shapes']"
   ],
   "metadata": {
    "collapsed": false
   }
  },
  {
   "cell_type": "code",
   "execution_count": null,
   "outputs": [],
   "source": [
    "%%time\n",
    "packer = IrregularPackerStrictGBFLS(\n",
    "    container,\n",
    "    shapes,\n",
    "    intersection_threshold=40,\n",
    "    max_iter=1000,\n",
    "    shots=5,\n",
    "    n_neighbors=16,\n",
    "    step_portion=16,\n",
    "    queue_length=12,\n",
    "    n_rotations=32,\n",
    "    n_search=100,\n",
    ")\n",
    "df_sol = packer.pack()"
   ],
   "metadata": {
    "collapsed": false
   }
  },
  {
   "cell_type": "code",
   "execution_count": null,
   "outputs": [],
   "source": [
    "print('Number of items:', len(df_sol), '- Score:', round(packer.score(), 3))\n",
    "GeometryCollection([container, *df_sol['item']])"
   ],
   "metadata": {
    "collapsed": false
   }
  },
  {
   "cell_type": "code",
   "execution_count": null,
   "outputs": [],
   "source": [
    "container = ALL_TESTS[3]['container']\n",
    "shapes = ALL_TESTS[3]['shapes']"
   ],
   "metadata": {
    "collapsed": false
   }
  },
  {
   "cell_type": "code",
   "execution_count": null,
   "outputs": [],
   "source": [
    "%%time\n",
    "packer = IrregularPackerStrictGBFLS(\n",
    "    container,\n",
    "    shapes,\n",
    "    intersection_threshold=40,\n",
    "    max_iter=1000,\n",
    "    shots=5,\n",
    "    n_neighbors=16,\n",
    "    step_portion=16,\n",
    "    queue_length=12,\n",
    "    n_rotations=32,\n",
    "    n_search=10,\n",
    ")\n",
    "df_sol = packer.pack()"
   ],
   "metadata": {
    "collapsed": false
   }
  },
  {
   "cell_type": "code",
   "execution_count": null,
   "outputs": [],
   "source": [
    "print('Number of items:', len(df_sol), '- Score:', round(packer.score(), 3))\n",
    "GeometryCollection([container, *df_sol['item']])"
   ],
   "metadata": {
    "collapsed": false
   }
  },
  {
   "cell_type": "code",
   "execution_count": null,
   "outputs": [],
   "source": [
    "container = ALL_TESTS[4]['container']\n",
    "shapes = ALL_TESTS[4]['shapes']"
   ],
   "metadata": {
    "collapsed": false
   }
  },
  {
   "cell_type": "code",
   "execution_count": null,
   "outputs": [],
   "source": [
    "%%time\n",
    "packer = IrregularPackerStrictGBFLS(\n",
    "    container,\n",
    "    shapes,\n",
    "    intersection_threshold=40,\n",
    "    max_iter=1000,\n",
    "    shots=5,\n",
    "    n_neighbors=16,\n",
    "    step_portion=16,\n",
    "    queue_length=12,\n",
    "    n_rotations=32,\n",
    "    n_search=100,\n",
    ")\n",
    "df_sol = packer.pack()"
   ],
   "metadata": {
    "collapsed": false
   }
  },
  {
   "cell_type": "code",
   "execution_count": null,
   "outputs": [],
   "source": [
    "print('Number of items:', len(df_sol), '- Score:', round(packer.score(), 3))\n",
    "GeometryCollection([container, *df_sol['item']])"
   ],
   "metadata": {
    "collapsed": false
   }
  },
  {
   "cell_type": "code",
   "execution_count": null,
   "outputs": [],
   "source": [
    "container = ALL_TESTS[5]['container']\n",
    "shapes = ALL_TESTS[5]['shapes']"
   ],
   "metadata": {
    "collapsed": false
   }
  },
  {
   "cell_type": "code",
   "execution_count": null,
   "outputs": [],
   "source": [
    "%%time\n",
    "packer = IrregularPackerStrictGBFLS(\n",
    "    container,\n",
    "    shapes,\n",
    "    intersection_threshold=40,\n",
    "    max_iter=1000,\n",
    "    shots=5,\n",
    "    n_neighbors=16,\n",
    "    step_portion=16,\n",
    "    queue_length=12,\n",
    "    n_rotations=32,\n",
    "    n_search=10,\n",
    ")\n",
    "df_sol = packer.pack()"
   ],
   "metadata": {
    "collapsed": false
   }
  },
  {
   "cell_type": "code",
   "execution_count": null,
   "outputs": [],
   "source": [
    "print('Number of items:', len(df_sol), '- Score:', round(packer.score(), 3))\n",
    "GeometryCollection([container, *df_sol['item']])"
   ],
   "metadata": {
    "collapsed": false
   }
  },
  {
   "cell_type": "code",
   "execution_count": null,
   "outputs": [],
   "source": [
    "container = ALL_TESTS[6]['container']\n",
    "shapes = ALL_TESTS[6]['shapes']"
   ],
   "metadata": {
    "collapsed": false
   }
  },
  {
   "cell_type": "code",
   "execution_count": null,
   "outputs": [],
   "source": [
    "%%time\n",
    "packer = IrregularPackerStrictGBFLS(\n",
    "    container,\n",
    "    shapes,\n",
    "    intersection_threshold=40,\n",
    "    max_iter=1000,\n",
    "    shots=5,\n",
    "    n_neighbors=16,\n",
    "    step_portion=16,\n",
    "    queue_length=12,\n",
    "    n_rotations=32,\n",
    "    n_search=100,\n",
    ")\n",
    "df_sol = packer.pack()"
   ],
   "metadata": {
    "collapsed": false
   }
  },
  {
   "cell_type": "code",
   "execution_count": null,
   "outputs": [],
   "source": [
    "print('Number of items:', len(df_sol), '- Score:', round(packer.score(), 3))\n",
    "GeometryCollection([container, *df_sol['item']])"
   ],
   "metadata": {
    "collapsed": false
   }
  },
  {
   "cell_type": "code",
   "execution_count": null,
   "outputs": [],
   "source": [
    "container = ALL_TESTS[7]['container']\n",
    "shapes = ALL_TESTS[7]['shapes']"
   ],
   "metadata": {
    "collapsed": false
   }
  },
  {
   "cell_type": "code",
   "execution_count": null,
   "outputs": [],
   "source": [
    "%%time\n",
    "packer = IrregularPackerStrictGBFLS(\n",
    "    container,\n",
    "    shapes,\n",
    "    intersection_threshold=40,\n",
    "    max_iter=1000,\n",
    "    shots=5,\n",
    "    n_neighbors=16,\n",
    "    step_portion=16,\n",
    "    queue_length=12,\n",
    "    n_rotations=32,\n",
    "    n_search=10,\n",
    ")\n",
    "df_sol = packer.pack()"
   ],
   "metadata": {
    "collapsed": false
   }
  },
  {
   "cell_type": "code",
   "execution_count": null,
   "outputs": [],
   "source": [
    "print('Number of items:', len(df_sol), '- Score:', round(packer.score(), 3))\n",
    "GeometryCollection([container, *df_sol['item']])"
   ],
   "metadata": {
    "collapsed": false
   }
  },
  {
   "cell_type": "code",
   "execution_count": null,
   "outputs": [],
   "source": [],
   "metadata": {
    "collapsed": false
   }
  }
 ],
 "metadata": {
  "kernelspec": {
   "display_name": "Python 3",
   "language": "python",
   "name": "python3"
  },
  "language_info": {
   "codemirror_mode": {
    "name": "ipython",
    "version": 2
   },
   "file_extension": ".py",
   "mimetype": "text/x-python",
   "name": "python",
   "nbconvert_exporter": "python",
   "pygments_lexer": "ipython2",
   "version": "2.7.6"
  }
 },
 "nbformat": 4,
 "nbformat_minor": 0
}
