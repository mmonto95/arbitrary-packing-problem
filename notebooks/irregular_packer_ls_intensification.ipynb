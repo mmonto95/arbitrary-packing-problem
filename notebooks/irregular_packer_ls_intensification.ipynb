{
 "cells": [
  {
   "cell_type": "code",
   "execution_count": null,
   "outputs": [],
   "source": [
    "%env DISABLE_PROGRESS_BAR=True"
   ],
   "metadata": {
    "collapsed": false
   }
  },
  {
   "cell_type": "code",
   "execution_count": 3,
   "outputs": [],
   "source": [
    "from shapely.geometry import GeometryCollection\n",
    "\n",
    "from packer import IrregularPackerLSIntensification\n",
    "from tests import ALL_TESTS"
   ],
   "metadata": {
    "collapsed": false
   }
  },
  {
   "cell_type": "code",
   "execution_count": 4,
   "outputs": [],
   "source": [
    "container = ALL_TESTS[0]['container']\n",
    "shapes = ALL_TESTS[0]['shapes']"
   ],
   "metadata": {
    "collapsed": false
   }
  },
  {
   "cell_type": "code",
   "execution_count": null,
   "outputs": [],
   "source": [
    "%%time\n",
    "packer = IrregularPackerLSIntensification(\n",
    "    container,\n",
    "    shapes,\n",
    "    intersection_threshold=40,\n",
    "    max_iter=1000,\n",
    "    shots=3,\n",
    "    n_neighbors=5,\n",
    "    step_portion=2,\n",
    "    queue_length=3,\n",
    "    n_rotations=32,\n",
    "    n_search=10\n",
    ")\n",
    "df_sol = packer.pack()"
   ],
   "metadata": {
    "collapsed": false,
    "pycharm": {
     "is_executing": true
    }
   }
  },
  {
   "cell_type": "code",
   "execution_count": 6,
   "outputs": [
    {
     "name": "stdout",
     "output_type": "stream",
     "text": [
      "Number of items: 7 - Score: 0.425\n"
     ]
    },
    {
     "data": {
      "text/plain": "<shapely.geometry.collection.GeometryCollection at 0x110d88340>",
      "image/svg+xml": "<svg xmlns=\"http://www.w3.org/2000/svg\" xmlns:xlink=\"http://www.w3.org/1999/xlink\" width=\"400.0\" height=\"400.0\" viewBox=\"-0.5702349073627331 -0.5962600256888898 1.6758111784055687 1.177333057230439\" preserveAspectRatio=\"xMinYMin meet\"><g transform=\"matrix(1,0,0,-1,0,-0.015186994147340704)\"><g><path fill-rule=\"evenodd\" fill=\"#66cc99\" stroke=\"#555555\" stroke-width=\"0.008379055892027844\" opacity=\"0.6\" d=\"M 1.0,-0.5 L 1.0,0.5 L -0.5,0.5 L -0.5,-0.5 L 1.0,-0.5 z\" /><path fill-rule=\"evenodd\" fill=\"#66cc99\" stroke=\"#555555\" stroke-width=\"0.008379055892027844\" opacity=\"0.6\" d=\"M 0.4699264233252173,-0.4723111250483873 L 0.30464793629628467,-0.44079098904277125 L 0.616801519091305,-0.183238508590027 L 0.4699264233252173,-0.4723111250483873 z\" /><path fill-rule=\"evenodd\" fill=\"#66cc99\" stroke=\"#555555\" stroke-width=\"0.008379055892027844\" opacity=\"0.6\" d=\"M -0.033614652348775365,0.5190059508598613 L 0.5351927274250476,0.30431503647640756 L 0.6939039231913382,0.29151554793519574 L 0.4495592972648118,0.4653491712380896 L -0.033614652348775365,0.5190059508598613 z\" /><path fill-rule=\"evenodd\" fill=\"#66cc99\" stroke=\"#555555\" stroke-width=\"0.008379055892027844\" opacity=\"0.6\" d=\"M -0.48998279884296564,-0.33910245589936366 L -0.16700519742016728,-0.12239419009760044 L -0.4434948912435135,0.007786377442426828 L -0.48998279884296564,-0.33910245589936366 z\" /><path fill-rule=\"evenodd\" fill=\"#66cc99\" stroke=\"#555555\" stroke-width=\"0.008379055892027844\" opacity=\"0.6\" d=\"M -0.48873158631430597,-0.4112053724534296 L -0.055501518306943276,-0.047883946806021815 L 0.0917563131630984,-0.4558902563476602 L -0.07640250466678883,-0.3051575935948703 L -0.48873158631430597,-0.4112053724534296 z\" /><path fill-rule=\"evenodd\" fill=\"#66cc99\" stroke=\"#555555\" stroke-width=\"0.008379055892027844\" opacity=\"0.6\" d=\"M 0.9902397715486692,0.5171270578541335 L 0.2951339663731181,0.465883474624612 L 0.8701932042977315,0.407784890216214 L 0.5630551278722433,-0.38175253965471095 L 0.9238873696876518,-0.3418187184330806 L 0.9902397715486692,0.5171270578541335 z\" /><path fill-rule=\"evenodd\" fill=\"#66cc99\" stroke=\"#555555\" stroke-width=\"0.008379055892027844\" opacity=\"0.6\" d=\"M 0.2041153011935024,-0.534192945007202 L 1.043509190361148,0.41032255020575215 L 0.45367016372883606,0.07980732147236957 L 0.3291667287546418,0.42092022207084434 L 0.2041153011935024,-0.534192945007202 z\" /><path fill-rule=\"evenodd\" fill=\"#66cc99\" stroke=\"#555555\" stroke-width=\"0.008379055892027844\" opacity=\"0.6\" d=\"M 0.2094073123868129,-0.07696612114631951 L 0.28326848801105053,0.3585038067467836 L -0.06499447140071916,0.5082075635979915 L -0.5081678266810453,0.07342367781804254 L 0.2094073123868129,-0.07696612114631951 z\" /></g></g></svg>"
     },
     "execution_count": 6,
     "metadata": {},
     "output_type": "execute_result"
    }
   ],
   "source": [
    "print('Number of items:', len(df_sol), '- Score:', round(packer.score(), 3))\n",
    "GeometryCollection([container, *df_sol['item']])"
   ],
   "metadata": {
    "collapsed": false
   }
  },
  {
   "cell_type": "code",
   "execution_count": null,
   "outputs": [],
   "source": [
    "container = ALL_TESTS[1]['container']\n",
    "shapes = ALL_TESTS[1]['shapes']"
   ],
   "metadata": {
    "collapsed": false
   }
  },
  {
   "cell_type": "code",
   "execution_count": null,
   "outputs": [],
   "source": [
    "%%time\n",
    "packer = IrregularPackerLSIntensification(\n",
    "    container,\n",
    "    shapes,\n",
    "    intersection_threshold=40,\n",
    "    max_iter=1000,\n",
    "    shots=1,\n",
    "    n_neighbors=12,\n",
    "    step_portion=8,\n",
    "    n_rotations=16,\n",
    "    queue_length=3,\n",
    "    n_search=10\n",
    ")\n",
    "df_sol = packer.pack()"
   ],
   "metadata": {
    "collapsed": false
   }
  },
  {
   "cell_type": "code",
   "execution_count": null,
   "outputs": [],
   "source": [
    "print('Number of items:', len(df_sol), '- Score:', round(packer.score(), 3))\n",
    "GeometryCollection([container, *df_sol['item']])"
   ],
   "metadata": {
    "collapsed": false
   }
  },
  {
   "cell_type": "code",
   "execution_count": null,
   "outputs": [],
   "source": [
    "container = ALL_TESTS[2]['container']\n",
    "shapes = ALL_TESTS[2]['shapes']"
   ],
   "metadata": {
    "collapsed": false
   }
  },
  {
   "cell_type": "code",
   "execution_count": null,
   "outputs": [],
   "source": [
    "%%time\n",
    "packer = IrregularPackerLSIntensification(\n",
    "    container,\n",
    "    shapes,\n",
    "    intersection_threshold=40,\n",
    "    max_iter=1000,\n",
    "    shots=1,\n",
    "    n_neighbors=12,\n",
    "    step_portion=2,\n",
    "    n_rotations=32,\n",
    "    queue_length=3,\n",
    "    n_search=10\n",
    ")\n",
    "df_sol = packer.pack()"
   ],
   "metadata": {
    "collapsed": false
   }
  },
  {
   "cell_type": "code",
   "execution_count": null,
   "outputs": [],
   "source": [
    "print('Number of items:', len(df_sol), '- Score:', round(packer.score(), 3))\n",
    "GeometryCollection([container, *df_sol['item']])"
   ],
   "metadata": {
    "collapsed": false
   }
  },
  {
   "cell_type": "code",
   "execution_count": null,
   "outputs": [],
   "source": [
    "container = ALL_TESTS[3]['container']\n",
    "shapes = ALL_TESTS[3]['shapes']"
   ],
   "metadata": {
    "collapsed": false
   }
  },
  {
   "cell_type": "code",
   "execution_count": null,
   "outputs": [],
   "source": [
    "%%time\n",
    "packer = IrregularPackerLSIntensification(\n",
    "    container,\n",
    "    shapes,\n",
    "    intersection_threshold=40,\n",
    "    max_iter=1000,\n",
    "    shots=1,\n",
    "    n_neighbors=16,\n",
    "    step_portion=8,\n",
    "    queue_length=3,\n",
    "    n_rotations=32,\n",
    "    n_search=10\n",
    ")\n",
    "df_sol = packer.pack()"
   ],
   "metadata": {
    "collapsed": false
   }
  },
  {
   "cell_type": "code",
   "execution_count": null,
   "outputs": [],
   "source": [
    "print('Number of items:', len(df_sol), '- Score:', round(packer.score(), 3))\n",
    "GeometryCollection([container, *df_sol['item']])"
   ],
   "metadata": {
    "collapsed": false
   }
  },
  {
   "cell_type": "code",
   "execution_count": null,
   "outputs": [],
   "source": [
    "container = ALL_TESTS[4]['container']\n",
    "shapes = ALL_TESTS[4]['shapes']"
   ],
   "metadata": {
    "collapsed": false
   }
  },
  {
   "cell_type": "code",
   "execution_count": null,
   "outputs": [],
   "source": [
    "%%time\n",
    "packer = IrregularPackerLSIntensification(\n",
    "    container,\n",
    "    shapes,\n",
    "    intersection_threshold=40,\n",
    "    max_iter=1000,\n",
    "    shots=3,\n",
    "    n_neighbors=5,\n",
    "    step_portion=8,\n",
    "    queue_length=3,\n",
    "    n_rotations=32,\n",
    "    n_search=10\n",
    ")\n",
    "df_sol = packer.pack()"
   ],
   "metadata": {
    "collapsed": false
   }
  },
  {
   "cell_type": "code",
   "execution_count": null,
   "outputs": [],
   "source": [
    "print('Number of items:', len(df_sol), '- Score:', round(packer.score(), 3))\n",
    "GeometryCollection([container, *df_sol['item']])"
   ],
   "metadata": {
    "collapsed": false
   }
  },
  {
   "cell_type": "code",
   "execution_count": null,
   "outputs": [],
   "source": [
    "container = ALL_TESTS[5]['container']\n",
    "shapes = ALL_TESTS[5]['shapes']"
   ],
   "metadata": {
    "collapsed": false
   }
  },
  {
   "cell_type": "code",
   "execution_count": null,
   "outputs": [],
   "source": [
    "%%time\n",
    "packer = IrregularPackerLSIntensification(\n",
    "    container,\n",
    "    shapes,\n",
    "    intersection_threshold=40,\n",
    "    max_iter=1000,\n",
    "    shots=1,\n",
    "    n_neighbors=16,\n",
    "    step_portion=8,\n",
    "    queue_length=3,\n",
    "    n_rotations=32,\n",
    "    n_search=10\n",
    ")\n",
    "df_sol = packer.pack()"
   ],
   "metadata": {
    "collapsed": false
   }
  },
  {
   "cell_type": "code",
   "execution_count": null,
   "outputs": [],
   "source": [
    "print('Number of items:', len(df_sol), '- Score:', round(packer.score(), 3))\n",
    "GeometryCollection([container, *df_sol['item']])"
   ],
   "metadata": {
    "collapsed": false
   }
  },
  {
   "cell_type": "code",
   "execution_count": null,
   "outputs": [],
   "source": [
    "container = ALL_TESTS[6]['container']\n",
    "shapes = ALL_TESTS[6]['shapes']"
   ],
   "metadata": {
    "collapsed": false
   }
  },
  {
   "cell_type": "code",
   "execution_count": null,
   "outputs": [],
   "source": [
    "%%time\n",
    "packer = IrregularPackerLSIntensification(\n",
    "    container,\n",
    "    shapes,\n",
    "    intersection_threshold=40,\n",
    "    max_iter=1000,\n",
    "    shots=1,\n",
    "    n_neighbors=8,\n",
    "    step_portion=2,\n",
    "    queue_length=10,\n",
    "    n_rotations=32,\n",
    "    n_search=10\n",
    ")\n",
    "df_sol = packer.pack()"
   ],
   "metadata": {
    "collapsed": false
   }
  },
  {
   "cell_type": "code",
   "execution_count": null,
   "outputs": [],
   "source": [
    "print('Number of items:', len(df_sol), '- Score:', round(packer.score(), 3))\n",
    "GeometryCollection([container, *df_sol['item']])"
   ],
   "metadata": {
    "collapsed": false
   }
  },
  {
   "cell_type": "code",
   "execution_count": null,
   "outputs": [],
   "source": [
    "container = ALL_TESTS[7]['container']\n",
    "shapes = ALL_TESTS[7]['shapes']"
   ],
   "metadata": {
    "collapsed": false
   }
  },
  {
   "cell_type": "code",
   "execution_count": null,
   "outputs": [],
   "source": [
    "%%time\n",
    "packer = IrregularPackerLSIntensification(\n",
    "    container,\n",
    "    shapes,\n",
    "    intersection_threshold=40,\n",
    "    max_iter=1000,\n",
    "    shots=1,\n",
    "    n_neighbors=16,\n",
    "    step_portion=8,\n",
    "    queue_length=3,\n",
    "    n_rotations=32,\n",
    "    n_search=10\n",
    ")\n",
    "df_sol = packer.pack()"
   ],
   "metadata": {
    "collapsed": false
   }
  },
  {
   "cell_type": "code",
   "execution_count": null,
   "outputs": [],
   "source": [
    "print('Number of items:', len(df_sol), '- Score:', round(packer.score(), 3))\n",
    "GeometryCollection([container, *df_sol['item']])"
   ],
   "metadata": {
    "collapsed": false
   }
  },
  {
   "cell_type": "code",
   "execution_count": null,
   "outputs": [],
   "source": [],
   "metadata": {
    "collapsed": false
   }
  }
 ],
 "metadata": {
  "kernelspec": {
   "display_name": "Python 3",
   "language": "python",
   "name": "python3"
  },
  "language_info": {
   "codemirror_mode": {
    "name": "ipython",
    "version": 2
   },
   "file_extension": ".py",
   "mimetype": "text/x-python",
   "name": "python",
   "nbconvert_exporter": "python",
   "pygments_lexer": "ipython2",
   "version": "2.7.6"
  }
 },
 "nbformat": 4,
 "nbformat_minor": 0
}
