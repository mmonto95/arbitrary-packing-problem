{
 "cells": [
  {
   "cell_type": "code",
   "execution_count": null,
   "outputs": [],
   "source": [
    "%env DISABLE_PROGRESS_BAR=True"
   ],
   "metadata": {
    "collapsed": false
   }
  },
  {
   "cell_type": "code",
   "execution_count": null,
   "metadata": {},
   "outputs": [],
   "source": [
    "import json\n",
    "import numpy as np\n",
    "from shapely.geometry import shape, box, GeometryCollection, Polygon\n",
    "from shapely.affinity import scale\n",
    "from packer import IrregularPackerStrictGBFLS, CirclePackerBeeLS, CirclePackerBee, CirclePackerBeeStrict, CirclePackerPSO, IrregularPacker, IrregularPackerGridBF, IrregularPackerGBFLS, IrregularPackerPSO, CirclePackerBeeStrictLS, CirclePackerStrictPSO, IrregularPackerStrictGridBF, IrregularPackerStrictPSO, IrregularPackerPSOLS, IrregularPackerStrictPSOLS, CirclePackerPSOLS, CirclePackerStrictPSOLS"
   ]
  },
  {
   "cell_type": "code",
   "execution_count": null,
   "outputs": [],
   "source": [
    "container = box(-2, -2, 4, 2)"
   ],
   "metadata": {
    "collapsed": false
   }
  },
  {
   "cell_type": "code",
   "execution_count": null,
   "outputs": [],
   "source": [
    "with open('../shapes/random_polygons.json', 'r') as f:\n",
    "    shapes = json.load(f)\n",
    "    shapes = [shape(s) for s in shapes]"
   ],
   "metadata": {
    "collapsed": false
   }
  },
  {
   "cell_type": "code",
   "execution_count": null,
   "outputs": [],
   "source": [
    "radius = 0.5"
   ],
   "metadata": {
    "collapsed": false
   }
  },
  {
   "cell_type": "code",
   "execution_count": null,
   "outputs": [],
   "source": [
    "packer = IrregularPackerStrictGBFLS(container, shapes, n_rotations=1, n_search=10)\n",
    "df = packer.pack()\n",
    "GeometryCollection([container, *df['item']])"
   ],
   "metadata": {
    "collapsed": false
   }
  },
  {
   "cell_type": "markdown",
   "source": [
    "# Relaxed Circle Packing - Rectangular container"
   ],
   "metadata": {
    "collapsed": false
   }
  },
  {
   "cell_type": "code",
   "execution_count": null,
   "outputs": [],
   "source": [
    "%%time\n",
    "packer = CirclePackerBee(container, radius)\n",
    "df = packer.pack()"
   ],
   "metadata": {
    "collapsed": false
   }
  },
  {
   "cell_type": "code",
   "execution_count": null,
   "outputs": [],
   "source": [
    "print('Number of circles:', len(df), '- Score:', round(packer.score(), 3))\n",
    "GeometryCollection([container, *df['item']])"
   ],
   "metadata": {
    "collapsed": false
   }
  },
  {
   "cell_type": "code",
   "execution_count": null,
   "outputs": [],
   "source": [
    "%%time\n",
    "packer = CirclePackerBeeLS(container, radius, n_search=10)\n",
    "df = packer.pack()"
   ],
   "metadata": {
    "collapsed": false
   }
  },
  {
   "cell_type": "code",
   "execution_count": null,
   "outputs": [],
   "source": [
    "print('Number of circles:', len(df), '- Score:', round(packer.score(), 3))\n",
    "GeometryCollection([container, *df['item']])"
   ],
   "metadata": {
    "collapsed": false
   }
  },
  {
   "cell_type": "code",
   "execution_count": null,
   "outputs": [],
   "source": [
    "%%time\n",
    "packer = CirclePackerBeeLS(container, radius, n_search=1000)\n",
    "df = packer.pack()"
   ],
   "metadata": {
    "collapsed": false
   }
  },
  {
   "cell_type": "code",
   "execution_count": null,
   "outputs": [],
   "source": [
    "print('Number of circles:', len(df), '- Score:', round(packer.score(), 3))\n",
    "GeometryCollection([container, *df['item']])"
   ],
   "metadata": {
    "collapsed": false
   }
  },
  {
   "cell_type": "code",
   "execution_count": null,
   "outputs": [],
   "source": [
    "%%time\n",
    "packer = CirclePackerPSO(container, radius)\n",
    "packer.pack()"
   ],
   "metadata": {
    "collapsed": false
   }
  },
  {
   "cell_type": "code",
   "execution_count": null,
   "outputs": [],
   "source": [
    "print('Number of circles:', len(packer.global_optimum_position), '- Score:', round(packer.global_optimum, 3))\n",
    "GeometryCollection([container, *packer.global_optimum_position['item']])"
   ],
   "metadata": {
    "collapsed": false
   }
  },
  {
   "cell_type": "code",
   "execution_count": null,
   "outputs": [],
   "source": [
    "%%time\n",
    "packer = CirclePackerPSO(container, radius, n_circle_iter=15)\n",
    "packer.pack()"
   ],
   "metadata": {
    "collapsed": false
   }
  },
  {
   "cell_type": "code",
   "execution_count": null,
   "outputs": [],
   "source": [
    "print('Number of circles:', len(packer.global_optimum_position), '- Score:', round(packer.global_optimum, 3))\n",
    "GeometryCollection([container, *packer.global_optimum_position['item']])"
   ],
   "metadata": {
    "collapsed": false
   }
  },
  {
   "cell_type": "code",
   "execution_count": null,
   "outputs": [],
   "source": [
    "%%time\n",
    "packer = CirclePackerPSO(container, radius, n_circle_iter=4, n_particles=20, n_iterations=30)\n",
    "packer.pack()"
   ],
   "metadata": {
    "collapsed": false
   }
  },
  {
   "cell_type": "code",
   "execution_count": null,
   "outputs": [],
   "source": [
    "print('Number of circles:', len(packer.global_optimum_position), '- Score:', round(packer.global_optimum, 3))\n",
    "GeometryCollection([container, *packer.global_optimum_position['item']])"
   ],
   "metadata": {
    "collapsed": false
   }
  },
  {
   "cell_type": "code",
   "execution_count": null,
   "outputs": [],
   "source": [
    "%%time\n",
    "packer = CirclePackerPSO(container, radius, n_circle_iter=15, n_particles=20, n_iterations=30)\n",
    "packer.pack()"
   ],
   "metadata": {
    "collapsed": false
   }
  },
  {
   "cell_type": "code",
   "execution_count": null,
   "outputs": [],
   "source": [
    "print('Number of circles:', len(packer.global_optimum_position), '- Score:', round(packer.global_optimum, 3))\n",
    "GeometryCollection([container, *packer.global_optimum_position['item']])"
   ],
   "metadata": {
    "collapsed": false
   }
  },
  {
   "cell_type": "code",
   "execution_count": null,
   "outputs": [],
   "source": [
    "%%time\n",
    "packer = CirclePackerPSOLS(container, radius, n_circle_iter=4, n_particles=20, n_iterations=30)\n",
    "packer.pack()"
   ],
   "metadata": {
    "collapsed": false
   }
  },
  {
   "cell_type": "code",
   "execution_count": null,
   "outputs": [],
   "source": [
    "print('Number of circles:', len(packer.global_optimum_position), '- Score:', round(packer.global_optimum, 3))\n",
    "GeometryCollection([container, *packer.global_optimum_position['item']])"
   ],
   "metadata": {
    "collapsed": false
   }
  },
  {
   "cell_type": "code",
   "execution_count": null,
   "outputs": [],
   "source": [
    "%%time\n",
    "packer = CirclePackerPSOLS(container, radius, n_circle_iter=15, n_particles=20, n_iterations=30)\n",
    "packer.pack()"
   ],
   "metadata": {
    "collapsed": false
   }
  },
  {
   "cell_type": "code",
   "execution_count": null,
   "outputs": [],
   "source": [
    "print('Number of circles:', len(packer.global_optimum_position), '- Score:', round(packer.global_optimum, 3))\n",
    "GeometryCollection([container, *packer.global_optimum_position['item']])"
   ],
   "metadata": {
    "collapsed": false
   }
  },
  {
   "cell_type": "markdown",
   "source": [
    "# Relaxed Irregular Score"
   ],
   "metadata": {
    "collapsed": false
   }
  },
  {
   "cell_type": "code",
   "execution_count": null,
   "outputs": [],
   "source": [
    "%%time\n",
    "packer = IrregularPackerGridBF(container, shapes, n_rotations=1, n_neighbors=12, step_portion=16)\n",
    "df = packer.pack()"
   ],
   "metadata": {
    "collapsed": false
   }
  },
  {
   "cell_type": "code",
   "execution_count": null,
   "outputs": [],
   "source": [
    "print('Number of pieces:', len(df), '- Score:', round(packer.score(), 3))\n",
    "GeometryCollection([container, *df['item']])"
   ],
   "metadata": {
    "collapsed": false
   }
  },
  {
   "cell_type": "code",
   "execution_count": null,
   "outputs": [],
   "source": [
    "%%time\n",
    "packer = IrregularPackerGBFLS(container, shapes, n_rotations=1, n_neighbors=12, step_portion=16, n_search=50)\n",
    "df = packer.pack()"
   ],
   "metadata": {
    "collapsed": false
   }
  },
  {
   "cell_type": "code",
   "execution_count": null,
   "outputs": [],
   "source": [
    "print('Number of pieces:', len(df), '- Score:', round(packer.score(), 3))\n",
    "GeometryCollection([container, *df['item']])"
   ],
   "metadata": {
    "collapsed": false
   }
  },
  {
   "cell_type": "code",
   "execution_count": null,
   "outputs": [],
   "source": [
    "%%time\n",
    "packer = IrregularPackerPSO(container, shapes, n_particles=10, n_iterations=10)\n",
    "packer.pack()"
   ],
   "metadata": {
    "collapsed": false
   }
  },
  {
   "cell_type": "code",
   "execution_count": null,
   "outputs": [],
   "source": [
    "print('Number of pieces:', len(packer.global_optimum_position), '- Score:', round(packer.global_optimum, 3))\n",
    "GeometryCollection([container, *packer.global_optimum_position['item']])"
   ],
   "metadata": {
    "collapsed": false
   }
  },
  {
   "cell_type": "code",
   "execution_count": null,
   "outputs": [],
   "source": [
    "%%time\n",
    "packer = IrregularPackerPSOLS(container, shapes, n_particles=10, n_iterations=10)\n",
    "packer.pack()"
   ],
   "metadata": {
    "collapsed": false
   }
  },
  {
   "cell_type": "code",
   "execution_count": null,
   "outputs": [],
   "source": [
    "print('Number of pieces:', len(packer.global_optimum_position), '- Score:', round(packer.global_optimum, 3))\n",
    "GeometryCollection([container, *packer.global_optimum_position['item']])"
   ],
   "metadata": {
    "collapsed": false
   }
  },
  {
   "cell_type": "markdown",
   "source": [
    "# Strict Circles Score"
   ],
   "metadata": {
    "collapsed": false
   }
  },
  {
   "cell_type": "code",
   "execution_count": null,
   "outputs": [],
   "source": [
    "%%time\n",
    "packer = CirclePackerBeeStrict(container, radius, intersection_threshold=40, n_neighbors=8, shots=5)\n",
    "df = packer.pack()"
   ],
   "metadata": {
    "collapsed": false
   }
  },
  {
   "cell_type": "code",
   "execution_count": null,
   "outputs": [],
   "source": [
    "print('Number of circles:', len(df), '- Score:', round(packer.score(), 3))\n",
    "GeometryCollection([container, *df['item']])"
   ],
   "metadata": {
    "collapsed": false
   }
  },
  {
   "cell_type": "code",
   "execution_count": null,
   "outputs": [],
   "source": [
    "%%time\n",
    "packer = CirclePackerBeeStrictLS(container, radius, intersection_threshold=40, n_neighbors=8, shots=5, n_search=100)\n",
    "df = packer.pack()"
   ],
   "metadata": {
    "collapsed": false
   }
  },
  {
   "cell_type": "code",
   "execution_count": null,
   "outputs": [],
   "source": [
    "print('Number of circles:', len(df), '- Score:', round(packer.score(), 3))\n",
    "GeometryCollection([container, *df['item']])"
   ],
   "metadata": {
    "collapsed": false
   }
  },
  {
   "cell_type": "code",
   "execution_count": null,
   "outputs": [],
   "source": [
    "%%time\n",
    "packer = CirclePackerStrictPSO(container, radius, w=0.5)\n",
    "packer.pack()"
   ],
   "metadata": {
    "collapsed": false
   }
  },
  {
   "cell_type": "code",
   "execution_count": null,
   "outputs": [],
   "source": [
    "_packer = packer.get_packer()\n",
    "df = _packer.drop_external(packer.global_optimum_position.copy())\n",
    "_packer.drop_intersected(df)\n",
    "print('Number of circles:', len(df), '- Score:', round(packer.global_optimum, 3))\n",
    "GeometryCollection([container, *df['item']])"
   ],
   "metadata": {
    "collapsed": false
   }
  },
  {
   "cell_type": "code",
   "execution_count": null,
   "outputs": [],
   "source": [
    "%%time\n",
    "packer = CirclePackerStrictPSO(container, radius, w=0.5, n_circle_iter=15)\n",
    "packer.pack()"
   ],
   "metadata": {
    "collapsed": false
   }
  },
  {
   "cell_type": "code",
   "execution_count": null,
   "outputs": [],
   "source": [
    "_packer = packer.get_packer()\n",
    "df = _packer.drop_external(packer.global_optimum_position.copy())\n",
    "_packer.drop_intersected(df)\n",
    "print('Number of circles:', len(df), '- Score:', round(packer.global_optimum, 3))\n",
    "GeometryCollection([container, *df['item']])"
   ],
   "metadata": {
    "collapsed": false
   }
  },
  {
   "cell_type": "code",
   "execution_count": null,
   "outputs": [],
   "source": [],
   "metadata": {
    "collapsed": false
   }
  },
  {
   "cell_type": "code",
   "execution_count": null,
   "outputs": [],
   "source": [
    "%%time\n",
    "packer = CirclePackerStrictPSOLS(container, radius, w=0.5)\n",
    "packer.pack()"
   ],
   "metadata": {
    "collapsed": false
   }
  },
  {
   "cell_type": "code",
   "execution_count": null,
   "outputs": [],
   "source": [
    "_packer = packer.get_packer()\n",
    "df = _packer.drop_external(packer.global_optimum_position.copy())\n",
    "_packer.drop_intersected(df)\n",
    "print('Number of circles:', len(df), '- Score:', round(packer.global_optimum, 3))\n",
    "GeometryCollection([container, *df['item']])"
   ],
   "metadata": {
    "collapsed": false
   }
  },
  {
   "cell_type": "code",
   "execution_count": null,
   "outputs": [],
   "source": [
    "%%time\n",
    "packer = CirclePackerStrictPSOLS(container, radius, w=0.5, n_circle_iter=15)\n",
    "packer.pack()"
   ],
   "metadata": {
    "collapsed": false
   }
  },
  {
   "cell_type": "code",
   "execution_count": null,
   "outputs": [],
   "source": [
    "_packer = packer.get_packer()\n",
    "df = _packer.drop_external(packer.global_optimum_position.copy())\n",
    "_packer.drop_intersected(df)\n",
    "print('Number of circles:', len(df), '- Score:', round(packer.global_optimum, 3))\n",
    "GeometryCollection([container, *df['item']])"
   ],
   "metadata": {
    "collapsed": false
   }
  },
  {
   "cell_type": "markdown",
   "source": [
    "# Strict Irregular Score"
   ],
   "metadata": {
    "collapsed": false
   }
  },
  {
   "cell_type": "code",
   "execution_count": null,
   "outputs": [],
   "source": [
    "%%time\n",
    "packer = IrregularPackerStrictGridBF(container, shapes, n_neighbors=10, step_portion=16, queue_length=20)\n",
    "df = packer.pack()"
   ],
   "metadata": {
    "collapsed": false
   }
  },
  {
   "cell_type": "code",
   "execution_count": null,
   "outputs": [],
   "source": [
    "print('Number of included items:', len(df), '- Score:', round(packer.score(), 3))\n",
    "GeometryCollection([container, *df['item']])"
   ],
   "metadata": {
    "collapsed": false
   }
  },
  {
   "cell_type": "code",
   "execution_count": null,
   "outputs": [],
   "source": [
    "%%time\n",
    "packer = IrregularPackerStrictGBFLS(container, shapes, n_neighbors=10, step_portion=16, queue_length=20,\n",
    "                                    n_search=1000)\n",
    "df = packer.pack()"
   ],
   "metadata": {
    "collapsed": false
   }
  },
  {
   "cell_type": "code",
   "execution_count": null,
   "outputs": [],
   "source": [
    "print('Number of included items:', len(df), '- Score:', round(packer.score(), 3))\n",
    "GeometryCollection([container, *df['item']])"
   ],
   "metadata": {
    "collapsed": false
   }
  },
  {
   "cell_type": "code",
   "execution_count": null,
   "outputs": [],
   "source": [
    "print('Number of included items:', 85, '- Score:', round(0.5877, 3))"
   ],
   "metadata": {
    "collapsed": false
   }
  },
  {
   "cell_type": "code",
   "execution_count": null,
   "outputs": [],
   "source": [
    "%%time\n",
    "packer = IrregularPackerStrictPSO(container, shapes, w=0.5)\n",
    "packer.pack()"
   ],
   "metadata": {
    "collapsed": false
   }
  },
  {
   "cell_type": "code",
   "execution_count": null,
   "outputs": [],
   "source": [
    "_packer = packer.get_packer()\n",
    "df = _packer.drop_external(packer.global_optimum_position.copy())\n",
    "_packer.drop_intersected(df)\n",
    "print('Number of items:', len(df), '- Score:', round(packer.global_optimum, 3))\n",
    "GeometryCollection([container, *df['item']])"
   ],
   "metadata": {
    "collapsed": false
   }
  },
  {
   "cell_type": "code",
   "execution_count": null,
   "outputs": [],
   "source": [
    "%%time\n",
    "packer = IrregularPackerStrictPSOLS(container, shapes, w=0.5)\n",
    "packer.particle_packer = IrregularPacker\n",
    "packer.pack()"
   ],
   "metadata": {
    "collapsed": false
   }
  },
  {
   "cell_type": "code",
   "execution_count": null,
   "outputs": [],
   "source": [
    "_packer = packer.get_packer()\n",
    "df = _packer.drop_external(packer.global_optimum_position.copy())\n",
    "_packer.drop_intersected(df)\n",
    "print('Number of items:', len(df), '- Score:', round(packer.global_optimum, 3))\n",
    "GeometryCollection([container, *df['item']])"
   ],
   "metadata": {
    "collapsed": false
   }
  },
  {
   "cell_type": "code",
   "execution_count": null,
   "outputs": [],
   "source": [
    "%%time\n",
    "packer = IrregularPackerStrictPSOLS(container, shapes, w=0.5)\n",
    "packer.particle_packer = IrregularPacker\n",
    "packer.pack()"
   ],
   "metadata": {
    "collapsed": false
   }
  },
  {
   "cell_type": "code",
   "execution_count": null,
   "outputs": [],
   "source": [
    "_packer = packer.get_packer()\n",
    "df = _packer.drop_external(packer.global_optimum_position.copy())\n",
    "_packer.drop_intersected(df)\n",
    "print('Number of items:', len(df), '- Score:', round(packer.global_optimum, 3))\n",
    "GeometryCollection([container, *df['item']])"
   ],
   "metadata": {
    "collapsed": false
   }
  },
  {
   "cell_type": "markdown",
   "source": [
    "# Random Container"
   ],
   "metadata": {
    "collapsed": false
   }
  },
  {
   "cell_type": "code",
   "execution_count": null,
   "outputs": [],
   "source": [
    "while True:\n",
    "    container = Polygon(np.random.uniform(-10, 10, (np.random.randint(6, 10), 2)))\n",
    "    if container.is_valid:\n",
    "        break"
   ],
   "metadata": {
    "collapsed": false
   }
  },
  {
   "cell_type": "code",
   "execution_count": null,
   "outputs": [],
   "source": [
    "container"
   ],
   "metadata": {
    "collapsed": false
   }
  },
  {
   "cell_type": "markdown",
   "source": [
    "# Relaxed Circle Packing"
   ],
   "metadata": {
    "collapsed": false
   }
  },
  {
   "cell_type": "code",
   "execution_count": null,
   "outputs": [],
   "source": [
    "%%time\n",
    "packer = CirclePackerBee(container, radius, shots=5, step_portion=8)\n",
    "df = packer.pack()"
   ],
   "metadata": {
    "collapsed": false
   }
  },
  {
   "cell_type": "code",
   "execution_count": null,
   "outputs": [],
   "source": [
    "print('Number of circles:', len(df), '- Score:', round(packer.score(), 3))\n",
    "GeometryCollection([container, *df['item']])"
   ],
   "metadata": {
    "collapsed": false
   }
  },
  {
   "cell_type": "code",
   "execution_count": null,
   "outputs": [],
   "source": [
    "%%time\n",
    "packer = CirclePackerBeeLS(container, radius, shots=5, step_portion=8, n_search=10)\n",
    "df = packer.pack()"
   ],
   "metadata": {
    "collapsed": false
   }
  },
  {
   "cell_type": "code",
   "execution_count": null,
   "outputs": [],
   "source": [
    "print('Number of circles:', len(df), '- Score:', round(packer.score(), 3))\n",
    "GeometryCollection([container, *df['item']])"
   ],
   "metadata": {
    "collapsed": false
   }
  },
  {
   "cell_type": "code",
   "execution_count": null,
   "outputs": [],
   "source": [
    "%%time\n",
    "packer = CirclePackerBeeLS(container, radius, shots=5, step_portion=8, n_search=1000)\n",
    "df = packer.pack()"
   ],
   "metadata": {
    "collapsed": false
   }
  },
  {
   "cell_type": "code",
   "execution_count": null,
   "outputs": [],
   "source": [
    "print('Number of circles:', len(df), '- Score:', round(packer.score(), 3))\n",
    "GeometryCollection([container, *df['item']])"
   ],
   "metadata": {
    "collapsed": false
   }
  },
  {
   "cell_type": "code",
   "execution_count": null,
   "outputs": [],
   "source": [
    "%%time\n",
    "packer = CirclePackerPSO(container, radius, n_circle_iter=15, n_particles=20, n_iterations=30)\n",
    "packer.pack()"
   ],
   "metadata": {
    "collapsed": false
   }
  },
  {
   "cell_type": "code",
   "execution_count": null,
   "outputs": [],
   "source": [
    "print('Number of circles:', len(packer.global_optimum_position), '- Score:', round(packer.global_optimum, 3))\n",
    "GeometryCollection([container, *packer.global_optimum_position['item']])"
   ],
   "metadata": {
    "collapsed": false
   }
  },
  {
   "cell_type": "code",
   "execution_count": null,
   "outputs": [],
   "source": [
    "%%time\n",
    "packer = CirclePackerPSOLS(container, radius, n_circle_iter=15, n_particles=20, n_iterations=30)\n",
    "packer.pack()"
   ],
   "metadata": {
    "collapsed": false
   }
  },
  {
   "cell_type": "code",
   "execution_count": null,
   "outputs": [],
   "source": [
    "print('Number of circles:', len(packer.global_optimum_position), '- Score:', round(packer.global_optimum, 3))\n",
    "GeometryCollection([container, *packer.global_optimum_position['item']])"
   ],
   "metadata": {
    "collapsed": false
   }
  },
  {
   "cell_type": "markdown",
   "source": [
    "# Relaxed Irregular Score"
   ],
   "metadata": {
    "collapsed": false
   }
  },
  {
   "cell_type": "code",
   "execution_count": null,
   "outputs": [],
   "source": [
    "irregular_container = scale(container, 0.33, 0.33)\n",
    "irregular_container"
   ],
   "metadata": {
    "collapsed": false
   }
  },
  {
   "cell_type": "code",
   "execution_count": null,
   "outputs": [],
   "source": [
    "%%time\n",
    "packer = IrregularPackerGridBF(irregular_container, shapes, n_rotations=1, n_neighbors=12, step_portion=16)\n",
    "df = packer.pack()"
   ],
   "metadata": {
    "collapsed": false
   }
  },
  {
   "cell_type": "code",
   "execution_count": null,
   "outputs": [],
   "source": [
    "print('Number of pieces:', len(df), '- Score:', round(packer.score(), 3))\n",
    "GeometryCollection([irregular_container, *df['item']])"
   ],
   "metadata": {
    "collapsed": false
   }
  },
  {
   "cell_type": "code",
   "execution_count": null,
   "outputs": [],
   "source": [
    "%%time\n",
    "packer = IrregularPackerGBFLS(irregular_container, shapes, n_rotations=1, n_neighbors=12, step_portion=16, n_search=50)\n",
    "df = packer.pack()"
   ],
   "metadata": {
    "collapsed": false
   }
  },
  {
   "cell_type": "code",
   "execution_count": null,
   "outputs": [],
   "source": [
    "print('Number of pieces:', len(df), '- Score:', round(packer.score(), 3))\n",
    "GeometryCollection([irregular_container, *df['item']])"
   ],
   "metadata": {
    "collapsed": false
   }
  },
  {
   "cell_type": "code",
   "execution_count": null,
   "outputs": [],
   "source": [
    "%%time\n",
    "packer = IrregularPackerPSO(irregular_container, shapes, n_particles=10, n_iterations=10)\n",
    "packer.pack()"
   ],
   "metadata": {
    "collapsed": false
   }
  },
  {
   "cell_type": "code",
   "execution_count": null,
   "outputs": [],
   "source": [
    "print('Number of pieces:', len(packer.global_optimum_position), '- Score:', round(packer.global_optimum, 3))\n",
    "GeometryCollection([irregular_container, *packer.global_optimum_position['item']])"
   ],
   "metadata": {
    "collapsed": false
   }
  },
  {
   "cell_type": "code",
   "execution_count": null,
   "outputs": [],
   "source": [
    "%%time\n",
    "packer = IrregularPackerPSOLS(irregular_container, shapes, n_particles=10, n_iterations=10)\n",
    "packer.pack()"
   ],
   "metadata": {
    "collapsed": false
   }
  },
  {
   "cell_type": "code",
   "execution_count": null,
   "outputs": [],
   "source": [
    "print('Number of pieces:', len(packer.global_optimum_position), '- Score:', round(packer.global_optimum, 3))\n",
    "GeometryCollection([irregular_container, *packer.global_optimum_position['item']])"
   ],
   "metadata": {
    "collapsed": false
   }
  },
  {
   "cell_type": "markdown",
   "source": [
    "# Strict Circles Score"
   ],
   "metadata": {
    "collapsed": false
   }
  },
  {
   "cell_type": "code",
   "execution_count": null,
   "outputs": [],
   "source": [
    "%%time\n",
    "packer = CirclePackerBeeStrict(container, radius, intersection_threshold=40, n_neighbors=8, shots=5)\n",
    "df = packer.pack()"
   ],
   "metadata": {
    "collapsed": false
   }
  },
  {
   "cell_type": "code",
   "execution_count": null,
   "outputs": [],
   "source": [
    "print('Number of circles:', len(df), '- Score:', round(packer.score(), 3))\n",
    "GeometryCollection([container, *df['item']])"
   ],
   "metadata": {
    "collapsed": false
   }
  },
  {
   "cell_type": "code",
   "execution_count": null,
   "outputs": [],
   "source": [
    "%%time\n",
    "packer = CirclePackerBeeStrictLS(container, radius, intersection_threshold=40, n_neighbors=8, shots=5, n_search=100)\n",
    "df = packer.pack()"
   ],
   "metadata": {
    "collapsed": false
   }
  },
  {
   "cell_type": "code",
   "execution_count": null,
   "outputs": [],
   "source": [
    "print('Number of circles:', len(df), '- Score:', round(packer.score(), 3))\n",
    "GeometryCollection([container, *df['item']])"
   ],
   "metadata": {
    "collapsed": false
   }
  },
  {
   "cell_type": "code",
   "execution_count": null,
   "outputs": [],
   "source": [
    "%%time\n",
    "packer = CirclePackerStrictPSO(container, radius, w=0.5, n_circle_iter=15)\n",
    "packer.pack()"
   ],
   "metadata": {
    "collapsed": false
   }
  },
  {
   "cell_type": "code",
   "execution_count": null,
   "outputs": [],
   "source": [
    "_packer = packer.get_packer()\n",
    "df = _packer.drop_external(packer.global_optimum_position.copy())\n",
    "_packer.drop_intersected(df)\n",
    "print('Number of circles:', len(df), '- Score:', round(packer.global_optimum, 3))\n",
    "GeometryCollection([container, *df['item']])"
   ],
   "metadata": {
    "collapsed": false
   }
  },
  {
   "cell_type": "code",
   "execution_count": null,
   "outputs": [],
   "source": [
    "%%time\n",
    "packer = CirclePackerStrictPSOLS(container, radius, w=0.5, n_circle_iter=15)\n",
    "packer.pack()"
   ],
   "metadata": {
    "collapsed": false
   }
  },
  {
   "cell_type": "code",
   "execution_count": null,
   "outputs": [],
   "source": [
    "_packer = packer.get_packer()\n",
    "df = _packer.drop_external(packer.global_optimum_position.copy())\n",
    "_packer.drop_intersected(df)\n",
    "print('Number of circles:', len(df), '- Score:', round(packer.global_optimum, 3))\n",
    "GeometryCollection([container, *df['item']])"
   ],
   "metadata": {
    "collapsed": false
   }
  },
  {
   "cell_type": "code",
   "execution_count": null,
   "outputs": [],
   "source": [],
   "metadata": {
    "collapsed": false
   }
  },
  {
   "cell_type": "markdown",
   "source": [
    "# Strict Irregular Score"
   ],
   "metadata": {
    "collapsed": false
   }
  },
  {
   "cell_type": "code",
   "execution_count": null,
   "outputs": [],
   "source": [
    "%%time\n",
    "packer = IrregularPackerStrictGridBF(irregular_container, shapes, n_neighbors=10, step_portion=16, queue_length=20)\n",
    "df = packer.pack()"
   ],
   "metadata": {
    "collapsed": false
   }
  },
  {
   "cell_type": "code",
   "execution_count": null,
   "outputs": [],
   "source": [
    "print('Number of included items:', len(df), '- Score:', round(packer.score(), 3))\n",
    "GeometryCollection([irregular_container, *df['item']])"
   ],
   "metadata": {
    "collapsed": false
   }
  },
  {
   "cell_type": "code",
   "execution_count": null,
   "outputs": [],
   "source": [
    "%%time\n",
    "packer = IrregularPackerStrictGBFLS(irregular_container, shapes, n_neighbors=10, step_portion=16, queue_length=20,\n",
    "                                    n_search=1000)\n",
    "df = packer.pack()"
   ],
   "metadata": {
    "collapsed": false
   }
  },
  {
   "cell_type": "code",
   "execution_count": null,
   "outputs": [],
   "source": [
    "print('Number of included items:', len(df), '- Score:', round(packer.score(), 3))\n",
    "GeometryCollection([irregular_container, *df['item']])"
   ],
   "metadata": {
    "collapsed": false
   }
  },
  {
   "cell_type": "code",
   "execution_count": null,
   "outputs": [],
   "source": [
    "%%time\n",
    "packer = IrregularPackerStrictPSO(irregular_container, shapes, w=0.5)\n",
    "packer.pack()"
   ],
   "metadata": {
    "collapsed": false
   }
  },
  {
   "cell_type": "code",
   "execution_count": null,
   "outputs": [],
   "source": [
    "_packer = packer.get_packer()\n",
    "df = _packer.drop_external(packer.global_optimum_position.copy())\n",
    "_packer.drop_intersected(df)\n",
    "print('Number of items:', len(df), '- Score:', round(packer.global_optimum, 3))\n",
    "GeometryCollection([irregular_container, *df['item']])"
   ],
   "metadata": {
    "collapsed": false
   }
  },
  {
   "cell_type": "code",
   "execution_count": null,
   "outputs": [],
   "source": [
    "%%time\n",
    "packer = IrregularPackerStrictPSOLS(irregular_container, shapes, w=0.5)\n",
    "packer.particle_packer = IrregularPacker\n",
    "packer.pack()"
   ],
   "metadata": {
    "collapsed": false
   }
  },
  {
   "cell_type": "code",
   "execution_count": null,
   "outputs": [],
   "source": [
    "_packer = packer.get_packer()\n",
    "df = _packer.drop_external(packer.global_optimum_position.copy())\n",
    "_packer.drop_intersected(df)\n",
    "print('Number of items:', len(df), '- Score:', round(packer.global_optimum, 3))\n",
    "GeometryCollection([irregular_container, *df['item']])"
   ],
   "metadata": {
    "collapsed": false
   }
  },
  {
   "cell_type": "code",
   "execution_count": null,
   "outputs": [],
   "source": [],
   "metadata": {
    "collapsed": false
   }
  }
 ],
 "metadata": {
  "kernelspec": {
   "display_name": "Python 3 (ipykernel)",
   "language": "python",
   "name": "python3"
  },
  "language_info": {
   "codemirror_mode": {
    "name": "ipython",
    "version": 3
   },
   "file_extension": ".py",
   "mimetype": "text/x-python",
   "name": "python",
   "nbconvert_exporter": "python",
   "pygments_lexer": "ipython3",
   "version": "3.9.13"
  }
 },
 "nbformat": 4,
 "nbformat_minor": 1
}
