{
 "cells": [
  {
   "cell_type": "code",
   "execution_count": 1,
   "metadata": {
    "collapsed": true
   },
   "outputs": [],
   "source": [
    "from shapely.geometry import GeometryCollection\n",
    "\n",
    "from packer import IrregularPackerStrictGridBF\n",
    "from tests import ALL_TESTS"
   ]
  },
  {
   "cell_type": "code",
   "execution_count": 2,
   "outputs": [],
   "source": [
    "container = ALL_TESTS[0]['container']\n",
    "shapes = ALL_TESTS[0]['shapes']"
   ],
   "metadata": {
    "collapsed": false
   }
  },
  {
   "cell_type": "code",
   "execution_count": 5,
   "outputs": [
    {
     "name": "stdout",
     "output_type": "stream",
     "text": [
      "CPU times: user 13.2 s, sys: 63.1 ms, total: 13.2 s\n",
      "Wall time: 13.5 s\n"
     ]
    }
   ],
   "source": [
    "%%time\n",
    "packer = IrregularPackerStrictGridBF(\n",
    "    container,\n",
    "    shapes,\n",
    "    intersection_threshold=20,\n",
    "    max_iter=1000,\n",
    "    shots=10,\n",
    "    n_neighbors=16,\n",
    "    step_portion=16,\n",
    "    queue_length=5,\n",
    "    n_rotations=32\n",
    ")\n",
    "df_sol = packer.pack()"
   ],
   "metadata": {
    "collapsed": false
   }
  },
  {
   "cell_type": "code",
   "execution_count": 6,
   "outputs": [
    {
     "name": "stdout",
     "output_type": "stream",
     "text": [
      "Number of items: 1 - Score: 0.772\n"
     ]
    },
    {
     "data": {
      "text/plain": "<shapely.geometry.collection.GeometryCollection at 0x117633ac0>",
      "image/svg+xml": "<svg xmlns=\"http://www.w3.org/2000/svg\" xmlns:xlink=\"http://www.w3.org/1999/xlink\" width=\"400.0\" height=\"400.0\" viewBox=\"-0.56 -0.56 1.62 1.12\" preserveAspectRatio=\"xMinYMin meet\"><g transform=\"matrix(1,0,0,-1,0,0.0)\"><g><path fill-rule=\"evenodd\" fill=\"#66cc99\" stroke=\"#555555\" stroke-width=\"0.008100000000000001\" opacity=\"0.6\" d=\"M 1.0,-0.5 L 1.0,0.5 L -0.5,0.5 L -0.5,-0.5 L 1.0,-0.5 z\" /><path fill-rule=\"evenodd\" fill=\"#66cc99\" stroke=\"#555555\" stroke-width=\"0.008100000000000001\" opacity=\"0.6\" d=\"M 0.35543858253178157,-0.33762622399383385 L 0.09742202593980454,-0.23874779616375824 L -0.26941970146561,0.20253347402081595 L 0.6864115924049092,0.2520729264347761 L 0.6890570312787638,0.07362849166657437 L 0.35543858253178157,-0.33762622399383385 z\" /></g></g></svg>"
     },
     "execution_count": 6,
     "metadata": {},
     "output_type": "execute_result"
    }
   ],
   "source": [
    "print('Number of items:', len(df_sol), '- Score:', round(packer.score(), 3))\n",
    "GeometryCollection([container, *df_sol['item']])"
   ],
   "metadata": {
    "collapsed": false
   }
  },
  {
   "cell_type": "code",
   "execution_count": null,
   "outputs": [],
   "source": [
    "container = ALL_TESTS[1]['container']\n",
    "shapes = ALL_TESTS[1]['shapes']"
   ],
   "metadata": {
    "collapsed": false
   }
  },
  {
   "cell_type": "code",
   "execution_count": null,
   "outputs": [],
   "source": [
    "%%time\n",
    "packer = IrregularPackerStrictGridBF(\n",
    "    container,\n",
    "    shapes,\n",
    "    intersection_threshold=40,\n",
    "    max_iter=1000,\n",
    "    shots=3,\n",
    "    n_neighbors=8,\n",
    "    step_portion=8,\n",
    "    queue_length=5,\n",
    "    n_rotations=32\n",
    ")\n",
    "df_sol = packer.pack()"
   ],
   "metadata": {
    "collapsed": false
   }
  },
  {
   "cell_type": "code",
   "execution_count": null,
   "outputs": [],
   "source": [
    "print('Number of items:', len(df_sol), '- Score:', round(packer.score(), 3))\n",
    "GeometryCollection([container, *df_sol['item']])"
   ],
   "metadata": {
    "collapsed": false
   }
  },
  {
   "cell_type": "code",
   "execution_count": null,
   "outputs": [],
   "source": [
    "%%time\n",
    "packer = IrregularPackerStrictGridBF(\n",
    "    container,\n",
    "    shapes,\n",
    "    intersection_threshold=40,\n",
    "    max_iter=1000,\n",
    "    shots=3,\n",
    "    n_neighbors=8,\n",
    "    step_portion=8,\n",
    "    queue_length=5,\n",
    "    n_rotations=32\n",
    ")\n",
    "df_sol = packer.pack()"
   ],
   "metadata": {
    "collapsed": false
   }
  },
  {
   "cell_type": "code",
   "execution_count": null,
   "outputs": [],
   "source": [
    "print('Number of items:', len(df_sol), '- Score:', round(packer.score(), 3))\n",
    "GeometryCollection([container, *df_sol['item']])"
   ],
   "metadata": {
    "collapsed": false
   }
  },
  {
   "cell_type": "code",
   "execution_count": null,
   "outputs": [],
   "source": [
    "container = ALL_TESTS[2]['container']\n",
    "shapes = ALL_TESTS[2]['shapes']"
   ],
   "metadata": {
    "collapsed": false
   }
  },
  {
   "cell_type": "code",
   "execution_count": null,
   "outputs": [],
   "source": [
    "%%time\n",
    "packer = IrregularPackerStrictGridBF(\n",
    "    container,\n",
    "    shapes,\n",
    "    intersection_threshold=40,\n",
    "    max_iter=1000,\n",
    "    shots=3,\n",
    "    n_neighbors=8,\n",
    "    step_portion=8,\n",
    "    queue_length=5,\n",
    "    n_rotations=32\n",
    ")\n",
    "df_sol = packer.pack()"
   ],
   "metadata": {
    "collapsed": false
   }
  },
  {
   "cell_type": "code",
   "execution_count": null,
   "outputs": [],
   "source": [
    "print('Number of items:', len(df_sol), '- Score:', round(packer.score(), 3))\n",
    "GeometryCollection([container, *df_sol['item']])"
   ],
   "metadata": {
    "collapsed": false
   }
  },
  {
   "cell_type": "code",
   "execution_count": null,
   "outputs": [],
   "source": [
    "container = ALL_TESTS[3]['container']\n",
    "shapes = ALL_TESTS[3]['shapes']"
   ],
   "metadata": {
    "collapsed": false
   }
  },
  {
   "cell_type": "code",
   "execution_count": null,
   "outputs": [],
   "source": [
    "%%time\n",
    "packer = IrregularPackerStrictGridBF(\n",
    "    container,\n",
    "    shapes,\n",
    "    intersection_threshold=40,\n",
    "    max_iter=1000,\n",
    "    shots=3,\n",
    "    n_neighbors=8,\n",
    "    step_portion=8,\n",
    "    queue_length=5,\n",
    "    n_rotations=32\n",
    ")\n",
    "df_sol = packer.pack()"
   ],
   "metadata": {
    "collapsed": false
   }
  },
  {
   "cell_type": "code",
   "execution_count": null,
   "outputs": [],
   "source": [
    "print('Number of items:', len(df_sol), '- Score:', round(packer.score(), 3))\n",
    "GeometryCollection([container, *df_sol['item']])"
   ],
   "metadata": {
    "collapsed": false
   }
  },
  {
   "cell_type": "code",
   "execution_count": null,
   "outputs": [],
   "source": [
    "container = ALL_TESTS[4]['container']\n",
    "shapes = ALL_TESTS[4]['shapes']"
   ],
   "metadata": {
    "collapsed": false
   }
  },
  {
   "cell_type": "code",
   "execution_count": null,
   "outputs": [],
   "source": [
    "%%time\n",
    "packer = IrregularPackerStrictGridBF(\n",
    "    container,\n",
    "    shapes,\n",
    "    intersection_threshold=40,\n",
    "    max_iter=1000,\n",
    "    shots=3,\n",
    "    n_neighbors=8,\n",
    "    step_portion=8,\n",
    "    queue_length=5,\n",
    "    n_rotations=32\n",
    ")\n",
    "df_sol = packer.pack()"
   ],
   "metadata": {
    "collapsed": false
   }
  },
  {
   "cell_type": "code",
   "execution_count": null,
   "outputs": [],
   "source": [
    "print('Number of items:', len(df_sol), '- Score:', round(packer.score(), 3))\n",
    "GeometryCollection([container, *df_sol['item']])"
   ],
   "metadata": {
    "collapsed": false
   }
  },
  {
   "cell_type": "code",
   "execution_count": null,
   "outputs": [],
   "source": [
    "container = ALL_TESTS[5]['container']\n",
    "shapes = ALL_TESTS[5]['shapes']"
   ],
   "metadata": {
    "collapsed": false
   }
  },
  {
   "cell_type": "code",
   "execution_count": null,
   "outputs": [],
   "source": [
    "%%time\n",
    "packer = IrregularPackerStrictGridBF(\n",
    "    container,\n",
    "    shapes,\n",
    "    intersection_threshold=40,\n",
    "    max_iter=1000,\n",
    "    shots=3,\n",
    "    n_neighbors=8,\n",
    "    step_portion=8,\n",
    "    queue_length=5,\n",
    "    n_rotations=32\n",
    ")\n",
    "df_sol = packer.pack()"
   ],
   "metadata": {
    "collapsed": false
   }
  },
  {
   "cell_type": "code",
   "execution_count": null,
   "outputs": [],
   "source": [
    "print('Number of items:', len(df_sol), '- Score:', round(packer.score(), 3))\n",
    "GeometryCollection([container, *df_sol['item']])"
   ],
   "metadata": {
    "collapsed": false
   }
  },
  {
   "cell_type": "code",
   "execution_count": null,
   "outputs": [],
   "source": [
    "container = ALL_TESTS[6]['container']\n",
    "shapes = ALL_TESTS[6]['shapes']"
   ],
   "metadata": {
    "collapsed": false
   }
  },
  {
   "cell_type": "code",
   "execution_count": null,
   "outputs": [],
   "source": [
    "%%time\n",
    "packer = IrregularPackerStrictGridBF(\n",
    "    container,\n",
    "    shapes,\n",
    "    intersection_threshold=40,\n",
    "    max_iter=1000,\n",
    "    shots=3,\n",
    "    n_neighbors=8,\n",
    "    step_portion=8,\n",
    "    queue_length=5,\n",
    "    n_rotations=32\n",
    ")\n",
    "df_sol = packer.pack()"
   ],
   "metadata": {
    "collapsed": false
   }
  },
  {
   "cell_type": "code",
   "execution_count": null,
   "outputs": [],
   "source": [
    "print('Number of items:', len(df_sol), '- Score:', round(packer.score(), 3))\n",
    "GeometryCollection([container, *df_sol['item']])"
   ],
   "metadata": {
    "collapsed": false
   }
  },
  {
   "cell_type": "code",
   "execution_count": null,
   "outputs": [],
   "source": [
    "container = ALL_TESTS[7]['container']\n",
    "shapes = ALL_TESTS[7]['shapes']"
   ],
   "metadata": {
    "collapsed": false
   }
  },
  {
   "cell_type": "code",
   "execution_count": null,
   "outputs": [],
   "source": [
    "%%time\n",
    "packer = IrregularPackerStrictGridBF(\n",
    "    container,\n",
    "    shapes,\n",
    "    intersection_threshold=40,\n",
    "    max_iter=1000,\n",
    "    shots=3,\n",
    "    n_neighbors=8,\n",
    "    step_portion=8,\n",
    "    queue_length=5,\n",
    "    n_rotations=32\n",
    ")\n",
    "df_sol = packer.pack()"
   ],
   "metadata": {
    "collapsed": false
   }
  },
  {
   "cell_type": "code",
   "execution_count": null,
   "outputs": [],
   "source": [
    "print('Number of items:', len(df_sol), '- Score:', round(packer.score(), 3))\n",
    "GeometryCollection([container, *df_sol['item']])"
   ],
   "metadata": {
    "collapsed": false
   }
  },
  {
   "cell_type": "code",
   "execution_count": null,
   "outputs": [],
   "source": [],
   "metadata": {
    "collapsed": false
   }
  }
 ],
 "metadata": {
  "kernelspec": {
   "display_name": "Python 3",
   "language": "python",
   "name": "python3"
  },
  "language_info": {
   "codemirror_mode": {
    "name": "ipython",
    "version": 2
   },
   "file_extension": ".py",
   "mimetype": "text/x-python",
   "name": "python",
   "nbconvert_exporter": "python",
   "pygments_lexer": "ipython2",
   "version": "2.7.6"
  }
 },
 "nbformat": 4,
 "nbformat_minor": 0
}
