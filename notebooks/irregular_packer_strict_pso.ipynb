{
 "cells": [
  {
   "cell_type": "code",
   "execution_count": null,
   "outputs": [],
   "source": [
    "%env DISABLE_PROGRESS_BAR=True"
   ],
   "metadata": {
    "collapsed": false
   }
  },
  {
   "cell_type": "code",
   "execution_count": 1,
   "outputs": [],
   "source": [
    "from shapely.geometry import GeometryCollection\n",
    "\n",
    "from packer import IrregularPackerStrictPSO\n",
    "from tests import ALL_TESTS"
   ],
   "metadata": {
    "collapsed": false
   }
  },
  {
   "cell_type": "code",
   "execution_count": 2,
   "outputs": [],
   "source": [
    "container = ALL_TESTS[0]['container']\n",
    "shapes = ALL_TESTS[0]['shapes']"
   ],
   "metadata": {
    "collapsed": false
   }
  },
  {
   "cell_type": "code",
   "execution_count": 3,
   "outputs": [
    {
     "data": {
      "text/plain": "  0%|          | 0/10 [00:00<?, ?it/s]",
      "application/vnd.jupyter.widget-view+json": {
       "version_major": 2,
       "version_minor": 0,
       "model_id": "6ee9851b8d8e446db3da24731b734c5f"
      }
     },
     "metadata": {},
     "output_type": "display_data"
    },
    {
     "data": {
      "text/plain": "  0%|          | 0/10 [00:00<?, ?it/s]",
      "application/vnd.jupyter.widget-view+json": {
       "version_major": 2,
       "version_minor": 0,
       "model_id": "f877bb7857134e529e9b31b67870a68e"
      }
     },
     "metadata": {},
     "output_type": "display_data"
    },
    {
     "name": "stdout",
     "output_type": "stream",
     "text": [
      "CPU times: user 52.3 s, sys: 599 ms, total: 52.9 s\n",
      "Wall time: 53 s\n"
     ]
    }
   ],
   "source": [
    "%%time\n",
    "packer = IrregularPackerStrictPSO(\n",
    "    container,\n",
    "    shapes,\n",
    "    phi_p=1,\n",
    "    phi_g=1,\n",
    "    w=0.1,\n",
    "    n_particles=100,\n",
    "    n_iterations=20,\n",
    ")\n",
    "packer.pack()"
   ],
   "metadata": {
    "collapsed": false
   }
  },
  {
   "cell_type": "code",
   "execution_count": 4,
   "outputs": [
    {
     "name": "stdout",
     "output_type": "stream",
     "text": [
      "Number of circles: 6 - Score: 0.483\n"
     ]
    },
    {
     "data": {
      "text/plain": "<shapely.geometry.collection.GeometryCollection at 0x1063ae370>",
      "image/svg+xml": "<svg xmlns=\"http://www.w3.org/2000/svg\" xmlns:xlink=\"http://www.w3.org/1999/xlink\" width=\"400.0\" height=\"400.0\" viewBox=\"-0.760164421057967 -0.6830082010707855 2.1033246145170112 1.301352295385884\" preserveAspectRatio=\"xMinYMin meet\"><g transform=\"matrix(1,0,0,-1,0,-0.06466410675568701)\"><g><path fill-rule=\"evenodd\" fill=\"#66cc99\" stroke=\"#555555\" stroke-width=\"0.010516623072585057\" opacity=\"0.6\" d=\"M 1.0,-0.5 L 1.0,0.5 L -0.5,0.5 L -0.5,-0.5 L 1.0,-0.5 z\" /><path fill-rule=\"evenodd\" fill=\"#66cc99\" stroke=\"#555555\" stroke-width=\"0.010516623072585057\" opacity=\"0.6\" d=\"M -0.6822635094091888,0.22940083941642855 L -0.4087964205229295,-0.048786523793041006 L 0.08117532445524588,0.0039473244619224294 L -0.17682871811980622,0.3167909401140805 L -0.6822635094091888,0.22940083941642855 z\" /><path fill-rule=\"evenodd\" fill=\"#66cc99\" stroke=\"#555555\" stroke-width=\"0.010516623072585057\" opacity=\"0.6\" d=\"M 0.05689219297218182,-0.15901548569290133 L -0.3228501832846207,0.5075042465522674 L 0.10217508394051261,0.53451566834028 L 0.43540826866624105,-0.09734968822696113 L 0.05689219297218182,-0.15901548569290133 z\" /><path fill-rule=\"evenodd\" fill=\"#66cc99\" stroke=\"#555555\" stroke-width=\"0.010516623072585057\" opacity=\"0.6\" d=\"M 0.3125398565504422,0.4805517137689352 L 0.5893616629704973,0.5404431826663203 L 1.078003408335501,0.2675595079542926 L 0.8384524671722852,-0.038327023302945205 L 0.46208990755178214,-0.1352030850641064 L 0.3125398565504422,0.4805517137689352 z\" /><path fill-rule=\"evenodd\" fill=\"#66cc99\" stroke=\"#555555\" stroke-width=\"0.010516623072585057\" opacity=\"0.6\" d=\"M 1.0817341877584168,-0.54668264480296 L 0.8550687631427424,-0.5249289794398813 L 0.3555617775824784,-0.5431604090146299 L 1.0199278077698761,0.21187024292475845 L 1.2652592818102661,-0.3508685819929338 L 1.0817341877584168,-0.54668264480296 z\" /><path fill-rule=\"evenodd\" fill=\"#66cc99\" stroke=\"#555555\" stroke-width=\"0.010516623072585057\" opacity=\"0.6\" d=\"M 0.3116328559914747,0.039577845996860435 L -0.31129168009837066,0.19795923195537876 L -0.583743374585343,-0.1581463314438866 L -0.13210347830029184,-0.6051072894220073 L 0.3116328559914747,0.039577845996860435 z\" /><path fill-rule=\"evenodd\" fill=\"#66cc99\" stroke=\"#555555\" stroke-width=\"0.010516623072585057\" opacity=\"0.6\" d=\"M 0.44863844616767834,0.3327788287541894 L 0.7974441118575027,-0.4746474140092842 L 0.1333280039226709,-0.5093955309261393 L -0.0503854147410235,0.12132552419978443 L 0.09024628498866454,-0.05908741702005811 L 0.44863844616767834,0.3327788287541894 z\" /></g></g></svg>"
     },
     "execution_count": 4,
     "metadata": {},
     "output_type": "execute_result"
    }
   ],
   "source": [
    "_packer = packer.get_packer()\n",
    "df_sol = _packer.drop_external(packer.global_optimum_position.copy())\n",
    "_packer.drop_intersected(df_sol)\n",
    "print('Number of items:', len(df_sol), '- Score:', round(packer.global_optimum, 3))\n",
    "GeometryCollection([container, *df_sol['item']])"
   ],
   "metadata": {
    "collapsed": false
   }
  },
  {
   "cell_type": "code",
   "execution_count": 7,
   "outputs": [],
   "source": [
    "container = ALL_TESTS[1]['container']\n",
    "shapes = ALL_TESTS[1]['shapes']"
   ],
   "metadata": {
    "collapsed": false
   }
  },
  {
   "cell_type": "code",
   "execution_count": 8,
   "outputs": [
    {
     "name": "stdout",
     "output_type": "stream",
     "text": [
      "CPU times: user 1min 15s, sys: 2.38 s, total: 1min 17s\n",
      "Wall time: 1min 17s\n"
     ]
    }
   ],
   "source": [
    "%%time\n",
    "packer = IrregularPackerStrictPSO(\n",
    "    container,\n",
    "    shapes,\n",
    "    phi_p=1,\n",
    "    phi_g=1,\n",
    "    w=0.1,\n",
    "    n_particles=100,\n",
    "    n_iterations=20,\n",
    ")\n",
    "packer.pack()"
   ],
   "metadata": {
    "collapsed": false
   }
  },
  {
   "cell_type": "code",
   "execution_count": null,
   "outputs": [],
   "source": [
    "_packer = packer.get_packer()\n",
    "df_sol = _packer.drop_external(packer.global_optimum_position.copy())\n",
    "_packer.drop_intersected(df_sol)\n",
    "print('Number of items:', len(df_sol), '- Score:', round(packer.global_optimum, 3))\n",
    "GeometryCollection([container, *df_sol['item']])"
   ],
   "metadata": {
    "collapsed": false
   }
  },
  {
   "cell_type": "code",
   "execution_count": 2,
   "outputs": [],
   "source": [
    "container = ALL_TESTS[2]['container']\n",
    "shapes = ALL_TESTS[2]['shapes']"
   ],
   "metadata": {
    "collapsed": false
   }
  },
  {
   "cell_type": "code",
   "execution_count": null,
   "outputs": [],
   "source": [
    "%%time\n",
    "packer = IrregularPackerStrictPSO(\n",
    "    container,\n",
    "    shapes,\n",
    "    phi_p=1,\n",
    "    phi_g=1,\n",
    "    w=0.1,\n",
    "    n_particles=100,\n",
    "    n_iterations=20,\n",
    ")\n",
    "packer.pack()"
   ],
   "metadata": {
    "collapsed": false,
    "pycharm": {
     "is_executing": true
    }
   }
  },
  {
   "cell_type": "code",
   "execution_count": null,
   "outputs": [],
   "source": [
    "_packer = packer.get_packer()\n",
    "df_sol = _packer.drop_external(packer.global_optimum_position.copy())\n",
    "_packer.drop_intersected(df_sol)\n",
    "print('Number of items:', len(df_sol), '- Score:', round(packer.global_optimum, 3))\n",
    "GeometryCollection([container, *df_sol['item']])"
   ],
   "metadata": {
    "collapsed": false,
    "pycharm": {
     "is_executing": true
    }
   }
  },
  {
   "cell_type": "code",
   "execution_count": 5,
   "outputs": [],
   "source": [
    "container = ALL_TESTS[3]['container']\n",
    "shapes = ALL_TESTS[3]['shapes']"
   ],
   "metadata": {
    "collapsed": false
   }
  },
  {
   "cell_type": "code",
   "execution_count": null,
   "outputs": [],
   "source": [
    "%%time\n",
    "packer = IrregularPackerStrictPSO(\n",
    "    container,\n",
    "    shapes,\n",
    "    phi_p=1,\n",
    "    phi_g=1,\n",
    "    w=0.1,\n",
    "    n_particles=100,\n",
    "    n_iterations=20,\n",
    ")\n",
    "packer.pack()"
   ],
   "metadata": {
    "collapsed": false,
    "pycharm": {
     "is_executing": true
    }
   }
  },
  {
   "cell_type": "code",
   "execution_count": null,
   "outputs": [],
   "source": [
    "_packer = packer.get_packer()\n",
    "df_sol = _packer.drop_external(packer.global_optimum_position.copy())\n",
    "_packer.drop_intersected(df_sol)\n",
    "print('Number of items:', len(df_sol), '- Score:', round(packer.global_optimum, 3))\n",
    "GeometryCollection([container, *df_sol['item']])"
   ],
   "metadata": {
    "collapsed": false,
    "pycharm": {
     "is_executing": true
    }
   }
  },
  {
   "cell_type": "code",
   "execution_count": 8,
   "outputs": [],
   "source": [
    "container = ALL_TESTS[4]['container']\n",
    "shapes = ALL_TESTS[4]['shapes']"
   ],
   "metadata": {
    "collapsed": false
   }
  },
  {
   "cell_type": "code",
   "execution_count": null,
   "outputs": [],
   "source": [
    "%%time\n",
    "packer = IrregularPackerStrictPSO(\n",
    "    container,\n",
    "    shapes,\n",
    "    phi_p=1,\n",
    "    phi_g=1,\n",
    "    w=0.1,\n",
    "    n_particles=100,\n",
    "    n_iterations=20,\n",
    ")\n",
    "packer.pack()"
   ],
   "metadata": {
    "collapsed": false,
    "pycharm": {
     "is_executing": true
    }
   }
  },
  {
   "cell_type": "code",
   "execution_count": null,
   "outputs": [],
   "source": [
    "_packer = packer.get_packer()\n",
    "df_sol = _packer.drop_external(packer.global_optimum_position.copy())\n",
    "_packer.drop_intersected(df_sol)\n",
    "print('Number of items:', len(df_sol), '- Score:', round(packer.global_optimum, 3))\n",
    "GeometryCollection([container, *df_sol['item']])"
   ],
   "metadata": {
    "collapsed": false,
    "pycharm": {
     "is_executing": true
    }
   }
  },
  {
   "cell_type": "code",
   "execution_count": 11,
   "outputs": [],
   "source": [
    "container = ALL_TESTS[5]['container']\n",
    "shapes = ALL_TESTS[5]['shapes']"
   ],
   "metadata": {
    "collapsed": false
   }
  },
  {
   "cell_type": "code",
   "execution_count": null,
   "outputs": [],
   "source": [
    "%%time\n",
    "packer = IrregularPackerStrictPSO(\n",
    "    container,\n",
    "    shapes,\n",
    "    phi_p=1,\n",
    "    phi_g=1,\n",
    "    w=0.1,\n",
    "    n_particles=100,\n",
    "    n_iterations=20,\n",
    ")\n",
    "packer.pack()"
   ],
   "metadata": {
    "collapsed": false,
    "pycharm": {
     "is_executing": true
    }
   }
  },
  {
   "cell_type": "code",
   "execution_count": null,
   "outputs": [],
   "source": [
    "_packer = packer.get_packer()\n",
    "df_sol = _packer.drop_external(packer.global_optimum_position.copy())\n",
    "_packer.drop_intersected(df_sol)\n",
    "print('Number of items:', len(df_sol), '- Score:', round(packer.global_optimum, 3))\n",
    "GeometryCollection([container, *df_sol['item']])"
   ],
   "metadata": {
    "collapsed": false,
    "pycharm": {
     "is_executing": true
    }
   }
  },
  {
   "cell_type": "code",
   "execution_count": 14,
   "outputs": [],
   "source": [
    "container = ALL_TESTS[6]['container']\n",
    "shapes = ALL_TESTS[6]['shapes']"
   ],
   "metadata": {
    "collapsed": false
   }
  },
  {
   "cell_type": "code",
   "execution_count": null,
   "outputs": [],
   "source": [
    "%%time\n",
    "packer = IrregularPackerStrictPSO(\n",
    "    container,\n",
    "    shapes,\n",
    "    phi_p=1,\n",
    "    phi_g=1,\n",
    "    w=0.1,\n",
    "    n_particles=100,\n",
    "    n_iterations=20,\n",
    ")\n",
    "packer.pack()"
   ],
   "metadata": {
    "collapsed": false,
    "pycharm": {
     "is_executing": true
    }
   }
  },
  {
   "cell_type": "code",
   "execution_count": null,
   "outputs": [],
   "source": [
    "_packer = packer.get_packer()\n",
    "df_sol = _packer.drop_external(packer.global_optimum_position.copy())\n",
    "_packer.drop_intersected(df_sol)\n",
    "print('Number of items:', len(df_sol), '- Score:', round(packer.global_optimum, 3))\n",
    "GeometryCollection([container, *df_sol['item']])"
   ],
   "metadata": {
    "collapsed": false,
    "pycharm": {
     "is_executing": true
    }
   }
  },
  {
   "cell_type": "code",
   "execution_count": 17,
   "outputs": [],
   "source": [
    "container = ALL_TESTS[7]['container']\n",
    "shapes = ALL_TESTS[7]['shapes']"
   ],
   "metadata": {
    "collapsed": false
   }
  },
  {
   "cell_type": "code",
   "execution_count": null,
   "outputs": [],
   "source": [
    "%%time\n",
    "packer = IrregularPackerStrictPSO(\n",
    "    container,\n",
    "    shapes,\n",
    "    phi_p=1,\n",
    "    phi_g=1,\n",
    "    w=0.1,\n",
    "    n_particles=100,\n",
    "    n_iterations=20,\n",
    ")\n",
    "packer.pack()"
   ],
   "metadata": {
    "collapsed": false,
    "pycharm": {
     "is_executing": true
    }
   }
  },
  {
   "cell_type": "code",
   "execution_count": null,
   "outputs": [],
   "source": [
    "_packer = packer.get_packer()\n",
    "df_sol = _packer.drop_external(packer.global_optimum_position.copy())\n",
    "_packer.drop_intersected(df_sol)\n",
    "print('Number of items:', len(df_sol), '- Score:', round(packer.global_optimum, 3))\n",
    "GeometryCollection([container, *df_sol['item']])"
   ],
   "metadata": {
    "collapsed": false,
    "pycharm": {
     "is_executing": true
    }
   }
  },
  {
   "cell_type": "code",
   "execution_count": null,
   "outputs": [],
   "source": [],
   "metadata": {
    "collapsed": false
   }
  }
 ],
 "metadata": {
  "kernelspec": {
   "display_name": "Python 3",
   "language": "python",
   "name": "python3"
  },
  "language_info": {
   "codemirror_mode": {
    "name": "ipython",
    "version": 2
   },
   "file_extension": ".py",
   "mimetype": "text/x-python",
   "name": "python",
   "nbconvert_exporter": "python",
   "pygments_lexer": "ipython2",
   "version": "2.7.6"
  }
 },
 "nbformat": 4,
 "nbformat_minor": 0
}
